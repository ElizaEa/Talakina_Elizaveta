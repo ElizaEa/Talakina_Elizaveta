{
  "nbformat": 4,
  "nbformat_minor": 0,
  "metadata": {
    "colab": {
      "provenance": []
    },
    "kernelspec": {
      "name": "python3",
      "display_name": "Python 3"
    },
    "language_info": {
      "name": "python"
    }
  },
  "cells": [
    {
      "cell_type": "markdown",
      "source": [
        "**Напишите простую программу на Python, которая рассчитывает и выводит на экран среднюю доходность, стандартное отклонение и Sharpe Ratio для набора исторических данных о ценах акций.**"
      ],
      "metadata": {
        "id": "PqWds__qyKDm"
      }
    },
    {
      "cell_type": "code",
      "execution_count": null,
      "metadata": {
        "id": "ytAFv480yGyX"
      },
      "outputs": [],
      "source": [
        "\n",
        "import pandas as pd\n",
        "import numpy as np\n",
        "import yfinance as yf\n",
        "\n",
        "def mean_std_sharpe_(ticker, start_date, end_date, source, risk_free_rate=0.02):\n",
        "    if source == 'yahoo':\n",
        "        # Загрузка данных из Yahoo!\n",
        "        data = yf.download(ticker, start_date, end_date)\n",
        "    elif source == 'csv':\n",
        "        # Загрузка данных из CSV\n",
        "        data = pd.read_csv(f'data/{ticker}.csv', index_col='Date', parse_dates=True)\n",
        "        data = data.loc[start_date:end_date]\n",
        "    else:\n",
        "        raise ValueError(\"Неправильный источник данных. Используйте 'yahoo' или 'csv'.\")\n",
        "\n",
        "    data = data.dropna()\n",
        "    # Преобразование в одномерный массив\n",
        "    prices = data['Close'].to_numpy().flatten()\n",
        "    # Расчет доходностей\n",
        "    returns = pd.Series(prices).pct_change().dropna()\n",
        "    mean_return = np.mean(returns)\n",
        "    std_dev = np.std(returns)\n",
        "    sharpe_ratio = (mean_return - risk_free_rate) / std_dev\n",
        "\n",
        "    print('-' * 40)\n",
        "    print(f\"Средняя доходность: {mean_return:.4f}\")\n",
        "    print('-' * 40)\n",
        "    print(f\"Стандартное отклонение: {std_dev:.4f}\")\n",
        "    print('-' * 40)\n",
        "    print(f\"Коэффициент Шарпа: {sharpe_ratio:.4f}\")\n",
        "\n",
        "# Пример использования\n",
        "mean_std_sharpe_('AAPL', '2016-01-01', '2019-08-01', 'yahoo', risk_free_rate=0.02)\n"
      ]
    },
    {
      "cell_type": "markdown",
      "source": [
        "**Напишите скрипт, который загружает исторические данные по акциям и автоматически генерирует записи о том, по каким критериям трейдер должен удалить стратегии из пула (например, ограничивайте процентные убытки или время бездействия).**"
      ],
      "metadata": {
        "id": "JvhdnoXsyHg9"
      }
    },
    {
      "cell_type": "code",
      "source": [
        "\n",
        "# Пример использования с подгрузкой исторических данных yahoo! На нём писала и проверяла функцию.\n",
        "import yfinance as yf\n",
        "import pandas as pd\n",
        "\n",
        "def show_records(ticker, start_date, end_date, loss_rate_input, inactivity_time_input, source):\n",
        "    if source == 'yahoo':\n",
        "        # Загрузка данных из Yahoo!\n",
        "        data = yf.download(ticker, start=start_date, end=end_date)\n",
        "    elif source == 'csv':\n",
        "        # Загрузка данных из CSV файла\n",
        "        data = pd.read_csv(f'data/{ticker}.csv', index_col='Date', parse_dates=True)\n",
        "        data = data.loc[start_date:end_date]\n",
        "    else:\n",
        "        raise ValueError(\"Неправильный источник данных. Используйте 'yahoo' или 'csv'\")\n",
        "\n",
        "    # Расчет потерь и времени бездействия\n",
        "    loss_rate = (data['Close'] - data['Open']).abs() / data['Open']\n",
        "    inactivity_time = (data['Close'] - data['Open']).abs() / data['Close']\n",
        "\n",
        "    criteria = {'loss_rate': loss_rate_input, 'inactivity_time': inactivity_time_input}\n",
        "    records = []\n",
        "\n",
        "    for i in range(len(data)):\n",
        "        loss = loss_rate.iloc[i].item()\n",
        "        inactivity = inactivity_time.iloc[i].item()\n",
        "\n",
        "        if loss > criteria['loss_rate'] or inactivity > criteria['inactivity_time']:\n",
        "            records.append({'Date': data.index[i], 'criteria': 'Удалить стратегию'})\n",
        "\n",
        "    return records\n",
        "\n",
        "if __name__ == \"__main__\":\n",
        "    ticker = 'AAPL'\n",
        "    start_date = '2016-01-01'\n",
        "    end_date = '2019-08-01'\n",
        "    loss_rate_input = 0.01\n",
        "    inactivity_time_input = 30\n",
        "    source = 'yahoo'\n",
        "    records = show_records(ticker, start_date, end_date, loss_rate_input, inactivity_time_input, source)\n",
        "\n",
        "    for record in records:\n",
        "        print(record)\n"
      ],
      "metadata": {
        "id": "W0Az_usaydVu"
      },
      "execution_count": null,
      "outputs": []
    }
  ]
}
