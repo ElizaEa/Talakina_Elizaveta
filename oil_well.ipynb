{
  "cells": [
    {
      "cell_type": "markdown",
      "metadata": {
        "id": "MSjsHd8nWct6"
      },
      "source": [
        "# Выбор локации для скважины"
      ]
    },
    {
      "cell_type": "markdown",
      "metadata": {
        "id": "_HMixI2gWct6"
      },
      "source": [
        "_____\n",
        "**Описание исследования.**\n",
        "\n",
        "Допустим, вы работаете в добывающей компании «ГлавРосГосНефть». Нужно решить, где бурить новую скважину.\n",
        "\n",
        "Вам предоставлены пробы нефти в трёх регионах: в каждом 10 000 месторождений, где измерили качество нефти и объём её запасов. Постройте модель машинного обучения, которая поможет определить регион, где добыча принесёт наибольшую прибыль. Проанализируйте возможную прибыль и риски техникой *Bootstrap.*\n",
        "\n",
        "Шаги для выбора локации:\n",
        "\n",
        "- В избранном регионе ищут месторождения, для каждого определяют значения признаков;\n",
        "- Строят модель и оценивают объём запасов;\n",
        "- Выбирают месторождения с самым высокими оценками значений. Количество месторождений зависит от бюджета компании и стоимости разработки одной скважины;\n",
        "- Прибыль равна суммарной прибыли отобранных месторождений.\n",
        "\n",
        "\n",
        "_____\n",
        "**Цели исследования.**\n",
        "    \n",
        "Построить модель машинного обучения, которая определит регион, где добыча принесёт наибольшую прибыль\n",
        "\n",
        "\n",
        "_____\n",
        "**Исходные данные.**\n",
        "    \n",
        "- **id** — уникальный идентификатор скважины.\n",
        "\n",
        "\n",
        "- **f0, f1, f2** — три признака точек.\n",
        "\n",
        "\n",
        "- **product** — объём запасов в скважине (тыс. баррелей).\n",
        "\n",
        "_____\n",
        "**Данное исследование разделим на четыре этапа:**\n",
        "\n",
        "\n",
        "\n",
        "1. [Выполнить загрузку и подготовку данных](#section2), провести [исследовательский](#section3) анализ данных.\n",
        "<a href='#section2'></a>\n",
        "<a href='#section3'></a>\n",
        "\n",
        "\n",
        "2.  [Провести обучение и проверку модели.](#section4)\n",
        "<a href='#section4'></a>\n",
        "\n",
        "\n",
        "3. [Подготовиться к расчёту прибыли.](#section5)\n",
        "<a href='#section5'></a>\n",
        "\n",
        "\n",
        "4. [Провести расчёт прибыли и рисков.](#section6)\n",
        "<a href='#section6'></a>\n",
        "\n"
      ]
    },
    {
      "cell_type": "markdown",
      "metadata": {
        "id": "h2aMb1HBWct7"
      },
      "source": [
        "### Библиотеки и окружение"
      ]
    },
    {
      "cell_type": "code",
      "execution_count": null,
      "metadata": {
        "id": "vcQZGU63Wct7"
      },
      "outputs": [],
      "source": [
        "!pip install matplotlib==3.8.4 -q"
      ]
    },
    {
      "cell_type": "code",
      "execution_count": null,
      "metadata": {
        "id": "P9XQ-AcOWct9"
      },
      "outputs": [],
      "source": [
        "import matplotlib.pyplot as plt"
      ]
    },
    {
      "cell_type": "code",
      "execution_count": null,
      "metadata": {
        "id": "WFdg0y_VWct9"
      },
      "outputs": [],
      "source": [
        "!pip install scikit-learn==1.4.0 -q"
      ]
    },
    {
      "cell_type": "code",
      "execution_count": null,
      "metadata": {
        "id": "KqW4QaEqWct-",
        "outputId": "ea9f0a2c-5e0c-471f-e428-0518430f18f1"
      },
      "outputs": [
        {
          "name": "stdout",
          "output_type": "stream",
          "text": [
            "Note: you may need to restart the kernel to use updated packages.\n"
          ]
        }
      ],
      "source": [
        "pip install phik==0.12.4 -q"
      ]
    },
    {
      "cell_type": "code",
      "execution_count": null,
      "metadata": {
        "id": "qFIq1mtXWct_"
      },
      "outputs": [],
      "source": [
        "!pip install seaborn==0.13.2 -q"
      ]
    },
    {
      "cell_type": "code",
      "execution_count": null,
      "metadata": {
        "id": "yyygDseTWcuA"
      },
      "outputs": [],
      "source": [
        "import seaborn as sns"
      ]
    },
    {
      "cell_type": "code",
      "execution_count": null,
      "metadata": {
        "id": "Dowxek8WWcuA"
      },
      "outputs": [],
      "source": [
        "import numpy as np\n",
        "import pandas as pd\n",
        "import math"
      ]
    },
    {
      "cell_type": "code",
      "execution_count": null,
      "metadata": {
        "id": "VBvL6oWWWcuA"
      },
      "outputs": [],
      "source": [
        "from sklearn.linear_model import LinearRegression\n",
        "from sklearn.model_selection import train_test_split\n",
        "from sklearn.metrics import mean_squared_error, r2_score, mean_absolute_error\n",
        "from math import sqrt"
      ]
    },
    {
      "cell_type": "markdown",
      "metadata": {
        "id": "zTHKDeMrWcuB"
      },
      "source": [
        "**Функции:**"
      ]
    },
    {
      "cell_type": "code",
      "execution_count": null,
      "metadata": {
        "id": "4XwNAy-aWcuB"
      },
      "outputs": [],
      "source": [
        "# Вывод уникальных значений, количества пропусков и дубликатов.\n",
        "def check(row):\n",
        "    col = row.columns\n",
        "    dupli = row.duplicated().sum()\n",
        "    print('Количество явных дубликатов:', dupli)\n",
        "    nans = row.isna().sum().sum()\n",
        "    print('Количество пропусков в данных:', nans)\n",
        "    if dupli > 0:\n",
        "        print(row.duplicated())\n",
        "    for col_l in col:\n",
        "        print('-'* 30)\n",
        "        print('Уникальные значения:', col_l, row[col_l].sort_values().unique())"
      ]
    },
    {
      "cell_type": "code",
      "execution_count": null,
      "metadata": {
        "id": "NAZlBWjlWcuB"
      },
      "outputs": [],
      "source": [
        "# Вывод гистограмм, pie-диаграмм, сводных таблиц\n",
        "def sign(row,column, title):\n",
        "    if row.dtypes[column] == object:\n",
        "        row[column].value_counts().plot.barh(figsize=(10, 5), grid= True)\n",
        "        plt.title(title, fontsize=15)\n",
        "        plt.ylabel('Количество')\n",
        "        plt.rc('xtick', labelsize= 15 )\n",
        "        plt.rc('ytick', labelsize= 15 )\n",
        "        plt.show()\n",
        "        one = pd.pivot_table(\n",
        "            row,\n",
        "            index=column,\n",
        "            values = 'id',\n",
        "            aggfunc='count')\n",
        "        plt.title(title, fontsize=20)\n",
        "        row[column].value_counts().plot(\n",
        "            kind = 'pie',\n",
        "            figsize=(10,10),\n",
        "            autopct = '%0.01f%%',\n",
        "            colors=sns.color_palette('Set2')\n",
        "        )\n",
        "        ax = plt.gca()\n",
        "        #ax.axes.xaxis.set_visible(False)\n",
        "        ax.axes.yaxis.set_visible(False)\n",
        "        plt.show()\n",
        "        one['% '] = round(one['id']/one['id'].sum()*100,2)\n",
        "        one.rename(columns={'id':'количество'},\n",
        "              inplace=True)\n",
        "        return one\n",
        "\n",
        "    else:\n",
        "        fig, axes = plt.subplots(2, figsize=(15, 15), sharey='row')\n",
        "        #axes[0].plot(row[column], kind='bar')\n",
        "        axes[0].hist(row[column], bins=int(len(row) ** (0.5)))\n",
        "        axes[0].grid(True)\n",
        "        axes[0].set_title(title, fontsize=20)\n",
        "        axes[0].set_ylabel('Количество')\n",
        "        axes[1].boxplot(data=row, x=column, vert=False, patch_artist=True)\n",
        "        axes[1].grid(True)\n",
        "        axes[1].set_xlabel(title)\n",
        "        plt.show()\n",
        "        return row[column].describe().T"
      ]
    },
    {
      "cell_type": "markdown",
      "metadata": {
        "id": "7gLIzLEBWcuC"
      },
      "source": [
        "<a id='section2'></a>\n",
        "## Загрузка и подготовка данных"
      ]
    },
    {
      "cell_type": "code",
      "execution_count": null,
      "metadata": {
        "id": "slSo2r1OWcuC"
      },
      "outputs": [],
      "source": [
        "df_0 =  pd.read_csv('/datasets/geo_data_0.csv')\n",
        "df_1 =  pd.read_csv('/datasets/geo_data_1.csv')\n",
        "df_2 = pd.read_csv('/datasets/geo_data_2.csv')\n"
      ]
    },
    {
      "cell_type": "code",
      "execution_count": null,
      "metadata": {
        "id": "DrBm-EF-WcuC",
        "outputId": "6acdcc14-4b36-45c3-9456-425575712179"
      },
      "outputs": [
        {
          "data": {
            "text/html": [
              "<div>\n",
              "<style scoped>\n",
              "    .dataframe tbody tr th:only-of-type {\n",
              "        vertical-align: middle;\n",
              "    }\n",
              "\n",
              "    .dataframe tbody tr th {\n",
              "        vertical-align: top;\n",
              "    }\n",
              "\n",
              "    .dataframe thead th {\n",
              "        text-align: right;\n",
              "    }\n",
              "</style>\n",
              "<table border=\"1\" class=\"dataframe\">\n",
              "  <thead>\n",
              "    <tr style=\"text-align: right;\">\n",
              "      <th></th>\n",
              "      <th>id</th>\n",
              "      <th>f0</th>\n",
              "      <th>f1</th>\n",
              "      <th>f2</th>\n",
              "      <th>product</th>\n",
              "    </tr>\n",
              "  </thead>\n",
              "  <tbody>\n",
              "    <tr>\n",
              "      <th>0</th>\n",
              "      <td>txEyH</td>\n",
              "      <td>0.705745</td>\n",
              "      <td>-0.497823</td>\n",
              "      <td>1.221170</td>\n",
              "      <td>105.280062</td>\n",
              "    </tr>\n",
              "    <tr>\n",
              "      <th>1</th>\n",
              "      <td>2acmU</td>\n",
              "      <td>1.334711</td>\n",
              "      <td>-0.340164</td>\n",
              "      <td>4.365080</td>\n",
              "      <td>73.037750</td>\n",
              "    </tr>\n",
              "    <tr>\n",
              "      <th>2</th>\n",
              "      <td>409Wp</td>\n",
              "      <td>1.022732</td>\n",
              "      <td>0.151990</td>\n",
              "      <td>1.419926</td>\n",
              "      <td>85.265647</td>\n",
              "    </tr>\n",
              "    <tr>\n",
              "      <th>3</th>\n",
              "      <td>iJLyR</td>\n",
              "      <td>-0.032172</td>\n",
              "      <td>0.139033</td>\n",
              "      <td>2.978566</td>\n",
              "      <td>168.620776</td>\n",
              "    </tr>\n",
              "    <tr>\n",
              "      <th>4</th>\n",
              "      <td>Xdl7t</td>\n",
              "      <td>1.988431</td>\n",
              "      <td>0.155413</td>\n",
              "      <td>4.751769</td>\n",
              "      <td>154.036647</td>\n",
              "    </tr>\n",
              "  </tbody>\n",
              "</table>\n",
              "</div>"
            ],
            "text/plain": [
              "      id        f0        f1        f2     product\n",
              "0  txEyH  0.705745 -0.497823  1.221170  105.280062\n",
              "1  2acmU  1.334711 -0.340164  4.365080   73.037750\n",
              "2  409Wp  1.022732  0.151990  1.419926   85.265647\n",
              "3  iJLyR -0.032172  0.139033  2.978566  168.620776\n",
              "4  Xdl7t  1.988431  0.155413  4.751769  154.036647"
            ]
          },
          "execution_count": 12,
          "metadata": {},
          "output_type": "execute_result"
        }
      ],
      "source": [
        "df_0.head()"
      ]
    },
    {
      "cell_type": "code",
      "execution_count": null,
      "metadata": {
        "id": "W7EiUBRsWcuD",
        "outputId": "f59b92b0-cd5f-496d-cfbd-0db7b26f73e9"
      },
      "outputs": [
        {
          "data": {
            "text/html": [
              "<div>\n",
              "<style scoped>\n",
              "    .dataframe tbody tr th:only-of-type {\n",
              "        vertical-align: middle;\n",
              "    }\n",
              "\n",
              "    .dataframe tbody tr th {\n",
              "        vertical-align: top;\n",
              "    }\n",
              "\n",
              "    .dataframe thead th {\n",
              "        text-align: right;\n",
              "    }\n",
              "</style>\n",
              "<table border=\"1\" class=\"dataframe\">\n",
              "  <thead>\n",
              "    <tr style=\"text-align: right;\">\n",
              "      <th></th>\n",
              "      <th>id</th>\n",
              "      <th>f0</th>\n",
              "      <th>f1</th>\n",
              "      <th>f2</th>\n",
              "      <th>product</th>\n",
              "    </tr>\n",
              "  </thead>\n",
              "  <tbody>\n",
              "    <tr>\n",
              "      <th>0</th>\n",
              "      <td>kBEdx</td>\n",
              "      <td>-15.001348</td>\n",
              "      <td>-8.276000</td>\n",
              "      <td>-0.005876</td>\n",
              "      <td>3.179103</td>\n",
              "    </tr>\n",
              "    <tr>\n",
              "      <th>1</th>\n",
              "      <td>62mP7</td>\n",
              "      <td>14.272088</td>\n",
              "      <td>-3.475083</td>\n",
              "      <td>0.999183</td>\n",
              "      <td>26.953261</td>\n",
              "    </tr>\n",
              "    <tr>\n",
              "      <th>2</th>\n",
              "      <td>vyE1P</td>\n",
              "      <td>6.263187</td>\n",
              "      <td>-5.948386</td>\n",
              "      <td>5.001160</td>\n",
              "      <td>134.766305</td>\n",
              "    </tr>\n",
              "    <tr>\n",
              "      <th>3</th>\n",
              "      <td>KcrkZ</td>\n",
              "      <td>-13.081196</td>\n",
              "      <td>-11.506057</td>\n",
              "      <td>4.999415</td>\n",
              "      <td>137.945408</td>\n",
              "    </tr>\n",
              "    <tr>\n",
              "      <th>4</th>\n",
              "      <td>AHL4O</td>\n",
              "      <td>12.702195</td>\n",
              "      <td>-8.147433</td>\n",
              "      <td>5.004363</td>\n",
              "      <td>134.766305</td>\n",
              "    </tr>\n",
              "  </tbody>\n",
              "</table>\n",
              "</div>"
            ],
            "text/plain": [
              "      id         f0         f1        f2     product\n",
              "0  kBEdx -15.001348  -8.276000 -0.005876    3.179103\n",
              "1  62mP7  14.272088  -3.475083  0.999183   26.953261\n",
              "2  vyE1P   6.263187  -5.948386  5.001160  134.766305\n",
              "3  KcrkZ -13.081196 -11.506057  4.999415  137.945408\n",
              "4  AHL4O  12.702195  -8.147433  5.004363  134.766305"
            ]
          },
          "execution_count": 13,
          "metadata": {},
          "output_type": "execute_result"
        }
      ],
      "source": [
        "df_1.head()"
      ]
    },
    {
      "cell_type": "code",
      "execution_count": null,
      "metadata": {
        "id": "2_dPSOyGWcuD",
        "outputId": "2aba6ed2-6039-480f-8d35-55bbc33a1199"
      },
      "outputs": [
        {
          "data": {
            "text/html": [
              "<div>\n",
              "<style scoped>\n",
              "    .dataframe tbody tr th:only-of-type {\n",
              "        vertical-align: middle;\n",
              "    }\n",
              "\n",
              "    .dataframe tbody tr th {\n",
              "        vertical-align: top;\n",
              "    }\n",
              "\n",
              "    .dataframe thead th {\n",
              "        text-align: right;\n",
              "    }\n",
              "</style>\n",
              "<table border=\"1\" class=\"dataframe\">\n",
              "  <thead>\n",
              "    <tr style=\"text-align: right;\">\n",
              "      <th></th>\n",
              "      <th>id</th>\n",
              "      <th>f0</th>\n",
              "      <th>f1</th>\n",
              "      <th>f2</th>\n",
              "      <th>product</th>\n",
              "    </tr>\n",
              "  </thead>\n",
              "  <tbody>\n",
              "    <tr>\n",
              "      <th>0</th>\n",
              "      <td>fwXo0</td>\n",
              "      <td>-1.146987</td>\n",
              "      <td>0.963328</td>\n",
              "      <td>-0.828965</td>\n",
              "      <td>27.758673</td>\n",
              "    </tr>\n",
              "    <tr>\n",
              "      <th>1</th>\n",
              "      <td>WJtFt</td>\n",
              "      <td>0.262778</td>\n",
              "      <td>0.269839</td>\n",
              "      <td>-2.530187</td>\n",
              "      <td>56.069697</td>\n",
              "    </tr>\n",
              "    <tr>\n",
              "      <th>2</th>\n",
              "      <td>ovLUW</td>\n",
              "      <td>0.194587</td>\n",
              "      <td>0.289035</td>\n",
              "      <td>-5.586433</td>\n",
              "      <td>62.871910</td>\n",
              "    </tr>\n",
              "    <tr>\n",
              "      <th>3</th>\n",
              "      <td>q6cA6</td>\n",
              "      <td>2.236060</td>\n",
              "      <td>-0.553760</td>\n",
              "      <td>0.930038</td>\n",
              "      <td>114.572842</td>\n",
              "    </tr>\n",
              "    <tr>\n",
              "      <th>4</th>\n",
              "      <td>WPMUX</td>\n",
              "      <td>-0.515993</td>\n",
              "      <td>1.716266</td>\n",
              "      <td>5.899011</td>\n",
              "      <td>149.600746</td>\n",
              "    </tr>\n",
              "  </tbody>\n",
              "</table>\n",
              "</div>"
            ],
            "text/plain": [
              "      id        f0        f1        f2     product\n",
              "0  fwXo0 -1.146987  0.963328 -0.828965   27.758673\n",
              "1  WJtFt  0.262778  0.269839 -2.530187   56.069697\n",
              "2  ovLUW  0.194587  0.289035 -5.586433   62.871910\n",
              "3  q6cA6  2.236060 -0.553760  0.930038  114.572842\n",
              "4  WPMUX -0.515993  1.716266  5.899011  149.600746"
            ]
          },
          "execution_count": 14,
          "metadata": {},
          "output_type": "execute_result"
        }
      ],
      "source": [
        "df_2.head()"
      ]
    },
    {
      "cell_type": "markdown",
      "metadata": {
        "id": "idKc1D71WcuD"
      },
      "source": [
        "### Подготовка данных"
      ]
    },
    {
      "cell_type": "code",
      "execution_count": null,
      "metadata": {
        "id": "85y3zMxuWcuE",
        "outputId": "5ffcb3f4-2783-4875-d3d3-fa8ddede307b"
      },
      "outputs": [
        {
          "name": "stdout",
          "output_type": "stream",
          "text": [
            "Количество явных дубликатов: 0\n",
            "Количество пропусков в данных: 0\n",
            "------------------------------\n",
            "Уникальные значения: id ['006OJ' '009eY' '00AfQ' ... 'zztWK' 'zzyhQ' 'zzzLH']\n",
            "------------------------------\n",
            "Уникальные значения: f0 [-1.40860531 -1.35177299 -1.30222711 ...  2.33375269  2.33707957\n",
            "  2.36233081]\n",
            "------------------------------\n",
            "Уникальные значения: f1 [-0.8482185  -0.84490792 -0.8205609  ...  1.33334561  1.33482762\n",
            "  1.34376933]\n",
            "------------------------------\n",
            "Уникальные значения: f2 [-12.08832812 -10.13834135 -10.13817115 ...  15.23032159  15.42837187\n",
            "  16.00379001]\n",
            "------------------------------\n",
            "Уникальные значения: product [0.00000000e+00 4.02152316e-03 6.11363631e-03 ... 1.85355615e+02\n",
            " 1.85362690e+02 1.85364347e+02]\n"
          ]
        }
      ],
      "source": [
        "check(df_0)"
      ]
    },
    {
      "cell_type": "code",
      "execution_count": null,
      "metadata": {
        "id": "MOUtTm6mWcuE",
        "outputId": "029beb24-5b75-426c-cc3d-2f6ad18e4cb5"
      },
      "outputs": [
        {
          "name": "stdout",
          "output_type": "stream",
          "text": [
            "<class 'pandas.core.frame.DataFrame'>\n",
            "RangeIndex: 100000 entries, 0 to 99999\n",
            "Data columns (total 5 columns):\n",
            " #   Column   Non-Null Count   Dtype  \n",
            "---  ------   --------------   -----  \n",
            " 0   id       100000 non-null  object \n",
            " 1   f0       100000 non-null  float64\n",
            " 2   f1       100000 non-null  float64\n",
            " 3   f2       100000 non-null  float64\n",
            " 4   product  100000 non-null  float64\n",
            "dtypes: float64(4), object(1)\n",
            "memory usage: 3.8+ MB\n"
          ]
        }
      ],
      "source": [
        "df_0.info()"
      ]
    },
    {
      "cell_type": "code",
      "execution_count": null,
      "metadata": {
        "id": "XJv0sZGFWcuE",
        "outputId": "fe3a6338-02c9-48a0-8767-b208db662e30"
      },
      "outputs": [
        {
          "name": "stdout",
          "output_type": "stream",
          "text": [
            "Количество явных дубликатов: 0\n",
            "Количество пропусков в данных: 0\n",
            "------------------------------\n",
            "Уникальные значения: id ['0022J' '003Gl' '003Vx' ... 'zzv4E' 'zzy2c' 'zzzvI']\n",
            "------------------------------\n",
            "Уникальные значения: f0 [-31.60957602 -27.82961614 -26.64625507 ...  28.93082879  29.25906208\n",
            "  29.42175461]\n",
            "------------------------------\n",
            "Уникальные значения: f1 [-26.35859801 -25.38962242 -25.2915177  ...  16.0268693   16.7371962\n",
            "  18.73406263]\n",
            "------------------------------\n",
            "Уникальные значения: f2 [-0.01814409 -0.01788668 -0.01768626 ...  5.01750345  5.01909142\n",
            "  5.01972056]\n",
            "------------------------------\n",
            "Уникальные значения: product [  0.           3.17910258  26.95326103  30.13236361  53.90652206\n",
            "  57.08562465  80.85978309  84.03888568 107.81304413 110.99214671\n",
            " 134.76630516 137.94540774]\n"
          ]
        }
      ],
      "source": [
        "check(df_1)"
      ]
    },
    {
      "cell_type": "code",
      "execution_count": null,
      "metadata": {
        "id": "4-nOOApJWcuF",
        "outputId": "4b70b933-be42-4af1-e2f0-e8faed78fb83"
      },
      "outputs": [
        {
          "name": "stdout",
          "output_type": "stream",
          "text": [
            "<class 'pandas.core.frame.DataFrame'>\n",
            "RangeIndex: 100000 entries, 0 to 99999\n",
            "Data columns (total 5 columns):\n",
            " #   Column   Non-Null Count   Dtype  \n",
            "---  ------   --------------   -----  \n",
            " 0   id       100000 non-null  object \n",
            " 1   f0       100000 non-null  float64\n",
            " 2   f1       100000 non-null  float64\n",
            " 3   f2       100000 non-null  float64\n",
            " 4   product  100000 non-null  float64\n",
            "dtypes: float64(4), object(1)\n",
            "memory usage: 3.8+ MB\n"
          ]
        }
      ],
      "source": [
        "df_1.info()"
      ]
    },
    {
      "cell_type": "code",
      "execution_count": null,
      "metadata": {
        "id": "zk2kpNTNWcuF",
        "outputId": "0a5ca715-c4d6-48b7-94e6-a7d79ad287f1"
      },
      "outputs": [
        {
          "name": "stdout",
          "output_type": "stream",
          "text": [
            "Количество явных дубликатов: 0\n",
            "Количество пропусков в данных: 0\n",
            "------------------------------\n",
            "Уникальные значения: id ['009Gl' '00AuD' '00CaL' ... 'zzqqy' 'zzsKd' 'zzz9h']\n",
            "------------------------------\n",
            "Уникальные значения: f0 [-8.76000362 -7.45058711 -7.18949804 ...  7.19461485  7.21552717\n",
            "  7.23826248]\n",
            "------------------------------\n",
            "Уникальные значения: f1 [-7.08401976 -6.74835677 -6.73299712 ...  7.10161842  7.76185714\n",
            "  7.84480127]\n",
            "------------------------------\n",
            "Уникальные значения: f2 [-11.97033454 -11.61169048 -11.40724351 ...  16.31301122  16.35764509\n",
            "  16.73940206]\n",
            "------------------------------\n",
            "Уникальные значения: product [0.00000000e+00 4.60600004e-03 9.20411196e-03 ... 1.90011722e+02\n",
            " 1.90013589e+02 1.90029838e+02]\n"
          ]
        }
      ],
      "source": [
        "check(df_2)"
      ]
    },
    {
      "cell_type": "code",
      "execution_count": null,
      "metadata": {
        "id": "f0-L-QN9WcuG",
        "outputId": "cbf42f6b-6d14-408c-db75-be9fc35b27f7"
      },
      "outputs": [
        {
          "name": "stdout",
          "output_type": "stream",
          "text": [
            "<class 'pandas.core.frame.DataFrame'>\n",
            "RangeIndex: 100000 entries, 0 to 99999\n",
            "Data columns (total 5 columns):\n",
            " #   Column   Non-Null Count   Dtype  \n",
            "---  ------   --------------   -----  \n",
            " 0   id       100000 non-null  object \n",
            " 1   f0       100000 non-null  float64\n",
            " 2   f1       100000 non-null  float64\n",
            " 3   f2       100000 non-null  float64\n",
            " 4   product  100000 non-null  float64\n",
            "dtypes: float64(4), object(1)\n",
            "memory usage: 3.8+ MB\n"
          ]
        }
      ],
      "source": [
        "df_2.info()"
      ]
    },
    {
      "cell_type": "markdown",
      "metadata": {
        "id": "Watk-fHZWcuH"
      },
      "source": [
        "<a id='section3'></a>\n",
        "### Исследовательский анализ."
      ]
    },
    {
      "cell_type": "code",
      "execution_count": null,
      "metadata": {
        "id": "I4_BbNIBWcuH",
        "outputId": "d2f0d1ba-14d6-4ba4-9d88-4eb4c7a3ff49"
      },
      "outputs": [
        {
          "data": {
            "image/png": "[encoded data removed]",
            "text/plain": [
              "<Figure size 1080x1080 with 2 Axes>"
            ]
          },
          "metadata": {
            "needs_background": "light"
          },
          "output_type": "display_data"
        },
        {
          "data": {
            "text/plain": [
              "count    100000.000000\n",
              "mean         92.500000\n",
              "std          44.288691\n",
              "min           0.000000\n",
              "25%          56.497507\n",
              "50%          91.849972\n",
              "75%         128.564089\n",
              "max         185.364347\n",
              "Name: product, dtype: float64"
            ]
          },
          "execution_count": 21,
          "metadata": {},
          "output_type": "execute_result"
        }
      ],
      "source": [
        "sign(df_0, 'product', 'Распределение количества нефти в регионе 0')"
      ]
    },
    {
      "cell_type": "code",
      "execution_count": null,
      "metadata": {
        "id": "HS1g5tqkWcuI",
        "outputId": "74e5851d-82d7-494b-83ee-2b7f80a704f8"
      },
      "outputs": [
        {
          "data": {
            "image/png": "[encoded data removed]",
            "text/plain": [
              "<Figure size 1080x1080 with 2 Axes>"
            ]
          },
          "metadata": {
            "needs_background": "light"
          },
          "output_type": "display_data"
        },
        {
          "data": {
            "text/plain": [
              "count    100000.000000\n",
              "mean         68.825000\n",
              "std          45.944423\n",
              "min           0.000000\n",
              "25%          26.953261\n",
              "50%          57.085625\n",
              "75%         107.813044\n",
              "max         137.945408\n",
              "Name: product, dtype: float64"
            ]
          },
          "execution_count": 22,
          "metadata": {},
          "output_type": "execute_result"
        }
      ],
      "source": [
        "sign(df_1, 'product', 'Распределение количества нефти в регионе 1')"
      ]
    },
    {
      "cell_type": "markdown",
      "metadata": {
        "id": "GhWmpK9tWcuI"
      },
      "source": [
        "Видим что значения гистограммы близки к разбиению на категории, возможно замеры количества нефти в данном регионе отличаются или передача показаний происходила неккоректно."
      ]
    },
    {
      "cell_type": "code",
      "execution_count": null,
      "metadata": {
        "id": "GZkW_9qfWcuI",
        "outputId": "af181c7d-126e-496c-e178-ef6a6c279125"
      },
      "outputs": [
        {
          "data": {
            "image/png": "[encoded data removed]",
            "text/plain": [
              "<Figure size 1080x1080 with 2 Axes>"
            ]
          },
          "metadata": {
            "needs_background": "light"
          },
          "output_type": "display_data"
        },
        {
          "data": {
            "text/plain": [
              "count    100000.000000\n",
              "mean         95.000000\n",
              "std          44.749921\n",
              "min           0.000000\n",
              "25%          59.450441\n",
              "50%          94.925613\n",
              "75%         130.595027\n",
              "max         190.029838\n",
              "Name: product, dtype: float64"
            ]
          },
          "execution_count": 23,
          "metadata": {},
          "output_type": "execute_result"
        }
      ],
      "source": [
        "sign(df_2, 'product', 'Распределение количества нефти в регионе 2')"
      ]
    },
    {
      "cell_type": "markdown",
      "metadata": {
        "id": "RB6dzK6vWcuJ"
      },
      "source": [
        "<a id='section4'></a>\n",
        "## Обучение и проверка модели"
      ]
    },
    {
      "cell_type": "code",
      "execution_count": null,
      "metadata": {
        "id": "BvZIEAjXWcuJ"
      },
      "outputs": [],
      "source": [
        "RANDOM_STATE = 42\n",
        "TEST_SIZE = 0.25"
      ]
    },
    {
      "cell_type": "code",
      "execution_count": null,
      "metadata": {
        "id": "iV3ggsJPWcuJ"
      },
      "outputs": [],
      "source": [
        "def prepare(row):\n",
        "    X = row.drop(['id', 'product'], axis = 1)\n",
        "    target = row['product']\n",
        "\n",
        "    X_train, X_test, y_train, y_test = train_test_split(\n",
        "    X,\n",
        "    target,\n",
        "    test_size = 0.25,\n",
        "    random_state = 42\n",
        "    )\n",
        "    model = LinearRegression(n_jobs=-1)\n",
        "    model.fit(X_train, y_train)\n",
        "    pred = model.predict(X_test)\n",
        "\n",
        "    X_test_pred = pd.DataFrame(X_test)\n",
        "    X_test_pred['предсказание'] = model.predict(X_test)\n",
        "    one = X_test_pred['предсказание'].mean()\n",
        "\n",
        "    return X_test_pred, model, pred, y_test, one"
      ]
    },
    {
      "cell_type": "code",
      "execution_count": null,
      "metadata": {
        "id": "WUQFc5EDWcuK"
      },
      "outputs": [],
      "source": [
        "def rmse_mean(row, title):\n",
        "    print(title)\n",
        "    X_test_pred, model, pred, y_test, one = prepare(row)\n",
        "    rmse = sqrt(mean_squared_error(y_test, pred))\n",
        "    print('RMSE модели:', rmse)\n",
        "\n",
        "    print('Средний запас предсказанного сырья:', one)"
      ]
    },
    {
      "cell_type": "markdown",
      "metadata": {
        "id": "LPak5a7XWcuK"
      },
      "source": [
        "### Регион 0"
      ]
    },
    {
      "cell_type": "code",
      "execution_count": null,
      "metadata": {
        "id": "JrdQyaD6WcuL",
        "outputId": "d535fda4-60df-40a1-e1d5-0e01504faf9e"
      },
      "outputs": [
        {
          "name": "stdout",
          "output_type": "stream",
          "text": [
            "Регион 0\n",
            "RMSE модели: 37.75660035026169\n",
            "Средний запас предсказанного сырья: 92.39879990657768\n"
          ]
        }
      ],
      "source": [
        "rmse_mean(df_0, 'Регион 0')"
      ]
    },
    {
      "cell_type": "code",
      "execution_count": null,
      "metadata": {
        "id": "a19riwaUWcuL"
      },
      "outputs": [],
      "source": [
        "region_0, model_0, pred_0, y_test_0, mean_0 = prepare(df_0)"
      ]
    },
    {
      "cell_type": "markdown",
      "metadata": {
        "id": "Heg2f-r5WcuL"
      },
      "source": [
        "### Регион 1"
      ]
    },
    {
      "cell_type": "code",
      "execution_count": null,
      "metadata": {
        "id": "kFTvrmubWcuL",
        "outputId": "aca50712-bcbd-4863-c3ba-271c5286afb3"
      },
      "outputs": [
        {
          "name": "stdout",
          "output_type": "stream",
          "text": [
            "Регион 1\n",
            "RMSE модели: 0.890280100102884\n",
            "Средний запас предсказанного сырья: 68.71287803913762\n"
          ]
        }
      ],
      "source": [
        "rmse_mean(df_1, 'Регион 1')"
      ]
    },
    {
      "cell_type": "code",
      "execution_count": null,
      "metadata": {
        "id": "z_lrLzMhWcuM"
      },
      "outputs": [],
      "source": [
        "region_1, model_1, pred_1, y_test_1, mean_1 = prepare(df_1)"
      ]
    },
    {
      "cell_type": "markdown",
      "metadata": {
        "id": "j0Rm4DSuWcuM"
      },
      "source": [
        "### Регион 2"
      ]
    },
    {
      "cell_type": "code",
      "execution_count": null,
      "metadata": {
        "id": "p6ww8a5vWcuN",
        "outputId": "159841e7-4b46-4cf3-e53f-6999cb3b5f9c"
      },
      "outputs": [
        {
          "name": "stdout",
          "output_type": "stream",
          "text": [
            "Регион 2\n",
            "RMSE модели: 40.145872311342174\n",
            "Средний запас предсказанного сырья: 94.77102387765939\n"
          ]
        }
      ],
      "source": [
        "rmse_mean(df_2, 'Регион 2')"
      ]
    },
    {
      "cell_type": "code",
      "execution_count": null,
      "metadata": {
        "id": "llvJ_XF_WcuN"
      },
      "outputs": [],
      "source": [
        "region_2, model_2, pred_2, y_test_2, mean_2 = prepare(df_2)"
      ]
    },
    {
      "cell_type": "markdown",
      "metadata": {
        "id": "byoobfMHWcuN"
      },
      "source": [
        "### Вывод"
      ]
    },
    {
      "cell_type": "markdown",
      "metadata": {
        "id": "H3RSGgEeWcuN"
      },
      "source": [
        "Лучшая метрика у региона 1, при этом средний запас предсказанного сырья ниже остальных регионов почти на треть."
      ]
    },
    {
      "cell_type": "markdown",
      "metadata": {
        "id": "f9ewL4krWcuN"
      },
      "source": [
        "<div class=\"alert alert-block alert-success\">\n",
        "<b>Успех:</b> Модели обучены корректно. Радует, что ты активно используешь функции. Это помогает избежать дублирования кода, а значит уменьшает вероятность совершить ошибку/опечатку!\n",
        "</div>"
      ]
    },
    {
      "cell_type": "markdown",
      "metadata": {
        "id": "jegpwnlnWcuO"
      },
      "source": [
        "<a id='section5'></a>\n",
        "## Подготовка к расчёту прибыли"
      ]
    },
    {
      "cell_type": "markdown",
      "metadata": {
        "id": "BjZ0CVBFWcuO"
      },
      "source": [
        "- При разведке региона исследуют 500 точек, из которых с помощью машинного обучения выбирают 200 лучших для разработки.\n",
        "- Бюджет на разработку скважин в регионе — 10 млрд рублей.\n",
        "- Доход с каждого барреля продукта составляет 450 тыс. рублей."
      ]
    },
    {
      "cell_type": "code",
      "execution_count": null,
      "metadata": {
        "id": "BDgkCqcUWcuO"
      },
      "outputs": [],
      "source": [
        "fs_points = 500\n",
        "fs_best = 200\n",
        "budget = 10000000000\n",
        "price_per_bar = 450000\n",
        "proba_line = 2.5\n",
        "price_per_budget = budget/ price_per_bar # Посчитаем сколько тыс. баррелей в бюджете"
      ]
    },
    {
      "cell_type": "code",
      "execution_count": null,
      "metadata": {
        "id": "p3qoDTRmWcuP",
        "outputId": "d9ab9ec9-a1c4-4ae9-9182-2958e914ee85"
      },
      "outputs": [
        {
          "name": "stdout",
          "output_type": "stream",
          "text": [
            "Достаточный объём сырья для безубыточной разработки новой скважины: 111.11 тыс. баррелей\n"
          ]
        }
      ],
      "source": [
        "raw_mean = price_per_budget/fs_best\n",
        "print('Достаточный объём сырья для безубыточной разработки новой скважины:',\n",
        "      round(raw_mean,2), 'тыс. баррелей')\n"
      ]
    },
    {
      "cell_type": "code",
      "execution_count": null,
      "metadata": {
        "id": "cnhNbFBAWcuP"
      },
      "outputs": [],
      "source": [
        "pred_per_df = {'Регион_0':df_0['product'], 'Регион_1':df_1['product'], 'Регион_2':df_2['product']}\n",
        "pred_per_df = pd.DataFrame(data  = pred_per_df)"
      ]
    },
    {
      "cell_type": "code",
      "execution_count": null,
      "metadata": {
        "id": "gMheSwI2WcuP"
      },
      "outputs": [],
      "source": [
        "def raw_great(row):\n",
        "    for column in pred_per_df.columns:\n",
        "        print(f'Количество скважин в {column}, объёмом больше чем порог:',\n",
        "              len(row[column].loc[row[column] >= raw_mean]))"
      ]
    },
    {
      "cell_type": "code",
      "execution_count": null,
      "metadata": {
        "id": "DKK80ef7WcuQ",
        "outputId": "70c39c97-942f-4237-82b0-76eafd534e19"
      },
      "outputs": [
        {
          "name": "stdout",
          "output_type": "stream",
          "text": [
            "Количество скважин в Регион_0, объёмом больше чем порог: 36583\n",
            "Количество скважин в Регион_1, объёмом больше чем порог: 16537\n",
            "Количество скважин в Регион_2, объёмом больше чем порог: 38178\n"
          ]
        }
      ],
      "source": [
        "raw_great(pred_per_df)\n"
      ]
    },
    {
      "cell_type": "markdown",
      "metadata": {
        "id": "mHQETjeDWcuQ"
      },
      "source": [
        "### Вывод"
      ]
    },
    {
      "cell_type": "markdown",
      "metadata": {
        "id": "1RDlaKEKWcuQ"
      },
      "source": [
        "Вычислен достаточный объём сырья для безубыточной разработки новой скважины, равный 111.11 тыс. беррелей.\n",
        "\n",
        "\n",
        "Наименьшее количество скважин, объёмом больше чем порог, в регионе 1. Регион 2 имеет чуть большее количество скважин чем регион 0."
      ]
    },
    {
      "cell_type": "markdown",
      "metadata": {
        "id": "U32Ea3QCWcuR"
      },
      "source": [
        "<a id='section6'></a>\n",
        "## Расчёт прибыли и рисков"
      ]
    },
    {
      "cell_type": "markdown",
      "metadata": {
        "id": "gSux9PC7WcuR"
      },
      "source": [
        "### Функция для расчёта прибыли."
      ]
    },
    {
      "cell_type": "code",
      "execution_count": null,
      "metadata": {
        "id": "IF4DGnXRWcuR"
      },
      "outputs": [],
      "source": [
        "def revenue(target, probabilities, count):\n",
        "    probs_sorted = probabilities.sort_values(ascending=False)\n",
        "    selected = target[probs_sorted.index][:count]\n",
        "    return ((selected.sum())*price_per_bar) - budget"
      ]
    },
    {
      "cell_type": "markdown",
      "metadata": {
        "id": "7iIut65HWcuS"
      },
      "source": [
        "### Bootstrap"
      ]
    },
    {
      "cell_type": "code",
      "execution_count": null,
      "metadata": {
        "id": "SEK0CQ5oWcuS"
      },
      "outputs": [],
      "source": [
        "state = np.random.RandomState(12345)\n",
        "def bs(target, probabilities, title):\n",
        "    probabilities = pd.Series(probabilities)\n",
        "    target = target.reset_index(drop=True)\n",
        "    values = []\n",
        "    for i in range(1000):\n",
        "        target_subsample = target.sample(n = fs_points, replace=True, random_state=state)\n",
        "        probs_subsample = probabilities[target_subsample.index]\n",
        "        values.append(revenue(target_subsample, probs_subsample, fs_best))\n",
        "\n",
        "    values = pd.Series(values)\n",
        "    lower = values.quantile(0.025)\n",
        "    mean = values.mean()\n",
        "    waste = (values < 0).sum()/len(values)\n",
        "\n",
        "    print('\\n')\n",
        "    print(title)\n",
        "    print(\"Средняя выручка:\", round(mean/10**6, 2), 'млн. рублей')\n",
        "    print(\"2.5%-квантиль:\", round(lower/10**6, 2), 'млн. рублей')\n",
        "    print('Риск:{:.2%}'.format(waste))\n",
        "    if waste < 0.025:\n",
        "        print('\\n')\n",
        "        print(f'{title} подходит согласно требованиям, риск убытков меньше 2.5%')\n",
        "\n",
        "    print('-'* 40)"
      ]
    },
    {
      "cell_type": "code",
      "execution_count": null,
      "metadata": {
        "id": "bEKKuR8oWcuS",
        "outputId": "feba8c0c-f549-44db-9b2d-e6cfac147cf9"
      },
      "outputs": [
        {
          "name": "stdout",
          "output_type": "stream",
          "text": [
            "\n",
            "\n",
            "Регион О\n",
            "Средняя выручка: 435.93 млн. рублей\n",
            "2.5%-квантиль: -116.23 млн. рублей\n",
            "Риск:6.10%\n",
            "----------------------------------------\n",
            "\n",
            "\n",
            "Регион 1\n",
            "Средняя выручка: 498.57 млн. рублей\n",
            "2.5%-квантиль: 75.32 млн. рублей\n",
            "Риск:1.00%\n",
            "\n",
            "\n",
            "Регион 1 подходит согласно требованиям, риск убытков меньше 2.5%\n",
            "----------------------------------------\n",
            "\n",
            "\n",
            "Регион 2\n",
            "Средняя выручка: 412.67 млн. рублей\n",
            "2.5%-квантиль: -158.94 млн. рублей\n",
            "Риск:7.00%\n",
            "----------------------------------------\n"
          ]
        }
      ],
      "source": [
        "bs(y_test_0, pred_0, 'Регион О')\n",
        "bs(y_test_1, pred_1, 'Регион 1')\n",
        "bs(y_test_2, pred_2, 'Регион 2')"
      ]
    },
    {
      "cell_type": "markdown",
      "metadata": {
        "id": "vguMO1M0WcuT"
      },
      "source": [
        "## Вывод"
      ]
    },
    {
      "cell_type": "markdown",
      "metadata": {
        "id": "L1DL2kHtWcuT"
      },
      "source": [
        "**Согласно требованиям к риску убытков менее 2.5% подходит регион 1.**\n",
        "\n",
        "Также метрика оценки модели для региона 1 является наилучшей.\n",
        "\n",
        "Но следует упомянуть что гистограмма распределения близка к разбиению на категории, возможно замеры количества нефти в данном регионе отличаются или передача показаний происходила неккоректно."
      ]
    },
    {
      "cell_type": "markdown",
      "metadata": {
        "id": "uBv2ys_UWcuT"
      },
      "source": [
        "**Рекомендации**\n",
        "\n",
        "- Следует уточнить методики измерения получаемого продукта в регионе 1.\n"
      ]
    }
  ],
  "metadata": {
    "ExecuteTimeLog": [
      {
        "duration": 8640,
        "start_time": "2024-06-02T20:00:37.906Z"
      },
      {
        "duration": 6128,
        "start_time": "2024-06-02T20:00:46.548Z"
      },
      {
        "duration": 3077,
        "start_time": "2024-06-02T20:00:52.678Z"
      },
      {
        "duration": 3162,
        "start_time": "2024-06-02T20:00:55.757Z"
      },
      {
        "duration": 4293,
        "start_time": "2024-06-02T20:00:58.921Z"
      },
      {
        "duration": 2488,
        "start_time": "2024-06-02T20:02:18.496Z"
      },
      {
        "duration": 689,
        "start_time": "2024-06-02T20:02:20.986Z"
      },
      {
        "duration": 2465,
        "start_time": "2024-06-02T20:02:21.676Z"
      },
      {
        "duration": 2489,
        "start_time": "2024-06-02T20:02:24.143Z"
      },
      {
        "duration": 2452,
        "start_time": "2024-06-02T20:02:26.634Z"
      },
      {
        "duration": 649,
        "start_time": "2024-06-02T20:02:29.088Z"
      },
      {
        "duration": 2490,
        "start_time": "2024-06-02T20:02:29.739Z"
      },
      {
        "duration": 2,
        "start_time": "2024-06-02T20:02:32.231Z"
      },
      {
        "duration": 563,
        "start_time": "2024-06-02T20:25:15.584Z"
      },
      {
        "duration": 14,
        "start_time": "2024-06-02T20:25:44.809Z"
      },
      {
        "duration": 7,
        "start_time": "2024-06-02T20:26:58.794Z"
      },
      {
        "duration": 8,
        "start_time": "2024-06-02T20:26:59.246Z"
      },
      {
        "duration": 3,
        "start_time": "2024-06-02T20:30:19.533Z"
      },
      {
        "duration": 188,
        "start_time": "2024-06-02T20:31:10.771Z"
      },
      {
        "duration": 12,
        "start_time": "2024-06-02T20:31:44.832Z"
      },
      {
        "duration": 176,
        "start_time": "2024-06-02T20:32:18.273Z"
      },
      {
        "duration": 11,
        "start_time": "2024-06-02T20:32:18.771Z"
      },
      {
        "duration": 187,
        "start_time": "2024-06-02T20:32:19.325Z"
      },
      {
        "duration": 11,
        "start_time": "2024-06-02T20:32:19.970Z"
      },
      {
        "duration": 2518,
        "start_time": "2024-06-02T20:35:42.600Z"
      },
      {
        "duration": 540,
        "start_time": "2024-06-02T20:35:45.120Z"
      },
      {
        "duration": 3133,
        "start_time": "2024-06-02T20:35:45.662Z"
      },
      {
        "duration": 2577,
        "start_time": "2024-06-02T20:35:48.797Z"
      },
      {
        "duration": 2504,
        "start_time": "2024-06-02T20:35:51.376Z"
      },
      {
        "duration": 647,
        "start_time": "2024-06-02T20:35:53.882Z"
      },
      {
        "duration": 2,
        "start_time": "2024-06-02T20:35:54.531Z"
      },
      {
        "duration": 105,
        "start_time": "2024-06-02T20:35:54.535Z"
      },
      {
        "duration": 4,
        "start_time": "2024-06-02T20:35:54.641Z"
      },
      {
        "duration": 334,
        "start_time": "2024-06-02T20:35:54.648Z"
      },
      {
        "duration": 14,
        "start_time": "2024-06-02T20:35:54.983Z"
      },
      {
        "duration": 29,
        "start_time": "2024-06-02T20:35:55.001Z"
      },
      {
        "duration": 19,
        "start_time": "2024-06-02T20:35:55.031Z"
      },
      {
        "duration": 221,
        "start_time": "2024-06-02T20:35:55.051Z"
      },
      {
        "duration": 13,
        "start_time": "2024-06-02T20:35:55.273Z"
      },
      {
        "duration": 202,
        "start_time": "2024-06-02T20:35:55.288Z"
      },
      {
        "duration": 23,
        "start_time": "2024-06-02T20:35:55.491Z"
      },
      {
        "duration": 209,
        "start_time": "2024-06-02T20:35:55.516Z"
      },
      {
        "duration": 12,
        "start_time": "2024-06-02T20:35:55.726Z"
      },
      {
        "duration": 7,
        "start_time": "2024-06-02T20:37:30.817Z"
      },
      {
        "duration": 93,
        "start_time": "2024-06-02T20:39:14.392Z"
      },
      {
        "duration": 9,
        "start_time": "2024-06-02T20:39:27.454Z"
      },
      {
        "duration": 682,
        "start_time": "2024-06-02T20:39:34.546Z"
      },
      {
        "duration": 643,
        "start_time": "2024-06-02T20:40:31.833Z"
      },
      {
        "duration": 7,
        "start_time": "2024-06-02T20:40:54.588Z"
      },
      {
        "duration": 310,
        "start_time": "2024-06-02T20:40:55.471Z"
      },
      {
        "duration": 7,
        "start_time": "2024-06-02T20:40:55.861Z"
      },
      {
        "duration": 8,
        "start_time": "2024-06-02T20:40:56.314Z"
      },
      {
        "duration": 10,
        "start_time": "2024-06-02T20:40:56.687Z"
      },
      {
        "duration": 184,
        "start_time": "2024-06-02T20:40:57.569Z"
      },
      {
        "duration": 11,
        "start_time": "2024-06-02T20:40:58.021Z"
      },
      {
        "duration": 164,
        "start_time": "2024-06-02T20:40:58.515Z"
      },
      {
        "duration": 11,
        "start_time": "2024-06-02T20:40:58.971Z"
      },
      {
        "duration": 193,
        "start_time": "2024-06-02T20:40:59.454Z"
      },
      {
        "duration": 19,
        "start_time": "2024-06-02T20:40:59.921Z"
      },
      {
        "duration": 673,
        "start_time": "2024-06-02T20:41:00.614Z"
      },
      {
        "duration": 653,
        "start_time": "2024-06-02T20:41:49.249Z"
      },
      {
        "duration": 750,
        "start_time": "2024-06-02T20:41:50.115Z"
      },
      {
        "duration": 6,
        "start_time": "2024-06-02T20:46:14.827Z"
      },
      {
        "duration": 319,
        "start_time": "2024-06-02T20:46:15.731Z"
      },
      {
        "duration": 8,
        "start_time": "2024-06-02T20:46:16.138Z"
      },
      {
        "duration": 7,
        "start_time": "2024-06-02T20:46:16.566Z"
      },
      {
        "duration": 8,
        "start_time": "2024-06-02T20:46:17.016Z"
      },
      {
        "duration": 182,
        "start_time": "2024-06-02T20:46:17.941Z"
      },
      {
        "duration": 12,
        "start_time": "2024-06-02T20:46:18.479Z"
      },
      {
        "duration": 169,
        "start_time": "2024-06-02T20:46:18.883Z"
      },
      {
        "duration": 11,
        "start_time": "2024-06-02T20:46:19.387Z"
      },
      {
        "duration": 181,
        "start_time": "2024-06-02T20:46:19.883Z"
      },
      {
        "duration": 18,
        "start_time": "2024-06-02T20:46:20.371Z"
      },
      {
        "duration": 657,
        "start_time": "2024-06-02T20:46:20.981Z"
      },
      {
        "duration": 942,
        "start_time": "2024-06-04T17:17:15.086Z"
      },
      {
        "duration": 85,
        "start_time": "2024-06-04T17:21:25.003Z"
      },
      {
        "duration": 72,
        "start_time": "2024-06-04T17:21:27.789Z"
      },
      {
        "duration": 62,
        "start_time": "2024-06-04T17:21:44.572Z"
      },
      {
        "duration": 69,
        "start_time": "2024-06-04T17:21:54.355Z"
      },
      {
        "duration": 69,
        "start_time": "2024-06-04T17:22:52.608Z"
      },
      {
        "duration": 82,
        "start_time": "2024-06-04T17:23:00.313Z"
      },
      {
        "duration": 65,
        "start_time": "2024-06-04T17:23:05.940Z"
      },
      {
        "duration": 9920,
        "start_time": "2024-06-04T17:23:15.838Z"
      },
      {
        "duration": 836,
        "start_time": "2024-06-04T17:23:25.761Z"
      },
      {
        "duration": 7204,
        "start_time": "2024-06-04T17:23:26.599Z"
      },
      {
        "duration": 4459,
        "start_time": "2024-06-04T17:23:33.808Z"
      },
      {
        "duration": 3395,
        "start_time": "2024-06-04T17:23:38.269Z"
      },
      {
        "duration": 784,
        "start_time": "2024-06-04T17:23:41.666Z"
      },
      {
        "duration": 3,
        "start_time": "2024-06-04T17:23:42.452Z"
      },
      {
        "duration": 140,
        "start_time": "2024-06-04T17:23:42.458Z"
      },
      {
        "duration": 5,
        "start_time": "2024-06-04T17:23:42.599Z"
      },
      {
        "duration": 8,
        "start_time": "2024-06-04T17:23:42.608Z"
      },
      {
        "duration": 663,
        "start_time": "2024-06-04T17:23:42.617Z"
      },
      {
        "duration": 17,
        "start_time": "2024-06-04T17:23:43.282Z"
      },
      {
        "duration": 31,
        "start_time": "2024-06-04T17:23:43.300Z"
      },
      {
        "duration": 14,
        "start_time": "2024-06-04T17:23:43.333Z"
      },
      {
        "duration": 282,
        "start_time": "2024-06-04T17:23:43.348Z"
      },
      {
        "duration": 21,
        "start_time": "2024-06-04T17:23:43.632Z"
      },
      {
        "duration": 307,
        "start_time": "2024-06-04T17:23:43.655Z"
      },
      {
        "duration": 34,
        "start_time": "2024-06-04T17:23:43.964Z"
      },
      {
        "duration": 295,
        "start_time": "2024-06-04T17:23:44.000Z"
      },
      {
        "duration": 15,
        "start_time": "2024-06-04T17:23:44.297Z"
      },
      {
        "duration": 878,
        "start_time": "2024-06-04T17:23:44.314Z"
      },
      {
        "duration": 1024,
        "start_time": "2024-06-04T17:23:45.194Z"
      },
      {
        "duration": 845,
        "start_time": "2024-06-04T17:23:46.220Z"
      },
      {
        "duration": 62,
        "start_time": "2024-06-04T17:23:47.067Z"
      },
      {
        "duration": 0,
        "start_time": "2024-06-04T17:23:47.131Z"
      },
      {
        "duration": 0,
        "start_time": "2024-06-04T17:23:47.132Z"
      },
      {
        "duration": 64,
        "start_time": "2024-06-04T17:24:41.968Z"
      },
      {
        "duration": 64,
        "start_time": "2024-06-04T17:26:25.644Z"
      },
      {
        "duration": 72,
        "start_time": "2024-06-04T17:39:28.290Z"
      },
      {
        "duration": 97,
        "start_time": "2024-06-04T17:39:32.339Z"
      },
      {
        "duration": 62,
        "start_time": "2024-06-04T17:39:59.321Z"
      },
      {
        "duration": 3,
        "start_time": "2024-06-04T17:40:13.289Z"
      },
      {
        "duration": 65,
        "start_time": "2024-06-04T17:40:13.809Z"
      },
      {
        "duration": 62,
        "start_time": "2024-06-04T17:41:03.074Z"
      },
      {
        "duration": 65,
        "start_time": "2024-06-04T17:41:41.068Z"
      },
      {
        "duration": 65,
        "start_time": "2024-06-04T17:42:10.655Z"
      },
      {
        "duration": 76,
        "start_time": "2024-06-04T17:42:30.143Z"
      },
      {
        "duration": 72,
        "start_time": "2024-06-04T17:42:33.060Z"
      },
      {
        "duration": 66,
        "start_time": "2024-06-04T17:43:16.348Z"
      },
      {
        "duration": 72,
        "start_time": "2024-06-04T17:43:30.719Z"
      },
      {
        "duration": 2,
        "start_time": "2024-06-04T17:43:50.141Z"
      },
      {
        "duration": 2,
        "start_time": "2024-06-04T17:43:51.041Z"
      },
      {
        "duration": 4,
        "start_time": "2024-06-04T17:43:52.038Z"
      },
      {
        "duration": 13,
        "start_time": "2024-06-04T17:43:52.468Z"
      },
      {
        "duration": 421,
        "start_time": "2024-06-04T17:43:53.305Z"
      },
      {
        "duration": 3435,
        "start_time": "2024-06-04T17:43:58.509Z"
      },
      {
        "duration": 561,
        "start_time": "2024-06-04T17:44:01.947Z"
      },
      {
        "duration": 2707,
        "start_time": "2024-06-04T17:44:02.511Z"
      },
      {
        "duration": 2638,
        "start_time": "2024-06-04T17:44:05.220Z"
      },
      {
        "duration": 2626,
        "start_time": "2024-06-04T17:44:07.861Z"
      },
      {
        "duration": 802,
        "start_time": "2024-06-04T17:44:10.490Z"
      },
      {
        "duration": 3,
        "start_time": "2024-06-04T17:44:11.294Z"
      },
      {
        "duration": 107,
        "start_time": "2024-06-04T17:44:11.299Z"
      },
      {
        "duration": 4,
        "start_time": "2024-06-04T17:44:11.408Z"
      },
      {
        "duration": 15,
        "start_time": "2024-06-04T17:44:11.414Z"
      },
      {
        "duration": 416,
        "start_time": "2024-06-04T17:44:11.430Z"
      },
      {
        "duration": 17,
        "start_time": "2024-06-04T17:44:11.848Z"
      },
      {
        "duration": 16,
        "start_time": "2024-06-04T17:44:11.867Z"
      },
      {
        "duration": 11,
        "start_time": "2024-06-04T17:44:11.886Z"
      },
      {
        "duration": 270,
        "start_time": "2024-06-04T17:44:11.898Z"
      },
      {
        "duration": 23,
        "start_time": "2024-06-04T17:44:12.169Z"
      },
      {
        "duration": 294,
        "start_time": "2024-06-04T17:44:12.194Z"
      },
      {
        "duration": 16,
        "start_time": "2024-06-04T17:44:12.489Z"
      },
      {
        "duration": 287,
        "start_time": "2024-06-04T17:44:12.506Z"
      },
      {
        "duration": 14,
        "start_time": "2024-06-04T17:44:12.795Z"
      },
      {
        "duration": 892,
        "start_time": "2024-06-04T17:44:12.811Z"
      },
      {
        "duration": 945,
        "start_time": "2024-06-04T17:44:13.705Z"
      },
      {
        "duration": 816,
        "start_time": "2024-06-04T17:44:14.652Z"
      },
      {
        "duration": 3,
        "start_time": "2024-06-04T17:44:15.470Z"
      },
      {
        "duration": 87,
        "start_time": "2024-06-04T17:44:15.482Z"
      },
      {
        "duration": 0,
        "start_time": "2024-06-04T17:44:15.571Z"
      },
      {
        "duration": 0,
        "start_time": "2024-06-04T17:44:15.572Z"
      },
      {
        "duration": 0,
        "start_time": "2024-06-04T17:44:15.573Z"
      },
      {
        "duration": 74,
        "start_time": "2024-06-04T17:44:55.082Z"
      },
      {
        "duration": 84,
        "start_time": "2024-06-04T17:45:45.043Z"
      },
      {
        "duration": 62,
        "start_time": "2024-06-04T17:46:50.419Z"
      },
      {
        "duration": 63,
        "start_time": "2024-06-04T17:48:20.567Z"
      },
      {
        "duration": 67,
        "start_time": "2024-06-04T17:48:47.935Z"
      },
      {
        "duration": 111,
        "start_time": "2024-06-04T17:48:56.842Z"
      },
      {
        "duration": 3,
        "start_time": "2024-06-04T17:49:26.905Z"
      },
      {
        "duration": 13,
        "start_time": "2024-06-04T17:49:27.416Z"
      },
      {
        "duration": 58,
        "start_time": "2024-06-04T17:51:12.351Z"
      },
      {
        "duration": 81,
        "start_time": "2024-06-04T17:52:37.094Z"
      },
      {
        "duration": 61,
        "start_time": "2024-06-04T17:53:46.189Z"
      },
      {
        "duration": 63,
        "start_time": "2024-06-04T17:53:57.589Z"
      },
      {
        "duration": 3,
        "start_time": "2024-06-04T17:53:59.062Z"
      },
      {
        "duration": 66,
        "start_time": "2024-06-04T17:57:21.935Z"
      },
      {
        "duration": 5,
        "start_time": "2024-06-04T18:55:43.154Z"
      },
      {
        "duration": 4,
        "start_time": "2024-06-04T18:56:00.259Z"
      },
      {
        "duration": 60,
        "start_time": "2024-06-04T18:56:32.143Z"
      },
      {
        "duration": 63,
        "start_time": "2024-06-04T18:56:38.835Z"
      },
      {
        "duration": 68,
        "start_time": "2024-06-04T18:57:08.627Z"
      },
      {
        "duration": 64,
        "start_time": "2024-06-04T18:57:48.481Z"
      },
      {
        "duration": 5,
        "start_time": "2024-06-04T18:58:55.254Z"
      },
      {
        "duration": 33,
        "start_time": "2024-06-04T18:59:02.845Z"
      },
      {
        "duration": 6,
        "start_time": "2024-06-04T18:59:16.587Z"
      },
      {
        "duration": 57,
        "start_time": "2024-06-04T18:59:20.125Z"
      },
      {
        "duration": 5,
        "start_time": "2024-06-04T18:59:58.384Z"
      },
      {
        "duration": 5,
        "start_time": "2024-06-04T19:01:41.877Z"
      },
      {
        "duration": 233,
        "start_time": "2024-06-04T19:01:45.658Z"
      },
      {
        "duration": 5,
        "start_time": "2024-06-04T19:02:36.837Z"
      },
      {
        "duration": 2,
        "start_time": "2024-06-04T19:02:37.424Z"
      },
      {
        "duration": 5,
        "start_time": "2024-06-04T19:03:03.783Z"
      },
      {
        "duration": 132,
        "start_time": "2024-06-04T19:03:07.252Z"
      },
      {
        "duration": 5,
        "start_time": "2024-06-04T19:04:17.490Z"
      },
      {
        "duration": 3,
        "start_time": "2024-06-04T19:04:18.550Z"
      },
      {
        "duration": 2,
        "start_time": "2024-06-04T19:04:19.938Z"
      },
      {
        "duration": 28,
        "start_time": "2024-06-04T19:04:20.642Z"
      },
      {
        "duration": 15,
        "start_time": "2024-06-04T19:05:31.876Z"
      },
      {
        "duration": 5,
        "start_time": "2024-06-04T19:05:35.697Z"
      },
      {
        "duration": 27,
        "start_time": "2024-06-04T19:05:39.055Z"
      },
      {
        "duration": 3,
        "start_time": "2024-06-04T19:05:48.350Z"
      },
      {
        "duration": 30,
        "start_time": "2024-06-04T19:05:52.369Z"
      },
      {
        "duration": 4,
        "start_time": "2024-06-04T19:05:54.137Z"
      },
      {
        "duration": 5,
        "start_time": "2024-06-04T19:07:13.775Z"
      },
      {
        "duration": 3,
        "start_time": "2024-06-04T19:07:15.330Z"
      },
      {
        "duration": 3,
        "start_time": "2024-06-04T19:07:16.275Z"
      },
      {
        "duration": 61,
        "start_time": "2024-06-04T19:07:16.829Z"
      },
      {
        "duration": 3,
        "start_time": "2024-06-04T19:07:30.639Z"
      },
      {
        "duration": 85,
        "start_time": "2024-06-04T19:07:59.223Z"
      },
      {
        "duration": 5,
        "start_time": "2024-06-04T19:09:20.067Z"
      },
      {
        "duration": 3,
        "start_time": "2024-06-04T19:11:04.559Z"
      },
      {
        "duration": 7,
        "start_time": "2024-06-04T19:13:11.685Z"
      },
      {
        "duration": 4,
        "start_time": "2024-06-04T19:13:13.349Z"
      },
      {
        "duration": 5,
        "start_time": "2024-06-04T19:14:07.873Z"
      },
      {
        "duration": 4,
        "start_time": "2024-06-04T19:14:22.707Z"
      },
      {
        "duration": 27,
        "start_time": "2024-06-04T19:14:52.026Z"
      },
      {
        "duration": 29,
        "start_time": "2024-06-04T19:16:13.951Z"
      },
      {
        "duration": 13,
        "start_time": "2024-06-04T19:16:23.468Z"
      },
      {
        "duration": 9,
        "start_time": "2024-06-04T19:16:37.833Z"
      },
      {
        "duration": 7,
        "start_time": "2024-06-04T19:16:43.472Z"
      },
      {
        "duration": 25,
        "start_time": "2024-06-04T19:19:24.879Z"
      },
      {
        "duration": 24,
        "start_time": "2024-06-04T19:19:29.902Z"
      },
      {
        "duration": 24,
        "start_time": "2024-06-04T19:19:31.836Z"
      },
      {
        "duration": 24,
        "start_time": "2024-06-04T19:19:44.889Z"
      },
      {
        "duration": 3550,
        "start_time": "2024-06-04T19:19:50.883Z"
      },
      {
        "duration": 573,
        "start_time": "2024-06-04T19:19:54.436Z"
      },
      {
        "duration": 2634,
        "start_time": "2024-06-04T19:19:55.011Z"
      },
      {
        "duration": 2676,
        "start_time": "2024-06-04T19:19:57.649Z"
      },
      {
        "duration": 2635,
        "start_time": "2024-06-04T19:20:00.326Z"
      },
      {
        "duration": 780,
        "start_time": "2024-06-04T19:20:02.963Z"
      },
      {
        "duration": 2,
        "start_time": "2024-06-04T19:20:03.745Z"
      },
      {
        "duration": 122,
        "start_time": "2024-06-04T19:20:03.748Z"
      },
      {
        "duration": 5,
        "start_time": "2024-06-04T19:20:03.871Z"
      },
      {
        "duration": 56,
        "start_time": "2024-06-04T19:20:03.882Z"
      },
      {
        "duration": 488,
        "start_time": "2024-06-04T19:20:03.940Z"
      },
      {
        "duration": 18,
        "start_time": "2024-06-04T19:20:04.431Z"
      },
      {
        "duration": 18,
        "start_time": "2024-06-04T19:20:04.451Z"
      },
      {
        "duration": 25,
        "start_time": "2024-06-04T19:20:04.471Z"
      },
      {
        "duration": 284,
        "start_time": "2024-06-04T19:20:04.498Z"
      },
      {
        "duration": 14,
        "start_time": "2024-06-04T19:20:04.783Z"
      },
      {
        "duration": 267,
        "start_time": "2024-06-04T19:20:04.799Z"
      },
      {
        "duration": 22,
        "start_time": "2024-06-04T19:20:05.067Z"
      },
      {
        "duration": 293,
        "start_time": "2024-06-04T19:20:05.090Z"
      },
      {
        "duration": 14,
        "start_time": "2024-06-04T19:20:05.385Z"
      },
      {
        "duration": 915,
        "start_time": "2024-06-04T19:20:05.400Z"
      },
      {
        "duration": 888,
        "start_time": "2024-06-04T19:20:06.316Z"
      },
      {
        "duration": 878,
        "start_time": "2024-06-04T19:20:07.206Z"
      },
      {
        "duration": 3,
        "start_time": "2024-06-04T19:20:08.086Z"
      },
      {
        "duration": 10,
        "start_time": "2024-06-04T19:20:08.092Z"
      },
      {
        "duration": 8,
        "start_time": "2024-06-04T19:20:08.104Z"
      },
      {
        "duration": 5,
        "start_time": "2024-06-04T19:20:08.114Z"
      },
      {
        "duration": 138,
        "start_time": "2024-06-04T19:20:08.122Z"
      },
      {
        "duration": 0,
        "start_time": "2024-06-04T19:20:08.262Z"
      },
      {
        "duration": 0,
        "start_time": "2024-06-04T19:20:08.263Z"
      },
      {
        "duration": 0,
        "start_time": "2024-06-04T19:20:08.265Z"
      },
      {
        "duration": 0,
        "start_time": "2024-06-04T19:20:08.266Z"
      },
      {
        "duration": 2684,
        "start_time": "2024-06-04T19:20:54.632Z"
      },
      {
        "duration": 558,
        "start_time": "2024-06-04T19:20:57.319Z"
      },
      {
        "duration": 3364,
        "start_time": "2024-06-04T19:20:57.878Z"
      },
      {
        "duration": 2689,
        "start_time": "2024-06-04T19:21:01.245Z"
      },
      {
        "duration": 2622,
        "start_time": "2024-06-04T19:21:03.936Z"
      },
      {
        "duration": 757,
        "start_time": "2024-06-04T19:21:06.560Z"
      },
      {
        "duration": 3,
        "start_time": "2024-06-04T19:21:07.319Z"
      },
      {
        "duration": 108,
        "start_time": "2024-06-04T19:21:07.323Z"
      },
      {
        "duration": 4,
        "start_time": "2024-06-04T19:21:07.433Z"
      },
      {
        "duration": 8,
        "start_time": "2024-06-04T19:21:07.439Z"
      },
      {
        "duration": 424,
        "start_time": "2024-06-04T19:21:07.449Z"
      },
      {
        "duration": 20,
        "start_time": "2024-06-04T19:21:07.874Z"
      },
      {
        "duration": 12,
        "start_time": "2024-06-04T19:21:07.895Z"
      },
      {
        "duration": 9,
        "start_time": "2024-06-04T19:21:07.909Z"
      },
      {
        "duration": 290,
        "start_time": "2024-06-04T19:21:07.920Z"
      },
      {
        "duration": 20,
        "start_time": "2024-06-04T19:21:08.213Z"
      },
      {
        "duration": 265,
        "start_time": "2024-06-04T19:21:08.235Z"
      },
      {
        "duration": 15,
        "start_time": "2024-06-04T19:21:08.501Z"
      },
      {
        "duration": 281,
        "start_time": "2024-06-04T19:21:08.517Z"
      },
      {
        "duration": 14,
        "start_time": "2024-06-04T19:21:08.799Z"
      },
      {
        "duration": 885,
        "start_time": "2024-06-04T19:21:08.815Z"
      },
      {
        "duration": 998,
        "start_time": "2024-06-04T19:21:09.702Z"
      },
      {
        "duration": 830,
        "start_time": "2024-06-04T19:21:10.701Z"
      },
      {
        "duration": 2,
        "start_time": "2024-06-04T19:21:11.533Z"
      },
      {
        "duration": 5,
        "start_time": "2024-06-04T19:21:11.537Z"
      },
      {
        "duration": 3,
        "start_time": "2024-06-04T19:21:11.543Z"
      },
      {
        "duration": 6,
        "start_time": "2024-06-04T19:21:11.548Z"
      },
      {
        "duration": 50,
        "start_time": "2024-06-04T19:21:11.558Z"
      },
      {
        "duration": 116,
        "start_time": "2024-06-04T19:21:11.683Z"
      },
      {
        "duration": 181,
        "start_time": "2024-06-04T19:21:11.801Z"
      },
      {
        "duration": 98,
        "start_time": "2024-06-04T19:21:11.985Z"
      },
      {
        "duration": 112,
        "start_time": "2024-06-04T19:21:12.086Z"
      },
      {
        "duration": 191,
        "start_time": "2024-06-04T19:21:12.201Z"
      },
      {
        "duration": 198,
        "start_time": "2024-06-04T19:21:12.394Z"
      },
      {
        "duration": 4,
        "start_time": "2024-06-04T19:22:08.780Z"
      },
      {
        "duration": 2,
        "start_time": "2024-06-04T19:22:09.904Z"
      },
      {
        "duration": 495,
        "start_time": "2024-06-04T19:22:11.009Z"
      },
      {
        "duration": 126,
        "start_time": "2024-06-04T19:24:14.620Z"
      },
      {
        "duration": 4,
        "start_time": "2024-06-04T19:24:18.481Z"
      },
      {
        "duration": 3,
        "start_time": "2024-06-04T19:24:20.331Z"
      },
      {
        "duration": 32,
        "start_time": "2024-06-04T19:24:21.410Z"
      },
      {
        "duration": 3,
        "start_time": "2024-06-04T19:31:52.769Z"
      },
      {
        "duration": 2,
        "start_time": "2024-06-04T19:36:51.354Z"
      },
      {
        "duration": 3,
        "start_time": "2024-06-04T19:37:00.813Z"
      },
      {
        "duration": 4,
        "start_time": "2024-06-04T19:37:14.795Z"
      },
      {
        "duration": 4,
        "start_time": "2024-06-04T19:52:29.099Z"
      },
      {
        "duration": 4,
        "start_time": "2024-06-04T19:52:29.596Z"
      },
      {
        "duration": 4363,
        "start_time": "2024-06-04T19:58:22.127Z"
      },
      {
        "duration": 584,
        "start_time": "2024-06-04T19:58:26.493Z"
      },
      {
        "duration": 2635,
        "start_time": "2024-06-04T19:58:27.078Z"
      },
      {
        "duration": 2595,
        "start_time": "2024-06-04T19:58:29.716Z"
      },
      {
        "duration": 2644,
        "start_time": "2024-06-04T19:58:32.314Z"
      },
      {
        "duration": 766,
        "start_time": "2024-06-04T19:58:34.961Z"
      },
      {
        "duration": 2,
        "start_time": "2024-06-04T19:58:35.729Z"
      },
      {
        "duration": 151,
        "start_time": "2024-06-04T19:58:35.733Z"
      },
      {
        "duration": 5,
        "start_time": "2024-06-04T19:58:35.886Z"
      },
      {
        "duration": 30,
        "start_time": "2024-06-04T19:58:35.894Z"
      },
      {
        "duration": 479,
        "start_time": "2024-06-04T19:58:35.926Z"
      },
      {
        "duration": 16,
        "start_time": "2024-06-04T19:58:36.407Z"
      },
      {
        "duration": 9,
        "start_time": "2024-06-04T19:58:36.424Z"
      },
      {
        "duration": 37,
        "start_time": "2024-06-04T19:58:36.434Z"
      },
      {
        "duration": 259,
        "start_time": "2024-06-04T19:58:36.473Z"
      },
      {
        "duration": 14,
        "start_time": "2024-06-04T19:58:36.734Z"
      },
      {
        "duration": 251,
        "start_time": "2024-06-04T19:58:36.750Z"
      },
      {
        "duration": 16,
        "start_time": "2024-06-04T19:58:37.003Z"
      },
      {
        "duration": 292,
        "start_time": "2024-06-04T19:58:37.020Z"
      },
      {
        "duration": 16,
        "start_time": "2024-06-04T19:58:37.314Z"
      },
      {
        "duration": 902,
        "start_time": "2024-06-04T19:58:37.332Z"
      },
      {
        "duration": 953,
        "start_time": "2024-06-04T19:58:38.236Z"
      },
      {
        "duration": 801,
        "start_time": "2024-06-04T19:58:39.191Z"
      },
      {
        "duration": 3,
        "start_time": "2024-06-04T19:58:39.993Z"
      },
      {
        "duration": 7,
        "start_time": "2024-06-04T19:58:39.997Z"
      },
      {
        "duration": 121,
        "start_time": "2024-06-04T19:58:40.006Z"
      },
      {
        "duration": 0,
        "start_time": "2024-06-04T19:58:40.129Z"
      },
      {
        "duration": 0,
        "start_time": "2024-06-04T19:58:40.130Z"
      },
      {
        "duration": 0,
        "start_time": "2024-06-04T19:58:40.131Z"
      },
      {
        "duration": 0,
        "start_time": "2024-06-04T19:58:40.132Z"
      },
      {
        "duration": 0,
        "start_time": "2024-06-04T19:58:40.133Z"
      },
      {
        "duration": 0,
        "start_time": "2024-06-04T19:58:40.134Z"
      },
      {
        "duration": 0,
        "start_time": "2024-06-04T19:58:40.134Z"
      },
      {
        "duration": 0,
        "start_time": "2024-06-04T19:58:40.136Z"
      },
      {
        "duration": 0,
        "start_time": "2024-06-04T19:58:40.137Z"
      },
      {
        "duration": 10,
        "start_time": "2024-06-04T19:58:54.638Z"
      },
      {
        "duration": 279,
        "start_time": "2024-06-04T19:59:29.714Z"
      },
      {
        "duration": 3,
        "start_time": "2024-06-04T20:00:13.749Z"
      },
      {
        "duration": 3,
        "start_time": "2024-06-04T20:00:14.496Z"
      },
      {
        "duration": 31,
        "start_time": "2024-06-04T20:00:16.220Z"
      },
      {
        "duration": 41,
        "start_time": "2024-06-04T20:00:20.341Z"
      },
      {
        "duration": 28,
        "start_time": "2024-06-04T20:00:21.213Z"
      },
      {
        "duration": 23,
        "start_time": "2024-06-04T20:00:21.737Z"
      },
      {
        "duration": 72,
        "start_time": "2024-06-04T20:00:22.715Z"
      },
      {
        "duration": 23,
        "start_time": "2024-06-04T20:00:23.307Z"
      },
      {
        "duration": 354,
        "start_time": "2024-06-04T20:00:38.724Z"
      },
      {
        "duration": 15,
        "start_time": "2024-06-04T20:03:58.211Z"
      },
      {
        "duration": 3104,
        "start_time": "2024-06-04T20:04:12.904Z"
      },
      {
        "duration": 739,
        "start_time": "2024-06-04T20:04:16.011Z"
      },
      {
        "duration": 2550,
        "start_time": "2024-06-04T20:04:16.751Z"
      },
      {
        "duration": 2623,
        "start_time": "2024-06-04T20:04:19.303Z"
      },
      {
        "duration": 2671,
        "start_time": "2024-06-04T20:04:21.928Z"
      },
      {
        "duration": 710,
        "start_time": "2024-06-04T20:04:24.601Z"
      },
      {
        "duration": 2,
        "start_time": "2024-06-04T20:04:25.313Z"
      },
      {
        "duration": 122,
        "start_time": "2024-06-04T20:04:25.317Z"
      },
      {
        "duration": 4,
        "start_time": "2024-06-04T20:04:25.440Z"
      },
      {
        "duration": 8,
        "start_time": "2024-06-04T20:04:25.446Z"
      },
      {
        "duration": 441,
        "start_time": "2024-06-04T20:04:25.455Z"
      },
      {
        "duration": 22,
        "start_time": "2024-06-04T20:04:25.899Z"
      },
      {
        "duration": 9,
        "start_time": "2024-06-04T20:04:25.923Z"
      },
      {
        "duration": 14,
        "start_time": "2024-06-04T20:04:25.934Z"
      },
      {
        "duration": 314,
        "start_time": "2024-06-04T20:04:25.950Z"
      },
      {
        "duration": 24,
        "start_time": "2024-06-04T20:04:26.266Z"
      },
      {
        "duration": 270,
        "start_time": "2024-06-04T20:04:26.292Z"
      },
      {
        "duration": 22,
        "start_time": "2024-06-04T20:04:26.563Z"
      },
      {
        "duration": 278,
        "start_time": "2024-06-04T20:04:26.586Z"
      },
      {
        "duration": 23,
        "start_time": "2024-06-04T20:04:26.866Z"
      },
      {
        "duration": 934,
        "start_time": "2024-06-04T20:04:26.891Z"
      },
      {
        "duration": 934,
        "start_time": "2024-06-04T20:04:27.826Z"
      },
      {
        "duration": 901,
        "start_time": "2024-06-04T20:04:28.762Z"
      },
      {
        "duration": 3,
        "start_time": "2024-06-04T20:04:29.664Z"
      },
      {
        "duration": 16,
        "start_time": "2024-06-04T20:04:29.668Z"
      },
      {
        "duration": 11,
        "start_time": "2024-06-04T20:04:29.686Z"
      },
      {
        "duration": 85,
        "start_time": "2024-06-04T20:04:29.698Z"
      },
      {
        "duration": 119,
        "start_time": "2024-06-04T20:04:29.788Z"
      },
      {
        "duration": 186,
        "start_time": "2024-06-04T20:04:29.909Z"
      },
      {
        "duration": 197,
        "start_time": "2024-06-04T20:04:30.097Z"
      },
      {
        "duration": 290,
        "start_time": "2024-06-04T20:04:30.297Z"
      },
      {
        "duration": 208,
        "start_time": "2024-06-04T20:04:30.589Z"
      },
      {
        "duration": 4,
        "start_time": "2024-06-04T20:04:30.799Z"
      },
      {
        "duration": 221,
        "start_time": "2024-06-04T20:04:30.804Z"
      },
      {
        "duration": 171,
        "start_time": "2024-06-04T20:04:31.028Z"
      },
      {
        "duration": 62,
        "start_time": "2024-06-04T20:05:04.186Z"
      },
      {
        "duration": 7,
        "start_time": "2024-06-04T20:05:40.317Z"
      },
      {
        "duration": 8,
        "start_time": "2024-06-04T20:05:51.118Z"
      },
      {
        "duration": 9,
        "start_time": "2024-06-04T20:08:07.265Z"
      },
      {
        "duration": 22,
        "start_time": "2024-06-04T20:08:54.544Z"
      },
      {
        "duration": 5,
        "start_time": "2024-06-04T20:09:18.003Z"
      },
      {
        "duration": 4,
        "start_time": "2024-06-04T20:09:19.275Z"
      },
      {
        "duration": 14,
        "start_time": "2024-06-04T20:09:34.789Z"
      },
      {
        "duration": 17,
        "start_time": "2024-06-04T20:13:46.967Z"
      },
      {
        "duration": 62,
        "start_time": "2024-06-04T20:15:14.915Z"
      },
      {
        "duration": 11,
        "start_time": "2024-06-04T20:15:19.208Z"
      },
      {
        "duration": 5,
        "start_time": "2024-06-04T20:15:33.486Z"
      },
      {
        "duration": 4,
        "start_time": "2024-06-04T20:15:36.523Z"
      },
      {
        "duration": 4,
        "start_time": "2024-06-04T20:17:28.964Z"
      },
      {
        "duration": 5,
        "start_time": "2024-06-04T20:18:09.949Z"
      },
      {
        "duration": 4,
        "start_time": "2024-06-04T20:18:19.227Z"
      },
      {
        "duration": 5,
        "start_time": "2024-06-04T20:18:22.204Z"
      },
      {
        "duration": 2620,
        "start_time": "2024-06-04T20:18:37.773Z"
      },
      {
        "duration": 668,
        "start_time": "2024-06-04T20:18:40.396Z"
      },
      {
        "duration": 2639,
        "start_time": "2024-06-04T20:18:41.066Z"
      },
      {
        "duration": 3264,
        "start_time": "2024-06-04T20:18:43.708Z"
      },
      {
        "duration": 2644,
        "start_time": "2024-06-04T20:18:46.974Z"
      },
      {
        "duration": 846,
        "start_time": "2024-06-04T20:18:49.621Z"
      },
      {
        "duration": 3,
        "start_time": "2024-06-04T20:18:50.470Z"
      },
      {
        "duration": 112,
        "start_time": "2024-06-04T20:18:50.475Z"
      },
      {
        "duration": 4,
        "start_time": "2024-06-04T20:18:50.589Z"
      },
      {
        "duration": 23,
        "start_time": "2024-06-04T20:18:50.597Z"
      },
      {
        "duration": 448,
        "start_time": "2024-06-04T20:18:50.622Z"
      },
      {
        "duration": 18,
        "start_time": "2024-06-04T20:18:51.072Z"
      },
      {
        "duration": 13,
        "start_time": "2024-06-04T20:18:51.091Z"
      },
      {
        "duration": 17,
        "start_time": "2024-06-04T20:18:51.105Z"
      },
      {
        "duration": 291,
        "start_time": "2024-06-04T20:18:51.124Z"
      },
      {
        "duration": 16,
        "start_time": "2024-06-04T20:18:51.417Z"
      },
      {
        "duration": 327,
        "start_time": "2024-06-04T20:18:51.435Z"
      },
      {
        "duration": 35,
        "start_time": "2024-06-04T20:18:51.764Z"
      },
      {
        "duration": 350,
        "start_time": "2024-06-04T20:18:51.803Z"
      },
      {
        "duration": 14,
        "start_time": "2024-06-04T20:18:52.155Z"
      },
      {
        "duration": 925,
        "start_time": "2024-06-04T20:18:52.182Z"
      },
      {
        "duration": 973,
        "start_time": "2024-06-04T20:18:53.110Z"
      },
      {
        "duration": 762,
        "start_time": "2024-06-04T20:18:54.085Z"
      },
      {
        "duration": 3,
        "start_time": "2024-06-04T20:18:54.848Z"
      },
      {
        "duration": 7,
        "start_time": "2024-06-04T20:18:54.852Z"
      },
      {
        "duration": 10,
        "start_time": "2024-06-04T20:18:54.860Z"
      },
      {
        "duration": 39,
        "start_time": "2024-06-04T20:18:54.871Z"
      },
      {
        "duration": 185,
        "start_time": "2024-06-04T20:18:54.914Z"
      },
      {
        "duration": 285,
        "start_time": "2024-06-04T20:18:55.102Z"
      },
      {
        "duration": 115,
        "start_time": "2024-06-04T20:18:55.389Z"
      },
      {
        "duration": 279,
        "start_time": "2024-06-04T20:18:55.507Z"
      },
      {
        "duration": 112,
        "start_time": "2024-06-04T20:18:55.788Z"
      },
      {
        "duration": 4,
        "start_time": "2024-06-04T20:18:55.902Z"
      },
      {
        "duration": 97,
        "start_time": "2024-06-04T20:18:55.985Z"
      },
      {
        "duration": 7,
        "start_time": "2024-06-04T20:18:56.084Z"
      },
      {
        "duration": 4,
        "start_time": "2024-06-04T20:19:33.704Z"
      },
      {
        "duration": 4,
        "start_time": "2024-06-04T20:19:39.036Z"
      },
      {
        "duration": 63,
        "start_time": "2024-06-04T20:20:15.365Z"
      },
      {
        "duration": 63,
        "start_time": "2024-06-04T20:20:29.883Z"
      },
      {
        "duration": 67,
        "start_time": "2024-06-04T20:20:34.799Z"
      },
      {
        "duration": 61,
        "start_time": "2024-06-04T20:20:50.736Z"
      },
      {
        "duration": 62,
        "start_time": "2024-06-04T20:20:55.668Z"
      },
      {
        "duration": 68,
        "start_time": "2024-06-04T20:21:00.475Z"
      },
      {
        "duration": 59,
        "start_time": "2024-06-04T20:22:41.021Z"
      },
      {
        "duration": 86,
        "start_time": "2024-06-04T20:23:35.039Z"
      },
      {
        "duration": 6,
        "start_time": "2024-06-04T20:23:47.336Z"
      },
      {
        "duration": 5,
        "start_time": "2024-06-04T20:24:06.841Z"
      },
      {
        "duration": 6,
        "start_time": "2024-06-04T20:24:15.784Z"
      },
      {
        "duration": 5,
        "start_time": "2024-06-04T20:24:29.875Z"
      },
      {
        "duration": 4,
        "start_time": "2024-06-04T20:25:03.717Z"
      },
      {
        "duration": 63,
        "start_time": "2024-06-04T20:28:27.546Z"
      },
      {
        "duration": 77,
        "start_time": "2024-06-04T20:28:39.561Z"
      },
      {
        "duration": 18,
        "start_time": "2024-06-04T20:28:58.337Z"
      },
      {
        "duration": 60,
        "start_time": "2024-06-04T20:32:26.488Z"
      },
      {
        "duration": 116,
        "start_time": "2024-06-04T20:32:40.026Z"
      },
      {
        "duration": 2673,
        "start_time": "2024-06-04T20:32:54.104Z"
      },
      {
        "duration": 619,
        "start_time": "2024-06-04T20:32:56.780Z"
      },
      {
        "duration": 2586,
        "start_time": "2024-06-04T20:32:57.400Z"
      },
      {
        "duration": 3609,
        "start_time": "2024-06-04T20:32:59.988Z"
      },
      {
        "duration": 2622,
        "start_time": "2024-06-04T20:33:03.600Z"
      },
      {
        "duration": 789,
        "start_time": "2024-06-04T20:33:06.225Z"
      },
      {
        "duration": 3,
        "start_time": "2024-06-04T20:33:07.015Z"
      },
      {
        "duration": 114,
        "start_time": "2024-06-04T20:33:07.020Z"
      },
      {
        "duration": 4,
        "start_time": "2024-06-04T20:33:07.136Z"
      },
      {
        "duration": 17,
        "start_time": "2024-06-04T20:33:07.143Z"
      },
      {
        "duration": 451,
        "start_time": "2024-06-04T20:33:07.162Z"
      },
      {
        "duration": 16,
        "start_time": "2024-06-04T20:33:07.615Z"
      },
      {
        "duration": 8,
        "start_time": "2024-06-04T20:33:07.632Z"
      },
      {
        "duration": 11,
        "start_time": "2024-06-04T20:33:07.642Z"
      },
      {
        "duration": 303,
        "start_time": "2024-06-04T20:33:07.654Z"
      },
      {
        "duration": 27,
        "start_time": "2024-06-04T20:33:07.959Z"
      },
      {
        "duration": 299,
        "start_time": "2024-06-04T20:33:07.988Z"
      },
      {
        "duration": 15,
        "start_time": "2024-06-04T20:33:08.289Z"
      },
      {
        "duration": 296,
        "start_time": "2024-06-04T20:33:08.305Z"
      },
      {
        "duration": 15,
        "start_time": "2024-06-04T20:33:08.603Z"
      },
      {
        "duration": 911,
        "start_time": "2024-06-04T20:33:08.620Z"
      },
      {
        "duration": 957,
        "start_time": "2024-06-04T20:33:09.532Z"
      },
      {
        "duration": 863,
        "start_time": "2024-06-04T20:33:10.490Z"
      },
      {
        "duration": 3,
        "start_time": "2024-06-04T20:33:11.355Z"
      },
      {
        "duration": 12,
        "start_time": "2024-06-04T20:33:11.359Z"
      },
      {
        "duration": 11,
        "start_time": "2024-06-04T20:33:11.372Z"
      },
      {
        "duration": 31,
        "start_time": "2024-06-04T20:33:11.385Z"
      },
      {
        "duration": 119,
        "start_time": "2024-06-04T20:33:11.485Z"
      },
      {
        "duration": 182,
        "start_time": "2024-06-04T20:33:11.607Z"
      },
      {
        "duration": 203,
        "start_time": "2024-06-04T20:33:11.792Z"
      },
      {
        "duration": 199,
        "start_time": "2024-06-04T20:33:11.997Z"
      },
      {
        "duration": 201,
        "start_time": "2024-06-04T20:33:12.283Z"
      },
      {
        "duration": 3,
        "start_time": "2024-06-04T20:33:12.487Z"
      },
      {
        "duration": 97,
        "start_time": "2024-06-04T20:33:12.492Z"
      },
      {
        "duration": 16,
        "start_time": "2024-06-04T20:33:12.591Z"
      },
      {
        "duration": 95,
        "start_time": "2024-06-04T20:33:52.187Z"
      },
      {
        "duration": 64,
        "start_time": "2024-06-04T20:35:16.381Z"
      },
      {
        "duration": 64,
        "start_time": "2024-06-04T20:35:22.959Z"
      },
      {
        "duration": 1176,
        "start_time": "2024-06-04T20:35:26.334Z"
      },
      {
        "duration": 8,
        "start_time": "2024-06-04T20:35:39.318Z"
      },
      {
        "duration": 15,
        "start_time": "2024-06-04T20:35:57.907Z"
      },
      {
        "duration": 7,
        "start_time": "2024-06-04T20:35:59.553Z"
      },
      {
        "duration": 10,
        "start_time": "2024-06-04T20:36:08.557Z"
      },
      {
        "duration": 7,
        "start_time": "2024-06-04T20:36:09.154Z"
      },
      {
        "duration": 11,
        "start_time": "2024-06-04T20:38:52.916Z"
      },
      {
        "duration": 2604,
        "start_time": "2024-06-04T20:39:03.372Z"
      },
      {
        "duration": 589,
        "start_time": "2024-06-04T20:39:05.979Z"
      },
      {
        "duration": 2804,
        "start_time": "2024-06-04T20:39:06.570Z"
      },
      {
        "duration": 2608,
        "start_time": "2024-06-04T20:39:09.377Z"
      },
      {
        "duration": 2646,
        "start_time": "2024-06-04T20:39:11.987Z"
      },
      {
        "duration": 790,
        "start_time": "2024-06-04T20:39:14.635Z"
      },
      {
        "duration": 2,
        "start_time": "2024-06-04T20:39:15.427Z"
      },
      {
        "duration": 123,
        "start_time": "2024-06-04T20:39:15.431Z"
      },
      {
        "duration": 5,
        "start_time": "2024-06-04T20:39:15.555Z"
      },
      {
        "duration": 10,
        "start_time": "2024-06-04T20:39:15.564Z"
      },
      {
        "duration": 445,
        "start_time": "2024-06-04T20:39:15.576Z"
      },
      {
        "duration": 26,
        "start_time": "2024-06-04T20:39:16.022Z"
      },
      {
        "duration": 9,
        "start_time": "2024-06-04T20:39:16.050Z"
      },
      {
        "duration": 26,
        "start_time": "2024-06-04T20:39:16.060Z"
      },
      {
        "duration": 263,
        "start_time": "2024-06-04T20:39:16.088Z"
      },
      {
        "duration": 30,
        "start_time": "2024-06-04T20:39:16.353Z"
      },
      {
        "duration": 259,
        "start_time": "2024-06-04T20:39:16.384Z"
      },
      {
        "duration": 15,
        "start_time": "2024-06-04T20:39:16.644Z"
      },
      {
        "duration": 270,
        "start_time": "2024-06-04T20:39:16.660Z"
      },
      {
        "duration": 14,
        "start_time": "2024-06-04T20:39:16.932Z"
      },
      {
        "duration": 902,
        "start_time": "2024-06-04T20:39:16.947Z"
      },
      {
        "duration": 894,
        "start_time": "2024-06-04T20:39:17.851Z"
      },
      {
        "duration": 844,
        "start_time": "2024-06-04T20:39:18.747Z"
      },
      {
        "duration": 4,
        "start_time": "2024-06-04T20:39:19.592Z"
      },
      {
        "duration": 12,
        "start_time": "2024-06-04T20:39:19.598Z"
      },
      {
        "duration": 5,
        "start_time": "2024-06-04T20:39:19.612Z"
      },
      {
        "duration": 70,
        "start_time": "2024-06-04T20:39:19.618Z"
      },
      {
        "duration": 198,
        "start_time": "2024-06-04T20:39:19.692Z"
      },
      {
        "duration": 203,
        "start_time": "2024-06-04T20:39:19.892Z"
      },
      {
        "duration": 200,
        "start_time": "2024-06-04T20:39:20.097Z"
      },
      {
        "duration": 280,
        "start_time": "2024-06-04T20:39:20.303Z"
      },
      {
        "duration": 111,
        "start_time": "2024-06-04T20:39:20.586Z"
      },
      {
        "duration": 5,
        "start_time": "2024-06-04T20:39:20.700Z"
      },
      {
        "duration": 101,
        "start_time": "2024-06-04T20:39:20.784Z"
      },
      {
        "duration": 131,
        "start_time": "2024-06-04T20:39:20.887Z"
      },
      {
        "duration": 0,
        "start_time": "2024-06-04T20:39:21.020Z"
      },
      {
        "duration": 17,
        "start_time": "2024-06-04T20:39:43.572Z"
      },
      {
        "duration": 4,
        "start_time": "2024-06-04T20:39:50.851Z"
      },
      {
        "duration": 3,
        "start_time": "2024-06-04T20:41:27.721Z"
      },
      {
        "duration": 4,
        "start_time": "2024-06-04T20:42:26.295Z"
      },
      {
        "duration": 3,
        "start_time": "2024-06-04T20:42:37.687Z"
      },
      {
        "duration": 3,
        "start_time": "2024-06-04T20:42:46.752Z"
      },
      {
        "duration": 65,
        "start_time": "2024-06-04T20:45:57.472Z"
      },
      {
        "duration": 59,
        "start_time": "2024-06-04T20:46:31.964Z"
      },
      {
        "duration": 61,
        "start_time": "2024-06-04T20:46:53.832Z"
      },
      {
        "duration": 4,
        "start_time": "2024-06-04T20:47:47.902Z"
      },
      {
        "duration": 5,
        "start_time": "2024-06-04T20:50:24.507Z"
      },
      {
        "duration": 5,
        "start_time": "2024-06-04T20:51:40.854Z"
      },
      {
        "duration": 9345,
        "start_time": "2024-06-05T08:31:52.307Z"
      },
      {
        "duration": 927,
        "start_time": "2024-06-05T08:32:01.654Z"
      },
      {
        "duration": 6653,
        "start_time": "2024-06-05T08:32:02.582Z"
      },
      {
        "duration": 3378,
        "start_time": "2024-06-05T08:32:09.238Z"
      },
      {
        "duration": 3519,
        "start_time": "2024-06-05T08:32:12.618Z"
      },
      {
        "duration": 675,
        "start_time": "2024-06-05T08:32:16.140Z"
      },
      {
        "duration": 3,
        "start_time": "2024-06-05T08:32:16.816Z"
      },
      {
        "duration": 110,
        "start_time": "2024-06-05T08:32:16.820Z"
      },
      {
        "duration": 4,
        "start_time": "2024-06-05T08:32:16.932Z"
      },
      {
        "duration": 25,
        "start_time": "2024-06-05T08:32:16.939Z"
      },
      {
        "duration": 599,
        "start_time": "2024-06-05T08:32:16.966Z"
      },
      {
        "duration": 14,
        "start_time": "2024-06-05T08:32:17.567Z"
      },
      {
        "duration": 11,
        "start_time": "2024-06-05T08:32:17.583Z"
      },
      {
        "duration": 11,
        "start_time": "2024-06-05T08:32:17.596Z"
      },
      {
        "duration": 242,
        "start_time": "2024-06-05T08:32:17.609Z"
      },
      {
        "duration": 13,
        "start_time": "2024-06-05T08:32:17.853Z"
      },
      {
        "duration": 235,
        "start_time": "2024-06-05T08:32:17.867Z"
      },
      {
        "duration": 19,
        "start_time": "2024-06-05T08:32:18.104Z"
      },
      {
        "duration": 231,
        "start_time": "2024-06-05T08:32:18.125Z"
      },
      {
        "duration": 11,
        "start_time": "2024-06-05T08:32:18.358Z"
      },
      {
        "duration": 799,
        "start_time": "2024-06-05T08:32:18.371Z"
      },
      {
        "duration": 762,
        "start_time": "2024-06-05T08:32:19.171Z"
      },
      {
        "duration": 744,
        "start_time": "2024-06-05T08:32:19.935Z"
      },
      {
        "duration": 3,
        "start_time": "2024-06-05T08:32:20.680Z"
      },
      {
        "duration": 6,
        "start_time": "2024-06-05T08:32:20.684Z"
      },
      {
        "duration": 4,
        "start_time": "2024-06-05T08:32:20.691Z"
      },
      {
        "duration": 38,
        "start_time": "2024-06-05T08:32:20.696Z"
      },
      {
        "duration": 187,
        "start_time": "2024-06-05T08:32:20.738Z"
      },
      {
        "duration": 195,
        "start_time": "2024-06-05T08:32:20.927Z"
      },
      {
        "duration": 194,
        "start_time": "2024-06-05T08:32:21.124Z"
      },
      {
        "duration": 194,
        "start_time": "2024-06-05T08:32:21.320Z"
      },
      {
        "duration": 104,
        "start_time": "2024-06-05T08:32:21.516Z"
      },
      {
        "duration": 3,
        "start_time": "2024-06-05T08:32:21.622Z"
      },
      {
        "duration": 89,
        "start_time": "2024-06-05T08:32:21.626Z"
      },
      {
        "duration": 96,
        "start_time": "2024-06-05T08:32:21.717Z"
      },
      {
        "duration": 22,
        "start_time": "2024-06-05T08:32:21.814Z"
      },
      {
        "duration": 4,
        "start_time": "2024-06-05T08:46:58.404Z"
      },
      {
        "duration": 112,
        "start_time": "2024-06-05T09:27:32.356Z"
      },
      {
        "duration": 2088,
        "start_time": "2024-06-05T09:28:21.030Z"
      },
      {
        "duration": 3,
        "start_time": "2024-06-05T09:30:29.913Z"
      },
      {
        "duration": 3,
        "start_time": "2024-06-05T09:30:43.615Z"
      },
      {
        "duration": 2075,
        "start_time": "2024-06-05T09:30:53.070Z"
      },
      {
        "duration": 3,
        "start_time": "2024-06-05T09:31:23.642Z"
      },
      {
        "duration": 4351,
        "start_time": "2024-06-05T09:31:26.487Z"
      },
      {
        "duration": 3,
        "start_time": "2024-06-05T09:31:58.442Z"
      },
      {
        "duration": 11,
        "start_time": "2024-06-05T09:32:00.284Z"
      },
      {
        "duration": 4,
        "start_time": "2024-06-05T09:35:17.439Z"
      },
      {
        "duration": 62,
        "start_time": "2024-06-05T09:36:27.486Z"
      },
      {
        "duration": 4,
        "start_time": "2024-06-05T09:36:28.793Z"
      },
      {
        "duration": 68,
        "start_time": "2024-06-05T09:36:54.353Z"
      },
      {
        "duration": 89,
        "start_time": "2024-06-05T09:37:11.463Z"
      },
      {
        "duration": 60,
        "start_time": "2024-06-05T09:37:47.675Z"
      },
      {
        "duration": 67,
        "start_time": "2024-06-05T09:38:03.495Z"
      },
      {
        "duration": 20,
        "start_time": "2024-06-05T09:39:21.605Z"
      },
      {
        "duration": 8,
        "start_time": "2024-06-05T09:39:41.209Z"
      },
      {
        "duration": 20,
        "start_time": "2024-06-05T09:40:18.653Z"
      },
      {
        "duration": 8,
        "start_time": "2024-06-05T09:41:24.164Z"
      },
      {
        "duration": 5,
        "start_time": "2024-06-05T09:42:06.150Z"
      },
      {
        "duration": 9,
        "start_time": "2024-06-05T09:42:09.579Z"
      },
      {
        "duration": 3,
        "start_time": "2024-06-05T09:43:17.708Z"
      },
      {
        "duration": 3,
        "start_time": "2024-06-05T09:43:53.879Z"
      },
      {
        "duration": 14,
        "start_time": "2024-06-05T09:43:55.200Z"
      },
      {
        "duration": 2,
        "start_time": "2024-06-05T09:45:14.600Z"
      },
      {
        "duration": 3,
        "start_time": "2024-06-05T09:45:15.204Z"
      },
      {
        "duration": 8,
        "start_time": "2024-06-05T09:45:15.720Z"
      },
      {
        "duration": 2,
        "start_time": "2024-06-05T09:45:16.438Z"
      },
      {
        "duration": 3,
        "start_time": "2024-06-05T09:45:25.469Z"
      },
      {
        "duration": 3,
        "start_time": "2024-06-05T09:46:41.693Z"
      },
      {
        "duration": 3,
        "start_time": "2024-06-05T09:46:42.209Z"
      },
      {
        "duration": 9,
        "start_time": "2024-06-05T09:46:42.729Z"
      },
      {
        "duration": 11,
        "start_time": "2024-06-05T09:46:43.294Z"
      },
      {
        "duration": 60,
        "start_time": "2024-06-05T09:51:42.682Z"
      },
      {
        "duration": 28,
        "start_time": "2024-06-05T09:52:42.760Z"
      },
      {
        "duration": 2953,
        "start_time": "2024-06-05T09:53:07.775Z"
      },
      {
        "duration": 535,
        "start_time": "2024-06-05T09:53:10.731Z"
      },
      {
        "duration": 3413,
        "start_time": "2024-06-05T09:53:11.267Z"
      },
      {
        "duration": 2789,
        "start_time": "2024-06-05T09:53:14.683Z"
      },
      {
        "duration": 2742,
        "start_time": "2024-06-05T09:53:17.474Z"
      },
      {
        "duration": 676,
        "start_time": "2024-06-05T09:53:20.219Z"
      },
      {
        "duration": 2,
        "start_time": "2024-06-05T09:53:20.897Z"
      },
      {
        "duration": 107,
        "start_time": "2024-06-05T09:53:20.900Z"
      },
      {
        "duration": 5,
        "start_time": "2024-06-05T09:53:21.008Z"
      },
      {
        "duration": 9,
        "start_time": "2024-06-05T09:53:21.015Z"
      },
      {
        "duration": 383,
        "start_time": "2024-06-05T09:53:21.025Z"
      },
      {
        "duration": 15,
        "start_time": "2024-06-05T09:53:21.409Z"
      },
      {
        "duration": 8,
        "start_time": "2024-06-05T09:53:21.425Z"
      },
      {
        "duration": 8,
        "start_time": "2024-06-05T09:53:21.434Z"
      },
      {
        "duration": 232,
        "start_time": "2024-06-05T09:53:21.443Z"
      },
      {
        "duration": 12,
        "start_time": "2024-06-05T09:53:21.677Z"
      },
      {
        "duration": 254,
        "start_time": "2024-06-05T09:53:21.691Z"
      },
      {
        "duration": 11,
        "start_time": "2024-06-05T09:53:21.947Z"
      },
      {
        "duration": 238,
        "start_time": "2024-06-05T09:53:21.960Z"
      },
      {
        "duration": 21,
        "start_time": "2024-06-05T09:53:22.200Z"
      },
      {
        "duration": 755,
        "start_time": "2024-06-05T09:53:22.223Z"
      },
      {
        "duration": 780,
        "start_time": "2024-06-05T09:53:22.979Z"
      },
      {
        "duration": 686,
        "start_time": "2024-06-05T09:53:23.760Z"
      },
      {
        "duration": 3,
        "start_time": "2024-06-05T09:53:24.447Z"
      },
      {
        "duration": 4,
        "start_time": "2024-06-05T09:53:24.451Z"
      },
      {
        "duration": 11,
        "start_time": "2024-06-05T09:53:24.457Z"
      },
      {
        "duration": 47,
        "start_time": "2024-06-05T09:53:24.469Z"
      },
      {
        "duration": 204,
        "start_time": "2024-06-05T09:53:24.520Z"
      },
      {
        "duration": 191,
        "start_time": "2024-06-05T09:53:24.726Z"
      },
      {
        "duration": 203,
        "start_time": "2024-06-05T09:53:24.920Z"
      },
      {
        "duration": 198,
        "start_time": "2024-06-05T09:53:25.124Z"
      },
      {
        "duration": 193,
        "start_time": "2024-06-05T09:53:25.323Z"
      },
      {
        "duration": 3,
        "start_time": "2024-06-05T09:53:25.517Z"
      },
      {
        "duration": 91,
        "start_time": "2024-06-05T09:53:25.521Z"
      },
      {
        "duration": 98,
        "start_time": "2024-06-05T09:53:25.614Z"
      },
      {
        "duration": 152,
        "start_time": "2024-06-05T09:53:25.714Z"
      },
      {
        "duration": 0,
        "start_time": "2024-06-05T09:53:25.868Z"
      },
      {
        "duration": 0,
        "start_time": "2024-06-05T09:53:25.869Z"
      },
      {
        "duration": 0,
        "start_time": "2024-06-05T09:53:25.870Z"
      },
      {
        "duration": 0,
        "start_time": "2024-06-05T09:53:25.871Z"
      },
      {
        "duration": 0,
        "start_time": "2024-06-05T09:53:25.872Z"
      },
      {
        "duration": 3,
        "start_time": "2024-06-05T09:54:52.467Z"
      },
      {
        "duration": 26,
        "start_time": "2024-06-05T09:54:59.272Z"
      },
      {
        "duration": 26,
        "start_time": "2024-06-05T09:56:28.585Z"
      },
      {
        "duration": 28,
        "start_time": "2024-06-05T09:57:41.442Z"
      },
      {
        "duration": 281,
        "start_time": "2024-06-05T09:57:55.174Z"
      },
      {
        "duration": 77,
        "start_time": "2024-06-05T09:59:38.490Z"
      },
      {
        "duration": 60,
        "start_time": "2024-06-05T09:59:43.065Z"
      },
      {
        "duration": 11,
        "start_time": "2024-06-05T09:59:55.606Z"
      },
      {
        "duration": 8,
        "start_time": "2024-06-05T10:00:11.228Z"
      },
      {
        "duration": 8,
        "start_time": "2024-06-05T10:00:17.579Z"
      },
      {
        "duration": 3,
        "start_time": "2024-06-05T10:00:31.652Z"
      },
      {
        "duration": 9,
        "start_time": "2024-06-05T10:00:40.001Z"
      },
      {
        "duration": 65,
        "start_time": "2024-06-05T10:07:32.488Z"
      },
      {
        "duration": 64,
        "start_time": "2024-06-05T10:07:40.943Z"
      },
      {
        "duration": 60,
        "start_time": "2024-06-05T10:07:49.825Z"
      },
      {
        "duration": 25,
        "start_time": "2024-06-05T10:08:01.224Z"
      },
      {
        "duration": 25,
        "start_time": "2024-06-05T10:12:01.717Z"
      },
      {
        "duration": 25,
        "start_time": "2024-06-05T10:14:49.799Z"
      },
      {
        "duration": 3,
        "start_time": "2024-06-05T10:15:05.863Z"
      },
      {
        "duration": 27,
        "start_time": "2024-06-05T10:15:15.768Z"
      },
      {
        "duration": 28,
        "start_time": "2024-06-05T10:15:26.589Z"
      },
      {
        "duration": 3,
        "start_time": "2024-06-05T10:17:52.518Z"
      },
      {
        "duration": 27,
        "start_time": "2024-06-05T10:17:56.573Z"
      },
      {
        "duration": 4,
        "start_time": "2024-06-05T10:18:07.071Z"
      },
      {
        "duration": 27,
        "start_time": "2024-06-05T10:18:07.310Z"
      },
      {
        "duration": 260,
        "start_time": "2024-06-05T10:18:19.026Z"
      },
      {
        "duration": 266,
        "start_time": "2024-06-05T10:18:27.730Z"
      },
      {
        "duration": 26,
        "start_time": "2024-06-05T10:18:45.224Z"
      },
      {
        "duration": 26,
        "start_time": "2024-06-05T10:19:02.208Z"
      },
      {
        "duration": 2754,
        "start_time": "2024-06-05T10:19:21.553Z"
      },
      {
        "duration": 557,
        "start_time": "2024-06-05T10:19:24.309Z"
      },
      {
        "duration": 2697,
        "start_time": "2024-06-05T10:19:24.867Z"
      },
      {
        "duration": 2756,
        "start_time": "2024-06-05T10:19:27.567Z"
      },
      {
        "duration": 3513,
        "start_time": "2024-06-05T10:19:30.325Z"
      },
      {
        "duration": 665,
        "start_time": "2024-06-05T10:19:33.840Z"
      },
      {
        "duration": 2,
        "start_time": "2024-06-05T10:19:34.507Z"
      },
      {
        "duration": 100,
        "start_time": "2024-06-05T10:19:34.512Z"
      },
      {
        "duration": 4,
        "start_time": "2024-06-05T10:19:34.614Z"
      },
      {
        "duration": 8,
        "start_time": "2024-06-05T10:19:34.622Z"
      },
      {
        "duration": 360,
        "start_time": "2024-06-05T10:19:34.631Z"
      },
      {
        "duration": 15,
        "start_time": "2024-06-05T10:19:34.993Z"
      },
      {
        "duration": 8,
        "start_time": "2024-06-05T10:19:35.012Z"
      },
      {
        "duration": 10,
        "start_time": "2024-06-05T10:19:35.022Z"
      },
      {
        "duration": 235,
        "start_time": "2024-06-05T10:19:35.034Z"
      },
      {
        "duration": 14,
        "start_time": "2024-06-05T10:19:35.270Z"
      },
      {
        "duration": 233,
        "start_time": "2024-06-05T10:19:35.286Z"
      },
      {
        "duration": 13,
        "start_time": "2024-06-05T10:19:35.521Z"
      },
      {
        "duration": 241,
        "start_time": "2024-06-05T10:19:35.535Z"
      },
      {
        "duration": 14,
        "start_time": "2024-06-05T10:19:35.778Z"
      },
      {
        "duration": 797,
        "start_time": "2024-06-05T10:19:35.794Z"
      },
      {
        "duration": 743,
        "start_time": "2024-06-05T10:19:36.592Z"
      },
      {
        "duration": 690,
        "start_time": "2024-06-05T10:19:37.337Z"
      },
      {
        "duration": 2,
        "start_time": "2024-06-05T10:19:38.029Z"
      },
      {
        "duration": 10,
        "start_time": "2024-06-05T10:19:38.032Z"
      },
      {
        "duration": 4,
        "start_time": "2024-06-05T10:19:38.043Z"
      },
      {
        "duration": 64,
        "start_time": "2024-06-05T10:19:38.048Z"
      },
      {
        "duration": 118,
        "start_time": "2024-06-05T10:19:38.116Z"
      },
      {
        "duration": 183,
        "start_time": "2024-06-05T10:19:38.235Z"
      },
      {
        "duration": 203,
        "start_time": "2024-06-05T10:19:38.419Z"
      },
      {
        "duration": 114,
        "start_time": "2024-06-05T10:19:38.713Z"
      },
      {
        "duration": 185,
        "start_time": "2024-06-05T10:19:38.832Z"
      },
      {
        "duration": 92,
        "start_time": "2024-06-05T10:19:39.022Z"
      },
      {
        "duration": 93,
        "start_time": "2024-06-05T10:19:39.120Z"
      },
      {
        "duration": 8,
        "start_time": "2024-06-05T10:19:39.214Z"
      },
      {
        "duration": 138,
        "start_time": "2024-06-05T10:19:39.223Z"
      },
      {
        "duration": 0,
        "start_time": "2024-06-05T10:19:39.362Z"
      },
      {
        "duration": 0,
        "start_time": "2024-06-05T10:19:39.364Z"
      },
      {
        "duration": 0,
        "start_time": "2024-06-05T10:19:39.365Z"
      },
      {
        "duration": 0,
        "start_time": "2024-06-05T10:19:39.366Z"
      },
      {
        "duration": 0,
        "start_time": "2024-06-05T10:19:39.367Z"
      },
      {
        "duration": 0,
        "start_time": "2024-06-05T10:19:39.368Z"
      },
      {
        "duration": 0,
        "start_time": "2024-06-05T10:19:39.369Z"
      },
      {
        "duration": 26,
        "start_time": "2024-06-05T10:20:47.969Z"
      },
      {
        "duration": 72,
        "start_time": "2024-06-05T10:21:35.267Z"
      },
      {
        "duration": 24,
        "start_time": "2024-06-05T10:21:59.617Z"
      },
      {
        "duration": 4,
        "start_time": "2024-06-05T10:22:05.048Z"
      },
      {
        "duration": 13,
        "start_time": "2024-06-05T10:22:05.685Z"
      },
      {
        "duration": 11,
        "start_time": "2024-06-05T10:22:36.204Z"
      },
      {
        "duration": 62,
        "start_time": "2024-06-05T10:24:10.321Z"
      },
      {
        "duration": 5,
        "start_time": "2024-06-05T10:24:14.771Z"
      },
      {
        "duration": 9,
        "start_time": "2024-06-05T10:24:36.838Z"
      },
      {
        "duration": 6,
        "start_time": "2024-06-05T10:24:47.706Z"
      },
      {
        "duration": 4,
        "start_time": "2024-06-05T10:25:02.248Z"
      },
      {
        "duration": 4,
        "start_time": "2024-06-05T10:25:50.273Z"
      },
      {
        "duration": 6,
        "start_time": "2024-06-05T10:25:53.038Z"
      },
      {
        "duration": 6,
        "start_time": "2024-06-05T10:26:26.637Z"
      },
      {
        "duration": 4,
        "start_time": "2024-06-05T10:26:31.801Z"
      },
      {
        "duration": 5,
        "start_time": "2024-06-05T10:26:32.553Z"
      },
      {
        "duration": 6,
        "start_time": "2024-06-05T10:26:33.102Z"
      },
      {
        "duration": 7,
        "start_time": "2024-06-05T10:28:33.623Z"
      },
      {
        "duration": 6,
        "start_time": "2024-06-05T10:29:25.115Z"
      },
      {
        "duration": 51,
        "start_time": "2024-06-12T15:02:40.417Z"
      },
      {
        "duration": 6,
        "start_time": "2024-06-12T15:02:43.210Z"
      },
      {
        "duration": 6,
        "start_time": "2024-06-12T15:02:43.712Z"
      },
      {
        "duration": 7,
        "start_time": "2024-06-12T15:03:31.738Z"
      },
      {
        "duration": 8500,
        "start_time": "2024-06-12T15:03:36.821Z"
      },
      {
        "duration": 848,
        "start_time": "2024-06-12T15:03:45.323Z"
      },
      {
        "duration": 6611,
        "start_time": "2024-06-12T15:03:46.173Z"
      },
      {
        "duration": 3077,
        "start_time": "2024-06-12T15:03:52.786Z"
      },
      {
        "duration": 3123,
        "start_time": "2024-06-12T15:03:55.866Z"
      },
      {
        "duration": 728,
        "start_time": "2024-06-12T15:03:58.991Z"
      },
      {
        "duration": 3,
        "start_time": "2024-06-12T15:03:59.720Z"
      },
      {
        "duration": 111,
        "start_time": "2024-06-12T15:03:59.724Z"
      },
      {
        "duration": 4,
        "start_time": "2024-06-12T15:03:59.837Z"
      },
      {
        "duration": 8,
        "start_time": "2024-06-12T15:03:59.845Z"
      },
      {
        "duration": 1783,
        "start_time": "2024-06-12T15:03:59.855Z"
      },
      {
        "duration": 61,
        "start_time": "2024-06-12T15:04:01.639Z"
      },
      {
        "duration": 36,
        "start_time": "2024-06-12T15:04:01.701Z"
      },
      {
        "duration": 20,
        "start_time": "2024-06-12T15:04:01.738Z"
      },
      {
        "duration": 567,
        "start_time": "2024-06-12T15:04:01.760Z"
      },
      {
        "duration": 15,
        "start_time": "2024-06-12T15:04:02.329Z"
      },
      {
        "duration": 423,
        "start_time": "2024-06-12T15:04:02.399Z"
      },
      {
        "duration": 15,
        "start_time": "2024-06-12T15:04:02.823Z"
      },
      {
        "duration": 265,
        "start_time": "2024-06-12T15:04:02.840Z"
      },
      {
        "duration": 14,
        "start_time": "2024-06-12T15:04:03.107Z"
      },
      {
        "duration": 883,
        "start_time": "2024-06-12T15:04:03.122Z"
      },
      {
        "duration": 844,
        "start_time": "2024-06-12T15:04:04.007Z"
      },
      {
        "duration": 806,
        "start_time": "2024-06-12T15:04:04.852Z"
      },
      {
        "duration": 3,
        "start_time": "2024-06-12T15:04:05.660Z"
      },
      {
        "duration": 5,
        "start_time": "2024-06-12T15:04:05.664Z"
      },
      {
        "duration": 4,
        "start_time": "2024-06-12T15:04:05.670Z"
      },
      {
        "duration": 124,
        "start_time": "2024-06-12T15:04:05.676Z"
      },
      {
        "duration": 200,
        "start_time": "2024-06-12T15:04:05.805Z"
      },
      {
        "duration": 210,
        "start_time": "2024-06-12T15:04:06.007Z"
      },
      {
        "duration": 190,
        "start_time": "2024-06-12T15:04:06.220Z"
      },
      {
        "duration": 199,
        "start_time": "2024-06-12T15:04:06.413Z"
      },
      {
        "duration": 199,
        "start_time": "2024-06-12T15:04:06.614Z"
      },
      {
        "duration": 3,
        "start_time": "2024-06-12T15:04:06.815Z"
      },
      {
        "duration": 102,
        "start_time": "2024-06-12T15:04:06.901Z"
      },
      {
        "duration": 111,
        "start_time": "2024-06-12T15:04:07.004Z"
      },
      {
        "duration": 0,
        "start_time": "2024-06-12T15:04:07.116Z"
      },
      {
        "duration": 0,
        "start_time": "2024-06-12T15:04:07.117Z"
      },
      {
        "duration": 0,
        "start_time": "2024-06-12T15:04:07.118Z"
      },
      {
        "duration": 0,
        "start_time": "2024-06-12T15:04:07.119Z"
      },
      {
        "duration": 0,
        "start_time": "2024-06-12T15:04:07.120Z"
      },
      {
        "duration": 0,
        "start_time": "2024-06-12T15:04:07.121Z"
      },
      {
        "duration": 0,
        "start_time": "2024-06-12T15:04:07.122Z"
      },
      {
        "duration": 0,
        "start_time": "2024-06-12T15:04:07.123Z"
      },
      {
        "duration": 0,
        "start_time": "2024-06-12T15:04:07.124Z"
      },
      {
        "duration": 0,
        "start_time": "2024-06-12T15:04:07.125Z"
      },
      {
        "duration": 4,
        "start_time": "2024-06-12T15:04:30.460Z"
      },
      {
        "duration": 9,
        "start_time": "2024-06-12T15:04:33.064Z"
      },
      {
        "duration": 8,
        "start_time": "2024-06-12T15:04:42.316Z"
      },
      {
        "duration": 7,
        "start_time": "2024-06-12T15:05:12.705Z"
      },
      {
        "duration": 4,
        "start_time": "2024-06-12T15:09:19.412Z"
      },
      {
        "duration": 8,
        "start_time": "2024-06-12T15:09:35.139Z"
      },
      {
        "duration": 9,
        "start_time": "2024-06-12T15:09:47.478Z"
      },
      {
        "duration": 4,
        "start_time": "2024-06-12T15:20:27.592Z"
      },
      {
        "duration": 2442,
        "start_time": "2024-06-12T15:25:17.786Z"
      },
      {
        "duration": 591,
        "start_time": "2024-06-12T15:25:20.230Z"
      },
      {
        "duration": 2431,
        "start_time": "2024-06-12T15:25:20.823Z"
      },
      {
        "duration": 2458,
        "start_time": "2024-06-12T15:25:23.257Z"
      },
      {
        "duration": 2456,
        "start_time": "2024-06-12T15:25:25.717Z"
      },
      {
        "duration": 810,
        "start_time": "2024-06-12T15:25:28.175Z"
      },
      {
        "duration": 2,
        "start_time": "2024-06-12T15:25:28.987Z"
      },
      {
        "duration": 104,
        "start_time": "2024-06-12T15:25:28.991Z"
      },
      {
        "duration": 4,
        "start_time": "2024-06-12T15:25:29.096Z"
      },
      {
        "duration": 10,
        "start_time": "2024-06-12T15:25:29.103Z"
      },
      {
        "duration": 424,
        "start_time": "2024-06-12T15:25:29.115Z"
      },
      {
        "duration": 16,
        "start_time": "2024-06-12T15:25:29.540Z"
      },
      {
        "duration": 8,
        "start_time": "2024-06-12T15:25:29.557Z"
      },
      {
        "duration": 11,
        "start_time": "2024-06-12T15:25:29.566Z"
      },
      {
        "duration": 257,
        "start_time": "2024-06-12T15:25:29.578Z"
      },
      {
        "duration": 15,
        "start_time": "2024-06-12T15:25:29.836Z"
      },
      {
        "duration": 270,
        "start_time": "2024-06-12T15:25:29.853Z"
      },
      {
        "duration": 15,
        "start_time": "2024-06-12T15:25:30.124Z"
      },
      {
        "duration": 297,
        "start_time": "2024-06-12T15:25:30.141Z"
      },
      {
        "duration": 22,
        "start_time": "2024-06-12T15:25:30.440Z"
      },
      {
        "duration": 847,
        "start_time": "2024-06-12T15:25:30.464Z"
      },
      {
        "duration": 857,
        "start_time": "2024-06-12T15:25:31.313Z"
      },
      {
        "duration": 773,
        "start_time": "2024-06-12T15:25:32.171Z"
      },
      {
        "duration": 2,
        "start_time": "2024-06-12T15:25:32.946Z"
      },
      {
        "duration": 5,
        "start_time": "2024-06-12T15:25:32.951Z"
      },
      {
        "duration": 4,
        "start_time": "2024-06-12T15:25:32.958Z"
      },
      {
        "duration": 45,
        "start_time": "2024-06-12T15:25:32.963Z"
      },
      {
        "duration": 207,
        "start_time": "2024-06-12T15:25:33.013Z"
      },
      {
        "duration": 195,
        "start_time": "2024-06-12T15:25:33.222Z"
      },
      {
        "duration": 195,
        "start_time": "2024-06-12T15:25:33.419Z"
      },
      {
        "duration": 198,
        "start_time": "2024-06-12T15:25:33.617Z"
      },
      {
        "duration": 191,
        "start_time": "2024-06-12T15:25:33.817Z"
      },
      {
        "duration": 88,
        "start_time": "2024-06-12T15:25:34.013Z"
      },
      {
        "duration": 98,
        "start_time": "2024-06-12T15:25:34.103Z"
      },
      {
        "duration": 4,
        "start_time": "2024-06-12T15:25:34.202Z"
      },
      {
        "duration": 9,
        "start_time": "2024-06-12T15:25:34.208Z"
      },
      {
        "duration": 3,
        "start_time": "2024-06-12T15:25:34.219Z"
      },
      {
        "duration": 12,
        "start_time": "2024-06-12T15:25:34.223Z"
      },
      {
        "duration": 2,
        "start_time": "2024-06-12T15:25:34.237Z"
      },
      {
        "duration": 59,
        "start_time": "2024-06-12T15:25:34.240Z"
      },
      {
        "duration": 0,
        "start_time": "2024-06-12T15:25:34.301Z"
      },
      {
        "duration": 0,
        "start_time": "2024-06-12T15:25:34.302Z"
      },
      {
        "duration": 0,
        "start_time": "2024-06-12T15:25:34.303Z"
      },
      {
        "duration": 0,
        "start_time": "2024-06-12T15:25:34.305Z"
      },
      {
        "duration": 0,
        "start_time": "2024-06-12T15:25:34.306Z"
      },
      {
        "duration": 6,
        "start_time": "2024-06-12T15:27:58.939Z"
      },
      {
        "duration": 5,
        "start_time": "2024-06-12T15:28:24.541Z"
      },
      {
        "duration": 5,
        "start_time": "2024-06-12T15:28:36.429Z"
      },
      {
        "duration": 5,
        "start_time": "2024-06-12T16:16:37.266Z"
      },
      {
        "duration": 4,
        "start_time": "2024-06-12T16:22:16.880Z"
      },
      {
        "duration": 4,
        "start_time": "2024-06-12T16:35:03.722Z"
      },
      {
        "duration": 45,
        "start_time": "2024-06-12T16:35:04.164Z"
      },
      {
        "duration": 113,
        "start_time": "2024-06-12T16:35:07.728Z"
      },
      {
        "duration": 2432,
        "start_time": "2024-06-12T16:37:10.955Z"
      },
      {
        "duration": 596,
        "start_time": "2024-06-12T16:37:13.389Z"
      },
      {
        "duration": 2500,
        "start_time": "2024-06-12T16:37:13.987Z"
      },
      {
        "duration": 2414,
        "start_time": "2024-06-12T16:37:16.490Z"
      },
      {
        "duration": 2424,
        "start_time": "2024-06-12T16:37:18.905Z"
      },
      {
        "duration": 700,
        "start_time": "2024-06-12T16:37:21.331Z"
      },
      {
        "duration": 2,
        "start_time": "2024-06-12T16:37:22.034Z"
      },
      {
        "duration": 125,
        "start_time": "2024-06-12T16:37:22.039Z"
      },
      {
        "duration": 4,
        "start_time": "2024-06-12T16:37:22.166Z"
      },
      {
        "duration": 12,
        "start_time": "2024-06-12T16:37:22.173Z"
      },
      {
        "duration": 416,
        "start_time": "2024-06-12T16:37:22.186Z"
      },
      {
        "duration": 18,
        "start_time": "2024-06-12T16:37:22.603Z"
      },
      {
        "duration": 14,
        "start_time": "2024-06-12T16:37:22.623Z"
      },
      {
        "duration": 27,
        "start_time": "2024-06-12T16:37:22.639Z"
      },
      {
        "duration": 252,
        "start_time": "2024-06-12T16:37:22.668Z"
      },
      {
        "duration": 16,
        "start_time": "2024-06-12T16:37:22.921Z"
      },
      {
        "duration": 265,
        "start_time": "2024-06-12T16:37:22.939Z"
      },
      {
        "duration": 14,
        "start_time": "2024-06-12T16:37:23.206Z"
      },
      {
        "duration": 278,
        "start_time": "2024-06-12T16:37:23.222Z"
      },
      {
        "duration": 14,
        "start_time": "2024-06-12T16:37:23.502Z"
      },
      {
        "duration": 904,
        "start_time": "2024-06-12T16:37:23.518Z"
      },
      {
        "duration": 876,
        "start_time": "2024-06-12T16:37:24.424Z"
      },
      {
        "duration": 768,
        "start_time": "2024-06-12T16:37:25.301Z"
      },
      {
        "duration": 2,
        "start_time": "2024-06-12T16:37:26.070Z"
      },
      {
        "duration": 5,
        "start_time": "2024-06-12T16:37:26.074Z"
      },
      {
        "duration": 20,
        "start_time": "2024-06-12T16:37:26.080Z"
      },
      {
        "duration": 100,
        "start_time": "2024-06-12T16:37:26.101Z"
      },
      {
        "duration": 118,
        "start_time": "2024-06-12T16:37:26.206Z"
      },
      {
        "duration": 188,
        "start_time": "2024-06-12T16:37:26.327Z"
      },
      {
        "duration": 197,
        "start_time": "2024-06-12T16:37:26.517Z"
      },
      {
        "duration": 196,
        "start_time": "2024-06-12T16:37:26.716Z"
      },
      {
        "duration": 192,
        "start_time": "2024-06-12T16:37:26.914Z"
      },
      {
        "duration": 91,
        "start_time": "2024-06-12T16:37:27.111Z"
      },
      {
        "duration": 94,
        "start_time": "2024-06-12T16:37:27.206Z"
      },
      {
        "duration": 3,
        "start_time": "2024-06-12T16:37:27.302Z"
      },
      {
        "duration": 9,
        "start_time": "2024-06-12T16:37:27.307Z"
      },
      {
        "duration": 3,
        "start_time": "2024-06-12T16:37:27.317Z"
      },
      {
        "duration": 8,
        "start_time": "2024-06-12T16:37:27.322Z"
      },
      {
        "duration": 5,
        "start_time": "2024-06-12T16:37:27.331Z"
      },
      {
        "duration": 27,
        "start_time": "2024-06-12T16:37:27.338Z"
      },
      {
        "duration": 9,
        "start_time": "2024-06-12T16:37:27.367Z"
      },
      {
        "duration": 127,
        "start_time": "2024-06-12T16:37:27.378Z"
      },
      {
        "duration": 4,
        "start_time": "2024-06-12T16:39:34.387Z"
      },
      {
        "duration": 17,
        "start_time": "2024-06-12T16:39:34.956Z"
      },
      {
        "duration": 5,
        "start_time": "2024-06-12T16:41:15.510Z"
      },
      {
        "duration": 28,
        "start_time": "2024-06-12T16:41:15.972Z"
      },
      {
        "duration": 13,
        "start_time": "2024-06-12T16:44:02.998Z"
      },
      {
        "duration": 7,
        "start_time": "2024-06-12T16:44:52.456Z"
      },
      {
        "duration": 4,
        "start_time": "2024-06-12T16:45:12.298Z"
      },
      {
        "duration": 5,
        "start_time": "2024-06-12T16:46:59.887Z"
      },
      {
        "duration": 6,
        "start_time": "2024-06-12T16:47:00.997Z"
      },
      {
        "duration": 4,
        "start_time": "2024-06-12T16:47:01.535Z"
      },
      {
        "duration": 1340,
        "start_time": "2024-06-12T16:47:02.163Z"
      },
      {
        "duration": 3926,
        "start_time": "2024-06-12T16:48:29.246Z"
      },
      {
        "duration": 3958,
        "start_time": "2024-06-12T16:49:03.811Z"
      },
      {
        "duration": 6,
        "start_time": "2024-06-12T16:49:21.770Z"
      },
      {
        "duration": 6,
        "start_time": "2024-06-12T16:49:33.988Z"
      },
      {
        "duration": 2531,
        "start_time": "2024-06-12T16:49:55.539Z"
      },
      {
        "duration": 930,
        "start_time": "2024-06-12T16:49:58.072Z"
      },
      {
        "duration": 2888,
        "start_time": "2024-06-12T16:49:59.003Z"
      },
      {
        "duration": 2526,
        "start_time": "2024-06-12T16:50:01.894Z"
      },
      {
        "duration": 2569,
        "start_time": "2024-06-12T16:50:04.422Z"
      },
      {
        "duration": 739,
        "start_time": "2024-06-12T16:50:06.993Z"
      },
      {
        "duration": 3,
        "start_time": "2024-06-12T16:50:07.734Z"
      },
      {
        "duration": 105,
        "start_time": "2024-06-12T16:50:07.739Z"
      },
      {
        "duration": 5,
        "start_time": "2024-06-12T16:50:07.846Z"
      },
      {
        "duration": 8,
        "start_time": "2024-06-12T16:50:07.853Z"
      },
      {
        "duration": 427,
        "start_time": "2024-06-12T16:50:07.863Z"
      },
      {
        "duration": 16,
        "start_time": "2024-06-12T16:50:08.292Z"
      },
      {
        "duration": 8,
        "start_time": "2024-06-12T16:50:08.310Z"
      },
      {
        "duration": 9,
        "start_time": "2024-06-12T16:50:08.319Z"
      },
      {
        "duration": 320,
        "start_time": "2024-06-12T16:50:08.329Z"
      },
      {
        "duration": 15,
        "start_time": "2024-06-12T16:50:08.651Z"
      },
      {
        "duration": 274,
        "start_time": "2024-06-12T16:50:08.667Z"
      },
      {
        "duration": 15,
        "start_time": "2024-06-12T16:50:08.943Z"
      },
      {
        "duration": 300,
        "start_time": "2024-06-12T16:50:08.960Z"
      },
      {
        "duration": 14,
        "start_time": "2024-06-12T16:50:09.262Z"
      },
      {
        "duration": 861,
        "start_time": "2024-06-12T16:50:09.278Z"
      },
      {
        "duration": 910,
        "start_time": "2024-06-12T16:50:10.141Z"
      },
      {
        "duration": 821,
        "start_time": "2024-06-12T16:50:11.052Z"
      },
      {
        "duration": 2,
        "start_time": "2024-06-12T16:50:11.875Z"
      },
      {
        "duration": 4,
        "start_time": "2024-06-12T16:50:11.879Z"
      },
      {
        "duration": 17,
        "start_time": "2024-06-12T16:50:11.885Z"
      },
      {
        "duration": 101,
        "start_time": "2024-06-12T16:50:11.904Z"
      },
      {
        "duration": 117,
        "start_time": "2024-06-12T16:50:12.010Z"
      },
      {
        "duration": 129,
        "start_time": "2024-06-12T16:50:12.199Z"
      },
      {
        "duration": 186,
        "start_time": "2024-06-12T16:50:12.329Z"
      },
      {
        "duration": 196,
        "start_time": "2024-06-12T16:50:12.518Z"
      },
      {
        "duration": 204,
        "start_time": "2024-06-12T16:50:12.716Z"
      },
      {
        "duration": 5,
        "start_time": "2024-06-12T16:50:13.000Z"
      },
      {
        "duration": 93,
        "start_time": "2024-06-12T16:50:13.008Z"
      },
      {
        "duration": 4,
        "start_time": "2024-06-12T16:50:13.103Z"
      },
      {
        "duration": 13,
        "start_time": "2024-06-12T16:50:13.108Z"
      },
      {
        "duration": 4,
        "start_time": "2024-06-12T16:50:13.123Z"
      },
      {
        "duration": 11,
        "start_time": "2024-06-12T16:50:13.128Z"
      },
      {
        "duration": 5,
        "start_time": "2024-06-12T16:50:13.141Z"
      },
      {
        "duration": 3,
        "start_time": "2024-06-12T16:50:13.148Z"
      },
      {
        "duration": 47,
        "start_time": "2024-06-12T16:50:13.153Z"
      },
      {
        "duration": 4175,
        "start_time": "2024-06-12T16:50:13.203Z"
      },
      {
        "duration": 5,
        "start_time": "2024-06-12T16:51:57.034Z"
      },
      {
        "duration": 5,
        "start_time": "2024-06-12T16:52:03.555Z"
      },
      {
        "duration": 6,
        "start_time": "2024-06-12T16:52:09.989Z"
      },
      {
        "duration": 3925,
        "start_time": "2024-06-12T16:52:10.771Z"
      },
      {
        "duration": 5,
        "start_time": "2024-06-12T17:03:07.131Z"
      },
      {
        "duration": 3910,
        "start_time": "2024-06-12T17:03:07.680Z"
      },
      {
        "duration": 5,
        "start_time": "2024-06-12T17:04:03.706Z"
      },
      {
        "duration": 4027,
        "start_time": "2024-06-12T17:04:04.270Z"
      },
      {
        "duration": 6,
        "start_time": "2024-06-12T17:05:21.962Z"
      },
      {
        "duration": 3911,
        "start_time": "2024-06-12T17:05:22.608Z"
      },
      {
        "duration": 7,
        "start_time": "2024-06-12T17:14:31.224Z"
      },
      {
        "duration": 4026,
        "start_time": "2024-06-12T17:14:32.888Z"
      },
      {
        "duration": 7,
        "start_time": "2024-06-12T17:15:16.894Z"
      },
      {
        "duration": 3925,
        "start_time": "2024-06-12T17:15:18.144Z"
      },
      {
        "duration": 6,
        "start_time": "2024-06-12T17:15:44.599Z"
      },
      {
        "duration": 3936,
        "start_time": "2024-06-12T17:15:45.339Z"
      },
      {
        "duration": 7,
        "start_time": "2024-06-12T17:16:41.436Z"
      },
      {
        "duration": 1472,
        "start_time": "2024-06-12T17:16:42.094Z"
      },
      {
        "duration": 7,
        "start_time": "2024-06-12T17:16:59.514Z"
      },
      {
        "duration": 4061,
        "start_time": "2024-06-12T17:17:00.414Z"
      },
      {
        "duration": 7,
        "start_time": "2024-06-12T17:17:52.643Z"
      },
      {
        "duration": 4061,
        "start_time": "2024-06-12T17:17:53.129Z"
      },
      {
        "duration": 9,
        "start_time": "2024-06-12T17:18:15.731Z"
      },
      {
        "duration": 4213,
        "start_time": "2024-06-12T17:18:16.394Z"
      },
      {
        "duration": 6,
        "start_time": "2024-06-12T17:21:37.031Z"
      },
      {
        "duration": 3888,
        "start_time": "2024-06-12T17:21:37.838Z"
      },
      {
        "duration": 6,
        "start_time": "2024-06-12T17:21:49.385Z"
      },
      {
        "duration": 3880,
        "start_time": "2024-06-12T17:21:55.781Z"
      },
      {
        "duration": 5,
        "start_time": "2024-06-12T17:22:15.804Z"
      },
      {
        "duration": 3875,
        "start_time": "2024-06-12T17:22:16.654Z"
      },
      {
        "duration": 6,
        "start_time": "2024-06-12T17:22:36.372Z"
      },
      {
        "duration": 3928,
        "start_time": "2024-06-12T17:22:37.165Z"
      },
      {
        "duration": 2463,
        "start_time": "2024-06-12T17:24:25.756Z"
      },
      {
        "duration": 564,
        "start_time": "2024-06-12T17:24:28.221Z"
      },
      {
        "duration": 2495,
        "start_time": "2024-06-12T17:24:28.786Z"
      },
      {
        "duration": 2948,
        "start_time": "2024-06-12T17:24:31.284Z"
      },
      {
        "duration": 2582,
        "start_time": "2024-06-12T17:24:34.234Z"
      },
      {
        "duration": 731,
        "start_time": "2024-06-12T17:24:36.818Z"
      },
      {
        "duration": 3,
        "start_time": "2024-06-12T17:24:37.551Z"
      },
      {
        "duration": 120,
        "start_time": "2024-06-12T17:24:37.556Z"
      },
      {
        "duration": 4,
        "start_time": "2024-06-12T17:24:37.678Z"
      },
      {
        "duration": 15,
        "start_time": "2024-06-12T17:24:37.684Z"
      },
      {
        "duration": 418,
        "start_time": "2024-06-12T17:24:37.701Z"
      },
      {
        "duration": 15,
        "start_time": "2024-06-12T17:24:38.121Z"
      },
      {
        "duration": 9,
        "start_time": "2024-06-12T17:24:38.138Z"
      },
      {
        "duration": 24,
        "start_time": "2024-06-12T17:24:38.148Z"
      },
      {
        "duration": 270,
        "start_time": "2024-06-12T17:24:38.173Z"
      },
      {
        "duration": 18,
        "start_time": "2024-06-12T17:24:38.444Z"
      },
      {
        "duration": 268,
        "start_time": "2024-06-12T17:24:38.464Z"
      },
      {
        "duration": 15,
        "start_time": "2024-06-12T17:24:38.733Z"
      },
      {
        "duration": 274,
        "start_time": "2024-06-12T17:24:38.749Z"
      },
      {
        "duration": 15,
        "start_time": "2024-06-12T17:24:39.024Z"
      },
      {
        "duration": 878,
        "start_time": "2024-06-12T17:24:39.041Z"
      },
      {
        "duration": 838,
        "start_time": "2024-06-12T17:24:39.920Z"
      },
      {
        "duration": 765,
        "start_time": "2024-06-12T17:24:40.759Z"
      },
      {
        "duration": 3,
        "start_time": "2024-06-12T17:24:41.525Z"
      },
      {
        "duration": 4,
        "start_time": "2024-06-12T17:24:41.529Z"
      },
      {
        "duration": 3,
        "start_time": "2024-06-12T17:24:41.535Z"
      },
      {
        "duration": 66,
        "start_time": "2024-06-12T17:24:41.540Z"
      },
      {
        "duration": 197,
        "start_time": "2024-06-12T17:24:41.610Z"
      },
      {
        "duration": 202,
        "start_time": "2024-06-12T17:24:41.809Z"
      },
      {
        "duration": 196,
        "start_time": "2024-06-12T17:24:42.012Z"
      },
      {
        "duration": 206,
        "start_time": "2024-06-12T17:24:42.210Z"
      },
      {
        "duration": 194,
        "start_time": "2024-06-12T17:24:42.418Z"
      },
      {
        "duration": 3,
        "start_time": "2024-06-12T17:24:42.614Z"
      },
      {
        "duration": 5,
        "start_time": "2024-06-12T17:24:42.701Z"
      },
      {
        "duration": 92,
        "start_time": "2024-06-12T17:24:42.708Z"
      },
      {
        "duration": 8,
        "start_time": "2024-06-12T17:24:42.802Z"
      },
      {
        "duration": 3,
        "start_time": "2024-06-12T17:24:42.811Z"
      },
      {
        "duration": 8,
        "start_time": "2024-06-12T17:24:42.815Z"
      },
      {
        "duration": 5,
        "start_time": "2024-06-12T17:24:42.824Z"
      },
      {
        "duration": 3,
        "start_time": "2024-06-12T17:24:42.831Z"
      },
      {
        "duration": 6,
        "start_time": "2024-06-12T17:24:42.835Z"
      },
      {
        "duration": 4006,
        "start_time": "2024-06-12T17:24:42.842Z"
      },
      {
        "duration": 2510,
        "start_time": "2024-06-12T17:37:10.230Z"
      },
      {
        "duration": 539,
        "start_time": "2024-06-12T17:37:12.743Z"
      },
      {
        "duration": 2515,
        "start_time": "2024-06-12T17:37:13.284Z"
      },
      {
        "duration": 2542,
        "start_time": "2024-06-12T17:37:15.802Z"
      },
      {
        "duration": 2419,
        "start_time": "2024-06-12T17:37:18.347Z"
      },
      {
        "duration": 761,
        "start_time": "2024-06-12T17:37:20.768Z"
      },
      {
        "duration": 3,
        "start_time": "2024-06-12T17:37:21.531Z"
      },
      {
        "duration": 113,
        "start_time": "2024-06-12T17:37:21.535Z"
      },
      {
        "duration": 6,
        "start_time": "2024-06-12T17:37:21.650Z"
      },
      {
        "duration": 9,
        "start_time": "2024-06-12T17:37:21.659Z"
      },
      {
        "duration": 419,
        "start_time": "2024-06-12T17:37:21.669Z"
      },
      {
        "duration": 17,
        "start_time": "2024-06-12T17:37:22.090Z"
      },
      {
        "duration": 15,
        "start_time": "2024-06-12T17:37:22.109Z"
      },
      {
        "duration": 23,
        "start_time": "2024-06-12T17:37:22.125Z"
      },
      {
        "duration": 270,
        "start_time": "2024-06-12T17:37:22.150Z"
      },
      {
        "duration": 16,
        "start_time": "2024-06-12T17:37:22.421Z"
      },
      {
        "duration": 277,
        "start_time": "2024-06-12T17:37:22.438Z"
      },
      {
        "duration": 14,
        "start_time": "2024-06-12T17:37:22.716Z"
      },
      {
        "duration": 277,
        "start_time": "2024-06-12T17:37:22.732Z"
      },
      {
        "duration": 13,
        "start_time": "2024-06-12T17:37:23.011Z"
      },
      {
        "duration": 877,
        "start_time": "2024-06-12T17:37:23.026Z"
      },
      {
        "duration": 936,
        "start_time": "2024-06-12T17:37:23.905Z"
      },
      {
        "duration": 1482,
        "start_time": "2024-06-12T17:37:24.843Z"
      },
      {
        "duration": 3,
        "start_time": "2024-06-12T17:37:26.326Z"
      },
      {
        "duration": 5,
        "start_time": "2024-06-12T17:37:26.330Z"
      },
      {
        "duration": 3,
        "start_time": "2024-06-12T17:37:26.337Z"
      },
      {
        "duration": 64,
        "start_time": "2024-06-12T17:37:26.342Z"
      },
      {
        "duration": 210,
        "start_time": "2024-06-12T17:37:26.410Z"
      },
      {
        "duration": 115,
        "start_time": "2024-06-12T17:37:26.701Z"
      },
      {
        "duration": 190,
        "start_time": "2024-06-12T17:37:26.818Z"
      },
      {
        "duration": 203,
        "start_time": "2024-06-12T17:37:27.011Z"
      },
      {
        "duration": 115,
        "start_time": "2024-06-12T17:37:27.301Z"
      },
      {
        "duration": 82,
        "start_time": "2024-06-12T17:37:27.419Z"
      },
      {
        "duration": 97,
        "start_time": "2024-06-12T17:37:27.503Z"
      },
      {
        "duration": 4,
        "start_time": "2024-06-12T17:37:27.602Z"
      },
      {
        "duration": 3,
        "start_time": "2024-06-12T17:37:27.607Z"
      },
      {
        "duration": 14,
        "start_time": "2024-06-12T17:37:27.611Z"
      },
      {
        "duration": 9,
        "start_time": "2024-06-12T17:37:27.627Z"
      },
      {
        "duration": 8,
        "start_time": "2024-06-12T17:37:27.637Z"
      },
      {
        "duration": 6,
        "start_time": "2024-06-12T17:37:27.646Z"
      },
      {
        "duration": 4113,
        "start_time": "2024-06-12T17:37:27.654Z"
      },
      {
        "duration": 2857,
        "start_time": "2024-06-12T17:40:13.272Z"
      },
      {
        "duration": 856,
        "start_time": "2024-06-12T17:40:16.132Z"
      },
      {
        "duration": 2397,
        "start_time": "2024-06-12T17:40:16.990Z"
      },
      {
        "duration": 2442,
        "start_time": "2024-06-12T17:40:19.389Z"
      },
      {
        "duration": 2411,
        "start_time": "2024-06-12T17:40:21.833Z"
      },
      {
        "duration": 762,
        "start_time": "2024-06-12T17:40:24.246Z"
      },
      {
        "duration": 3,
        "start_time": "2024-06-12T17:40:25.010Z"
      },
      {
        "duration": 104,
        "start_time": "2024-06-12T17:40:25.014Z"
      },
      {
        "duration": 4,
        "start_time": "2024-06-12T17:40:25.119Z"
      },
      {
        "duration": 8,
        "start_time": "2024-06-12T17:40:25.125Z"
      },
      {
        "duration": 422,
        "start_time": "2024-06-12T17:40:25.134Z"
      },
      {
        "duration": 17,
        "start_time": "2024-06-12T17:40:25.557Z"
      },
      {
        "duration": 9,
        "start_time": "2024-06-12T17:40:25.575Z"
      },
      {
        "duration": 9,
        "start_time": "2024-06-12T17:40:25.599Z"
      },
      {
        "duration": 268,
        "start_time": "2024-06-12T17:40:25.609Z"
      },
      {
        "duration": 26,
        "start_time": "2024-06-12T17:40:25.879Z"
      },
      {
        "duration": 262,
        "start_time": "2024-06-12T17:40:25.907Z"
      },
      {
        "duration": 28,
        "start_time": "2024-06-12T17:40:26.171Z"
      },
      {
        "duration": 257,
        "start_time": "2024-06-12T17:40:26.201Z"
      },
      {
        "duration": 16,
        "start_time": "2024-06-12T17:40:26.459Z"
      },
      {
        "duration": 827,
        "start_time": "2024-06-12T17:40:26.477Z"
      },
      {
        "duration": 838,
        "start_time": "2024-06-12T17:40:27.306Z"
      },
      {
        "duration": 785,
        "start_time": "2024-06-12T17:40:28.146Z"
      },
      {
        "duration": 2,
        "start_time": "2024-06-12T17:40:28.933Z"
      },
      {
        "duration": 4,
        "start_time": "2024-06-12T17:40:28.937Z"
      },
      {
        "duration": 3,
        "start_time": "2024-06-12T17:40:28.943Z"
      },
      {
        "duration": 58,
        "start_time": "2024-06-12T17:40:28.947Z"
      },
      {
        "duration": 213,
        "start_time": "2024-06-12T17:40:29.007Z"
      },
      {
        "duration": 119,
        "start_time": "2024-06-12T17:40:29.299Z"
      },
      {
        "duration": 182,
        "start_time": "2024-06-12T17:40:29.422Z"
      },
      {
        "duration": 209,
        "start_time": "2024-06-12T17:40:29.607Z"
      },
      {
        "duration": 192,
        "start_time": "2024-06-12T17:40:29.818Z"
      },
      {
        "duration": 87,
        "start_time": "2024-06-12T17:40:30.013Z"
      },
      {
        "duration": 5,
        "start_time": "2024-06-12T17:40:30.102Z"
      },
      {
        "duration": 93,
        "start_time": "2024-06-12T17:40:30.109Z"
      },
      {
        "duration": 31,
        "start_time": "2024-06-12T17:40:30.203Z"
      },
      {
        "duration": 75,
        "start_time": "2024-06-12T17:40:30.235Z"
      },
      {
        "duration": 41,
        "start_time": "2024-06-12T17:40:30.311Z"
      },
      {
        "duration": 36,
        "start_time": "2024-06-12T17:40:30.354Z"
      },
      {
        "duration": 44,
        "start_time": "2024-06-12T17:40:30.392Z"
      },
      {
        "duration": 4700,
        "start_time": "2024-06-12T17:40:30.440Z"
      },
      {
        "duration": 7,
        "start_time": "2024-06-12T17:48:53.602Z"
      },
      {
        "duration": 4255,
        "start_time": "2024-06-12T17:48:54.135Z"
      },
      {
        "duration": 2463,
        "start_time": "2024-06-12T18:05:18.759Z"
      },
      {
        "duration": 559,
        "start_time": "2024-06-12T18:05:21.224Z"
      },
      {
        "duration": 2446,
        "start_time": "2024-06-12T18:05:21.787Z"
      },
      {
        "duration": 2500,
        "start_time": "2024-06-12T18:05:24.236Z"
      },
      {
        "duration": 2578,
        "start_time": "2024-06-12T18:05:26.738Z"
      },
      {
        "duration": 713,
        "start_time": "2024-06-12T18:05:29.319Z"
      },
      {
        "duration": 3,
        "start_time": "2024-06-12T18:05:30.034Z"
      },
      {
        "duration": 120,
        "start_time": "2024-06-12T18:05:30.039Z"
      },
      {
        "duration": 4,
        "start_time": "2024-06-12T18:05:30.160Z"
      },
      {
        "duration": 81,
        "start_time": "2024-06-12T18:05:30.166Z"
      },
      {
        "duration": 474,
        "start_time": "2024-06-12T18:05:30.248Z"
      },
      {
        "duration": 16,
        "start_time": "2024-06-12T18:05:30.723Z"
      },
      {
        "duration": 31,
        "start_time": "2024-06-12T18:05:30.742Z"
      },
      {
        "duration": 52,
        "start_time": "2024-06-12T18:05:30.775Z"
      },
      {
        "duration": 295,
        "start_time": "2024-06-12T18:05:30.828Z"
      },
      {
        "duration": 15,
        "start_time": "2024-06-12T18:05:31.125Z"
      },
      {
        "duration": 306,
        "start_time": "2024-06-12T18:05:31.142Z"
      },
      {
        "duration": 14,
        "start_time": "2024-06-12T18:05:31.449Z"
      },
      {
        "duration": 284,
        "start_time": "2024-06-12T18:05:31.465Z"
      },
      {
        "duration": 13,
        "start_time": "2024-06-12T18:05:31.751Z"
      },
      {
        "duration": 853,
        "start_time": "2024-06-12T18:05:31.766Z"
      },
      {
        "duration": 835,
        "start_time": "2024-06-12T18:05:32.621Z"
      },
      {
        "duration": 789,
        "start_time": "2024-06-12T18:05:33.457Z"
      },
      {
        "duration": 2,
        "start_time": "2024-06-12T18:05:34.248Z"
      },
      {
        "duration": 5,
        "start_time": "2024-06-12T18:05:34.252Z"
      },
      {
        "duration": 4,
        "start_time": "2024-06-12T18:05:34.259Z"
      },
      {
        "duration": 52,
        "start_time": "2024-06-12T18:05:34.264Z"
      },
      {
        "duration": 198,
        "start_time": "2024-06-12T18:05:34.318Z"
      },
      {
        "duration": 205,
        "start_time": "2024-06-12T18:05:34.518Z"
      },
      {
        "duration": 187,
        "start_time": "2024-06-12T18:05:34.725Z"
      },
      {
        "duration": 202,
        "start_time": "2024-06-12T18:05:34.914Z"
      },
      {
        "duration": 188,
        "start_time": "2024-06-12T18:05:35.119Z"
      },
      {
        "duration": 92,
        "start_time": "2024-06-12T18:05:35.309Z"
      },
      {
        "duration": 5,
        "start_time": "2024-06-12T18:05:35.403Z"
      },
      {
        "duration": 4,
        "start_time": "2024-06-12T18:05:35.500Z"
      },
      {
        "duration": 4,
        "start_time": "2024-06-12T18:05:35.505Z"
      },
      {
        "duration": 17,
        "start_time": "2024-06-12T18:05:35.511Z"
      },
      {
        "duration": 9,
        "start_time": "2024-06-12T18:05:35.530Z"
      },
      {
        "duration": 13,
        "start_time": "2024-06-12T18:05:35.540Z"
      },
      {
        "duration": 3984,
        "start_time": "2024-06-12T18:05:35.557Z"
      },
      {
        "duration": 2471,
        "start_time": "2024-06-12T18:08:44.268Z"
      },
      {
        "duration": 528,
        "start_time": "2024-06-12T18:08:46.741Z"
      },
      {
        "duration": 2424,
        "start_time": "2024-06-12T18:08:47.270Z"
      },
      {
        "duration": 3107,
        "start_time": "2024-06-12T18:08:49.697Z"
      },
      {
        "duration": 2449,
        "start_time": "2024-06-12T18:08:52.806Z"
      },
      {
        "duration": 786,
        "start_time": "2024-06-12T18:08:55.257Z"
      },
      {
        "duration": 2,
        "start_time": "2024-06-12T18:08:56.045Z"
      },
      {
        "duration": 100,
        "start_time": "2024-06-12T18:08:56.049Z"
      },
      {
        "duration": 4,
        "start_time": "2024-06-12T18:08:56.150Z"
      },
      {
        "duration": 8,
        "start_time": "2024-06-12T18:08:56.157Z"
      },
      {
        "duration": 402,
        "start_time": "2024-06-12T18:08:56.166Z"
      },
      {
        "duration": 15,
        "start_time": "2024-06-12T18:08:56.570Z"
      },
      {
        "duration": 14,
        "start_time": "2024-06-12T18:08:56.586Z"
      },
      {
        "duration": 8,
        "start_time": "2024-06-12T18:08:56.602Z"
      },
      {
        "duration": 277,
        "start_time": "2024-06-12T18:08:56.612Z"
      },
      {
        "duration": 22,
        "start_time": "2024-06-12T18:08:56.890Z"
      },
      {
        "duration": 277,
        "start_time": "2024-06-12T18:08:56.913Z"
      },
      {
        "duration": 15,
        "start_time": "2024-06-12T18:08:57.199Z"
      },
      {
        "duration": 276,
        "start_time": "2024-06-12T18:08:57.215Z"
      },
      {
        "duration": 13,
        "start_time": "2024-06-12T18:08:57.499Z"
      },
      {
        "duration": 853,
        "start_time": "2024-06-12T18:08:57.514Z"
      },
      {
        "duration": 894,
        "start_time": "2024-06-12T18:08:58.369Z"
      },
      {
        "duration": 767,
        "start_time": "2024-06-12T18:08:59.264Z"
      },
      {
        "duration": 2,
        "start_time": "2024-06-12T18:09:00.033Z"
      },
      {
        "duration": 37,
        "start_time": "2024-06-12T18:09:00.037Z"
      },
      {
        "duration": 59,
        "start_time": "2024-06-12T18:09:00.076Z"
      },
      {
        "duration": 63,
        "start_time": "2024-06-12T18:09:00.137Z"
      },
      {
        "duration": 208,
        "start_time": "2024-06-12T18:09:00.206Z"
      },
      {
        "duration": 196,
        "start_time": "2024-06-12T18:09:00.417Z"
      },
      {
        "duration": 194,
        "start_time": "2024-06-12T18:09:00.616Z"
      },
      {
        "duration": 208,
        "start_time": "2024-06-12T18:09:00.812Z"
      },
      {
        "duration": 118,
        "start_time": "2024-06-12T18:09:01.101Z"
      },
      {
        "duration": 79,
        "start_time": "2024-06-12T18:09:01.221Z"
      },
      {
        "duration": 5,
        "start_time": "2024-06-12T18:09:01.303Z"
      },
      {
        "duration": 122,
        "start_time": "2024-06-12T18:09:01.309Z"
      },
      {
        "duration": 34,
        "start_time": "2024-06-12T18:09:01.432Z"
      },
      {
        "duration": 55,
        "start_time": "2024-06-12T18:09:01.468Z"
      },
      {
        "duration": 24,
        "start_time": "2024-06-12T18:09:01.525Z"
      },
      {
        "duration": 51,
        "start_time": "2024-06-12T18:09:01.551Z"
      },
      {
        "duration": 3969,
        "start_time": "2024-06-12T18:09:01.603Z"
      }
    ],
    "kernelspec": {
      "display_name": "Python 3 (ipykernel)",
      "language": "python",
      "name": "python3"
    },
    "language_info": {
      "codemirror_mode": {
        "name": "ipython",
        "version": 3
      },
      "file_extension": ".py",
      "mimetype": "text/x-python",
      "name": "python",
      "nbconvert_exporter": "python",
      "pygments_lexer": "ipython3",
      "version": "3.9.5"
    },
    "toc": {
      "base_numbering": 1,
      "nav_menu": {},
      "number_sections": true,
      "sideBar": true,
      "skip_h1_title": true,
      "title_cell": "Table of Contents",
      "title_sidebar": "Contents",
      "toc_cell": false,
      "toc_position": {
        "height": "calc(100% - 180px)",
        "left": "10px",
        "top": "150px",
        "width": "238.075px"
      },
      "toc_section_display": true,
      "toc_window_display": true
    },
    "colab": {
      "provenance": []
    }
  },
  "nbformat": 4,
  "nbformat_minor": 0
}