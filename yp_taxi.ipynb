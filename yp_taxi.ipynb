{
  "cells": [
    {
      "cell_type": "markdown",
      "metadata": {
        "id": "dsCBYDnDaO46"
      },
      "source": [
        "#  Прогнозирование заказов такси"
      ]
    },
    {
      "cell_type": "markdown",
      "metadata": {
        "id": "XTITRpSDaO47"
      },
      "source": [
        "_____\n",
        "**Описание исследования.**\n",
        "\n",
        "Компания «Чётенькое такси» собрала исторические данные о заказах такси в аэропортах. Чтобы привлекать больше водителей в период пиковой нагрузки, нужно спрогнозировать количество заказов такси на следующий час.\n",
        "_____\n",
        "**Условия исследования:**\n",
        "\n",
        "Значение метрики RMSE на тестовой выборке должно быть не больше 48.\n",
        "\n",
        "\n",
        "______\n",
        "\n",
        "**Данное исследование разделим на несколько частей.**\n",
        "\n",
        "- Загрузка данных и их ресемплирование по одному часу.\n",
        "- Анализ данных.\n",
        "- Обучение разных моделей с различными гиперпараметрами, создание тестовой выборки размером 10% от исходных данных.\n",
        "- Проверка данных на тестовой выборке."
      ]
    },
    {
      "cell_type": "markdown",
      "metadata": {
        "id": "6Cd-JOa6aO48"
      },
      "source": [
        "### Библиотеки и окружение."
      ]
    },
    {
      "cell_type": "code",
      "execution_count": null,
      "metadata": {
        "id": "qMyOaAmXaO49"
      },
      "outputs": [],
      "source": [
        "!pip install catboost -q\n",
        "!pip install lightgbm -q"
      ]
    },
    {
      "cell_type": "code",
      "execution_count": null,
      "metadata": {
        "id": "ud-Bu8jkaO4_"
      },
      "outputs": [],
      "source": [
        "!pip install matplotlib==3.8.4 -q"
      ]
    },
    {
      "cell_type": "code",
      "execution_count": null,
      "metadata": {
        "id": "0RK2qq8uaO4_"
      },
      "outputs": [],
      "source": [
        "import matplotlib.pyplot as plt"
      ]
    },
    {
      "cell_type": "code",
      "execution_count": null,
      "metadata": {
        "id": "c_IajZ9vaO5A"
      },
      "outputs": [],
      "source": [
        "!pip install scikit-learn==1.4.0 -q"
      ]
    },
    {
      "cell_type": "code",
      "execution_count": null,
      "metadata": {
        "id": "j1ju_ypKaO5A"
      },
      "outputs": [],
      "source": [
        "!pip install seaborn==0.13.2 -q"
      ]
    },
    {
      "cell_type": "code",
      "execution_count": null,
      "metadata": {
        "id": "pmmUUl3eaO5B"
      },
      "outputs": [],
      "source": [
        "import xgboost as xgb"
      ]
    },
    {
      "cell_type": "code",
      "execution_count": null,
      "metadata": {
        "id": "rEBm-JckaO5B"
      },
      "outputs": [],
      "source": [
        "import matplotlib.pyplot as plt\n",
        "import numpy as np\n",
        "import pandas as pd\n",
        "import seaborn as sns\n",
        "from catboost import CatBoostRegressor\n",
        "from lightgbm import LGBMRegressor\n",
        "from matplotlib import rcParams\n",
        "\n",
        "from sklearn.tree import DecisionTreeRegressor\n",
        "from sklearn.linear_model import LinearRegression\n",
        "from sklearn.metrics import mean_squared_error\n",
        "from sklearn.model_selection import GridSearchCV, TimeSeriesSplit, train_test_split\n",
        "from lightgbm import LGBMRegressor\n",
        "import lightgbm as lgb\n",
        "import time\n",
        "import scipy.stats as stats"
      ]
    },
    {
      "cell_type": "code",
      "execution_count": null,
      "metadata": {
        "id": "5ndFHyGOaO5B"
      },
      "outputs": [],
      "source": [
        "from sklearn.pipeline import Pipeline\n",
        "from sklearn.impute import SimpleImputer\n",
        "from sklearn.preprocessing import OneHotEncoder, StandardScaler, MinMaxScaler, RobustScaler\n",
        "from sklearn.compose import ColumnTransformer\n",
        "from math import sqrt\n",
        "from sklearn.model_selection import TimeSeriesSplit"
      ]
    },
    {
      "cell_type": "code",
      "execution_count": null,
      "metadata": {
        "id": "g9jfLcm8aO5B"
      },
      "outputs": [],
      "source": [
        "from statsmodels.tsa.seasonal import seasonal_decompose"
      ]
    },
    {
      "cell_type": "code",
      "execution_count": null,
      "metadata": {
        "id": "Ad8x63LdaO5C"
      },
      "outputs": [],
      "source": [
        "pd.set_option('display.max_columns', None)\n",
        "pd.set_option('display.max_colwidth', None)"
      ]
    },
    {
      "cell_type": "code",
      "execution_count": null,
      "metadata": {
        "id": "e4SgawFjaO5C"
      },
      "outputs": [],
      "source": [
        "import os"
      ]
    },
    {
      "cell_type": "markdown",
      "metadata": {
        "id": "4L5TOipTaO5C"
      },
      "source": [
        "Переменные:"
      ]
    },
    {
      "cell_type": "code",
      "execution_count": null,
      "metadata": {
        "id": "AN_3L_F6aO5D"
      },
      "outputs": [],
      "source": [
        "RANDOM_STATE = 42"
      ]
    },
    {
      "cell_type": "markdown",
      "metadata": {
        "id": "2f7kO5FeaO5D"
      },
      "source": [
        "## Подготовка"
      ]
    },
    {
      "cell_type": "code",
      "execution_count": null,
      "metadata": {
        "id": "nT-wHnseaO5D"
      },
      "outputs": [],
      "source": [
        "# Загрузка данных\n",
        "pth1 = '/datasets/taxi.csv'\n",
        "pth2 = 'datasets/taxi.csv'\n",
        "\n",
        "if os.path.exists(pth1):\n",
        "    df = pd.read_csv(pth1, parse_dates=[0], index_col=0).sort_index()\n",
        "elif os.path.exists(pth2):\n",
        "    df = pd.read_csv(pth2, parse_dates=[0], index_col=0).sort_index()\n",
        "else:\n",
        "    print('Something is wrong')"
      ]
    },
    {
      "cell_type": "code",
      "execution_count": null,
      "metadata": {
        "id": "6Hc7SQy_aO5D",
        "outputId": "653b8bee-254f-4692-84d9-68c815f9b415"
      },
      "outputs": [
        {
          "data": {
            "text/html": [
              "<div>\n",
              "<style scoped>\n",
              "    .dataframe tbody tr th:only-of-type {\n",
              "        vertical-align: middle;\n",
              "    }\n",
              "\n",
              "    .dataframe tbody tr th {\n",
              "        vertical-align: top;\n",
              "    }\n",
              "\n",
              "    .dataframe thead th {\n",
              "        text-align: right;\n",
              "    }\n",
              "</style>\n",
              "<table border=\"1\" class=\"dataframe\">\n",
              "  <thead>\n",
              "    <tr style=\"text-align: right;\">\n",
              "      <th></th>\n",
              "      <th>num_orders</th>\n",
              "    </tr>\n",
              "    <tr>\n",
              "      <th>datetime</th>\n",
              "      <th></th>\n",
              "    </tr>\n",
              "  </thead>\n",
              "  <tbody>\n",
              "    <tr>\n",
              "      <th>2018-03-01 00:00:00</th>\n",
              "      <td>9</td>\n",
              "    </tr>\n",
              "    <tr>\n",
              "      <th>2018-03-01 00:10:00</th>\n",
              "      <td>14</td>\n",
              "    </tr>\n",
              "    <tr>\n",
              "      <th>2018-03-01 00:20:00</th>\n",
              "      <td>28</td>\n",
              "    </tr>\n",
              "    <tr>\n",
              "      <th>2018-03-01 00:30:00</th>\n",
              "      <td>20</td>\n",
              "    </tr>\n",
              "    <tr>\n",
              "      <th>2018-03-01 00:40:00</th>\n",
              "      <td>32</td>\n",
              "    </tr>\n",
              "  </tbody>\n",
              "</table>\n",
              "</div>"
            ],
            "text/plain": [
              "                     num_orders\n",
              "datetime                       \n",
              "2018-03-01 00:00:00           9\n",
              "2018-03-01 00:10:00          14\n",
              "2018-03-01 00:20:00          28\n",
              "2018-03-01 00:30:00          20\n",
              "2018-03-01 00:40:00          32"
            ]
          },
          "execution_count": 14,
          "metadata": {},
          "output_type": "execute_result"
        }
      ],
      "source": [
        "df.head()"
      ]
    },
    {
      "cell_type": "code",
      "execution_count": null,
      "metadata": {
        "id": "6sD-9ExcaO5E",
        "outputId": "e00b1654-264a-4041-8ee9-2e2a12d3dcde"
      },
      "outputs": [
        {
          "name": "stdout",
          "output_type": "stream",
          "text": [
            "<class 'pandas.core.frame.DataFrame'>\n",
            "DatetimeIndex: 26496 entries, 2018-03-01 00:00:00 to 2018-08-31 23:50:00\n",
            "Data columns (total 1 columns):\n",
            " #   Column      Non-Null Count  Dtype\n",
            "---  ------      --------------  -----\n",
            " 0   num_orders  26496 non-null  int64\n",
            "dtypes: int64(1)\n",
            "memory usage: 414.0 KB\n"
          ]
        }
      ],
      "source": [
        "df.info()"
      ]
    },
    {
      "cell_type": "code",
      "execution_count": null,
      "metadata": {
        "id": "BcC4bZcZaO5F",
        "outputId": "e16db3af-ef53-4d62-d057-a5e5006f196f"
      },
      "outputs": [
        {
          "data": {
            "text/plain": [
              "True"
            ]
          },
          "execution_count": 16,
          "metadata": {},
          "output_type": "execute_result"
        }
      ],
      "source": [
        "df.index.is_monotonic_increasing"
      ]
    },
    {
      "cell_type": "markdown",
      "metadata": {
        "id": "_kaX1-XLaO5G"
      },
      "source": [
        "Датасет монотонный."
      ]
    },
    {
      "cell_type": "code",
      "execution_count": null,
      "metadata": {
        "id": "yjwnB0y7aO5G"
      },
      "outputs": [],
      "source": [
        "df_h = df.resample('1H').sum()"
      ]
    },
    {
      "cell_type": "markdown",
      "metadata": {
        "id": "wto39izVaO5H"
      },
      "source": [
        "## Анализ"
      ]
    },
    {
      "cell_type": "code",
      "execution_count": null,
      "metadata": {
        "id": "SY0oeBVoaO5H"
      },
      "outputs": [],
      "source": [
        "df_h['rolling_mean'] = df_h['num_orders'].rolling(24).mean()\n",
        "df_h['dayofweek'] = df_h.index.dayofweek\n",
        "df_h['hour'] = df_h.index.hour"
      ]
    },
    {
      "cell_type": "code",
      "execution_count": null,
      "metadata": {
        "id": "gzwilspAaO5J",
        "outputId": "4c5da205-1b97-456b-b3a4-a0683489cc0f"
      },
      "outputs": [
        {
          "data": {
            "image/png": "[encoded data removed]",
            "text/plain": [
              "<Figure size 1080x720 with 1 Axes>"
            ]
          },
          "metadata": {
            "needs_background": "light"
          },
          "output_type": "display_data"
        }
      ],
      "source": [
        "plt.figure(figsize=(15, 10))\n",
        "sns.lineplot(data=df_h[['num_orders', 'rolling_mean']], dashes=False)\n",
        "plt.title('Распределение заказов по времени')\n",
        "plt.show()"
      ]
    },
    {
      "cell_type": "markdown",
      "metadata": {
        "id": "yrbbodRmaO5K"
      },
      "source": [
        "Среднее значение плавно растёт."
      ]
    },
    {
      "cell_type": "code",
      "execution_count": null,
      "metadata": {
        "id": "QYLyEiqKaO5L",
        "outputId": "cf8302c1-1746-4d6e-d445-36b505026298"
      },
      "outputs": [
        {
          "data": {
            "image/png": "[encoded data removed]",
            "text/plain": [
              "<Figure size 1080x720 with 1 Axes>"
            ]
          },
          "metadata": {
            "needs_background": "light"
          },
          "output_type": "display_data"
        },
        {
          "data": {
            "image/png": "[encoded data removed]",
            "text/plain": [
              "<Figure size 1080x720 with 1 Axes>"
            ]
          },
          "metadata": {
            "needs_background": "light"
          },
          "output_type": "display_data"
        },
        {
          "data": {
            "image/png": "[encoded data removed]",
            "text/plain": [
              "<Figure size 1080x720 with 1 Axes>"
            ]
          },
          "metadata": {
            "needs_background": "light"
          },
          "output_type": "display_data"
        }
      ],
      "source": [
        "\n",
        "decomposed_num = seasonal_decompose(df_h['num_orders'])\n",
        "plt.figure(figsize=(15, 10))\n",
        "decomposed_num.trend.plot()\n",
        "plt.title('Тренды')\n",
        "plt.show()\n",
        "plt.figure(figsize=(15, 10))\n",
        "decomposed_num.seasonal.plot()\n",
        "plt.title('Сезонность')\n",
        "plt.show()\n",
        "plt.figure(figsize=(15, 10))\n",
        "decomposed_num.resid.plot()\n",
        "plt.title('Остатки')\n",
        "plt.show()"
      ]
    },
    {
      "cell_type": "markdown",
      "metadata": {
        "id": "GUPrc9YCaO5M"
      },
      "source": [
        "Наблюдаем относительно большое количество шумов в августе, следовательно при анализе остатков после обучения модели будет наблюдаться хвост гистограммы, также будет ощутимая разница в метриках на кросс-валидационной и на тестовой."
      ]
    },
    {
      "cell_type": "code",
      "execution_count": null,
      "metadata": {
        "id": "VffGtjo9aO5W",
        "outputId": "4f3605a5-d622-4d9f-d23f-0ea029533249"
      },
      "outputs": [
        {
          "data": {
            "image/png": "[encoded data removed]",
            "text/plain": [
              "<Figure size 432x288 with 1 Axes>"
            ]
          },
          "metadata": {
            "needs_background": "light"
          },
          "output_type": "display_data"
        }
      ],
      "source": [
        "decomposed_num.seasonal['2018-05-2':'2018-05-4'].plot()\n",
        "plt.title('Суточная сезонность')\n",
        "plt.show()"
      ]
    },
    {
      "cell_type": "markdown",
      "metadata": {
        "id": "N5wOV6SEaO5b"
      },
      "source": [
        "В сутках есть сезонность- в утренние часы меньше всего заказов, а к ночи больше всего заказов."
      ]
    },
    {
      "cell_type": "code",
      "execution_count": null,
      "metadata": {
        "id": "VnC-PUeuaO5b",
        "outputId": "9ba7b94a-4b1a-416b-b44e-035b5ef713af"
      },
      "outputs": [
        {
          "data": {
            "image/png": "[encoded data removed]",
            "text/plain": [
              "<Figure size 432x288 with 1 Axes>"
            ]
          },
          "metadata": {
            "needs_background": "light"
          },
          "output_type": "display_data"
        }
      ],
      "source": [
        "df_d = df.resample('1D').sum()\n",
        "decomposed = seasonal_decompose(df_d['num_orders'])\n",
        "decomposed.seasonal['2018-05-1':'2018-05-7'].plot()\n",
        "plt.title('Недельная сезонность')\n",
        "plt.show()"
      ]
    },
    {
      "cell_type": "markdown",
      "metadata": {
        "id": "ckyWPzJXaO5c"
      },
      "source": [
        "Недельная сезонность также прослеживается."
      ]
    },
    {
      "cell_type": "markdown",
      "metadata": {
        "id": "Nw33X-YEaO5e"
      },
      "source": [
        "### Промежуточный вывод:"
      ]
    },
    {
      "cell_type": "markdown",
      "metadata": {
        "id": "dn9Typ-9aO5e"
      },
      "source": [
        "\n",
        "Исходя из сезонности для постоения модели используем признаки:\n",
        "- Месяц\n",
        "- День недели\n",
        "- Число\n",
        "- Часы\n",
        "\n",
        "\n"
      ]
    },
    {
      "cell_type": "markdown",
      "metadata": {
        "id": "c1mdv39oaO5f"
      },
      "source": [
        "## Обучение"
      ]
    },
    {
      "cell_type": "code",
      "execution_count": null,
      "metadata": {
        "id": "dU8pq0CCaO5f"
      },
      "outputs": [],
      "source": [
        "def make_features(df_h, max_lag, rolling_mean_size):\n",
        "    df_h['hour'] = df_h.index.hour\n",
        "    df_h['day'] = df_h.index.day\n",
        "    df_h['dayofweek'] = df_h.index.dayofweek\n",
        "    df_h['month'] = df_h.index.month\n",
        "\n",
        "    for lag in range(1, max_lag + 1):\n",
        "        df_h['lag_{}'.format(lag)] = df_h['num_orders'].shift(lag)\n",
        "\n",
        "    df_h['rolling_mean'] = df_h['num_orders'].shift().rolling(rolling_mean_size).mean()\n",
        "    df_h.dropna(inplace=True)\n",
        "    return df_h\n"
      ]
    },
    {
      "cell_type": "code",
      "execution_count": null,
      "metadata": {
        "id": "4T4otpoFaO5g"
      },
      "outputs": [],
      "source": [
        "make_features(df_h, 24, 7)\n",
        "\n",
        "train, test = train_test_split(df_h, shuffle=False, test_size=0.1)\n",
        "train = train.dropna()\n",
        "\n",
        "target_train = train['num_orders']\n",
        "features_train = train.drop('num_orders', axis=1)\n",
        "\n",
        "target_test = test['num_orders']\n",
        "features_test = test.drop('num_orders', axis=1)"
      ]
    },
    {
      "cell_type": "code",
      "execution_count": null,
      "metadata": {
        "id": "ihMNbE2gaO5i",
        "outputId": "543e59c8-369e-4482-ee50-d00d05172bb3"
      },
      "outputs": [
        {
          "data": {
            "image/png": "[encoded data removed]",
            "text/plain": [
              "<Figure size 1332x432 with 1 Axes>"
            ]
          },
          "metadata": {
            "needs_background": "light"
          },
          "output_type": "display_data"
        }
      ],
      "source": [
        "# Код ревьюера\n",
        "from statsmodels.graphics import tsaplots\n",
        "\n",
        "taxi = pd.read_csv(\"/datasets/taxi.csv\", index_col=[0], parse_dates=[0]).resample('1H').sum()\n",
        "ts = taxi['num_orders']\n",
        "\n",
        "fig = tsaplots.plot_acf(ts,lags= 190)\n",
        "fig.set_size_inches(18.5, 6)\n",
        "plt.ylim(-.1, 1.1)\n",
        "plt.show()\n"
      ]
    },
    {
      "cell_type": "markdown",
      "metadata": {
        "id": "qzH0f931aO5l"
      },
      "source": []
    },
    {
      "cell_type": "code",
      "execution_count": null,
      "metadata": {
        "scrolled": true,
        "id": "N3v9eO41aO5l",
        "outputId": "3014257c-9664-4e0f-8223-035cfba677b0"
      },
      "outputs": [
        {
          "name": "stdout",
          "output_type": "stream",
          "text": [
            "Размер тестовой выборки:  10%\n",
            "Размер тренировочной выборки:  90%\n"
          ]
        }
      ],
      "source": [
        "print(f'Размер тестовой выборки: ', f'{(len(target_test)/len(df_h)):.0%}')\n",
        "print(f'Размер тренировочной выборки: ', f'{(len(features_train)/len(df_h)):.0%}')"
      ]
    },
    {
      "cell_type": "code",
      "execution_count": null,
      "metadata": {
        "id": "T-w6yhIEaO5n"
      },
      "outputs": [],
      "source": [
        "pipe_final = Pipeline([\n",
        "    ('preprocessor', StandardScaler()),\n",
        "    ('models', DecisionTreeRegressor(random_state=RANDOM_STATE))\n",
        "])\n"
      ]
    },
    {
      "cell_type": "code",
      "execution_count": null,
      "metadata": {
        "scrolled": true,
        "id": "sbp6JInzaO5o",
        "outputId": "6a207476-ec30-44fb-be24-02a5d8249c48"
      },
      "outputs": [
        {
          "name": "stdout",
          "output_type": "stream",
          "text": [
            "CPU times: user 1min 31s, sys: 1.17 s, total: 1min 32s\n",
            "Wall time: 1min 37s\n"
          ]
        },
        {
          "data": {
            "text/html": [
              "<style>#sk-container-id-1 {\n",
              "  /* Definition of color scheme common for light and dark mode */\n",
              "  --sklearn-color-text: black;\n",
              "  --sklearn-color-line: gray;\n",
              "  /* Definition of color scheme for unfitted estimators */\n",
              "  --sklearn-color-unfitted-level-0: #fff5e6;\n",
              "  --sklearn-color-unfitted-level-1: #f6e4d2;\n",
              "  --sklearn-color-unfitted-level-2: #ffe0b3;\n",
              "  --sklearn-color-unfitted-level-3: chocolate;\n",
              "  /* Definition of color scheme for fitted estimators */\n",
              "  --sklearn-color-fitted-level-0: #f0f8ff;\n",
              "  --sklearn-color-fitted-level-1: #d4ebff;\n",
              "  --sklearn-color-fitted-level-2: #b3dbfd;\n",
              "  --sklearn-color-fitted-level-3: cornflowerblue;\n",
              "\n",
              "  /* Specific color for light theme */\n",
              "  --sklearn-color-text-on-default-background: var(--sg-text-color, var(--theme-code-foreground, var(--jp-content-font-color1, black)));\n",
              "  --sklearn-color-background: var(--sg-background-color, var(--theme-background, var(--jp-layout-color0, white)));\n",
              "  --sklearn-color-border-box: var(--sg-text-color, var(--theme-code-foreground, var(--jp-content-font-color1, black)));\n",
              "  --sklearn-color-icon: #696969;\n",
              "\n",
              "  @media (prefers-color-scheme: dark) {\n",
              "    /* Redefinition of color scheme for dark theme */\n",
              "    --sklearn-color-text-on-default-background: var(--sg-text-color, var(--theme-code-foreground, var(--jp-content-font-color1, white)));\n",
              "    --sklearn-color-background: var(--sg-background-color, var(--theme-background, var(--jp-layout-color0, #111)));\n",
              "    --sklearn-color-border-box: var(--sg-text-color, var(--theme-code-foreground, var(--jp-content-font-color1, white)));\n",
              "    --sklearn-color-icon: #878787;\n",
              "  }\n",
              "}\n",
              "\n",
              "#sk-container-id-1 {\n",
              "  color: var(--sklearn-color-text);\n",
              "}\n",
              "\n",
              "#sk-container-id-1 pre {\n",
              "  padding: 0;\n",
              "}\n",
              "\n",
              "#sk-container-id-1 input.sk-hidden--visually {\n",
              "  border: 0;\n",
              "  clip: rect(1px 1px 1px 1px);\n",
              "  clip: rect(1px, 1px, 1px, 1px);\n",
              "  height: 1px;\n",
              "  margin: -1px;\n",
              "  overflow: hidden;\n",
              "  padding: 0;\n",
              "  position: absolute;\n",
              "  width: 1px;\n",
              "}\n",
              "\n",
              "#sk-container-id-1 div.sk-dashed-wrapped {\n",
              "  border: 1px dashed var(--sklearn-color-line);\n",
              "  margin: 0 0.4em 0.5em 0.4em;\n",
              "  box-sizing: border-box;\n",
              "  padding-bottom: 0.4em;\n",
              "  background-color: var(--sklearn-color-background);\n",
              "}\n",
              "\n",
              "#sk-container-id-1 div.sk-container {\n",
              "  /* jupyter's `normalize.less` sets `[hidden] { display: none; }`\n",
              "     but bootstrap.min.css set `[hidden] { display: none !important; }`\n",
              "     so we also need the `!important` here to be able to override the\n",
              "     default hidden behavior on the sphinx rendered scikit-learn.org.\n",
              "     See: https://github.com/scikit-learn/scikit-learn/issues/21755 */\n",
              "  display: inline-block !important;\n",
              "  position: relative;\n",
              "}\n",
              "\n",
              "#sk-container-id-1 div.sk-text-repr-fallback {\n",
              "  display: none;\n",
              "}\n",
              "\n",
              "div.sk-parallel-item,\n",
              "div.sk-serial,\n",
              "div.sk-item {\n",
              "  /* draw centered vertical line to link estimators */\n",
              "  background-image: linear-gradient(var(--sklearn-color-text-on-default-background), var(--sklearn-color-text-on-default-background));\n",
              "  background-size: 2px 100%;\n",
              "  background-repeat: no-repeat;\n",
              "  background-position: center center;\n",
              "}\n",
              "\n",
              "/* Parallel-specific style estimator block */\n",
              "\n",
              "#sk-container-id-1 div.sk-parallel-item::after {\n",
              "  content: \"\";\n",
              "  width: 100%;\n",
              "  border-bottom: 2px solid var(--sklearn-color-text-on-default-background);\n",
              "  flex-grow: 1;\n",
              "}\n",
              "\n",
              "#sk-container-id-1 div.sk-parallel {\n",
              "  display: flex;\n",
              "  align-items: stretch;\n",
              "  justify-content: center;\n",
              "  background-color: var(--sklearn-color-background);\n",
              "  position: relative;\n",
              "}\n",
              "\n",
              "#sk-container-id-1 div.sk-parallel-item {\n",
              "  display: flex;\n",
              "  flex-direction: column;\n",
              "}\n",
              "\n",
              "#sk-container-id-1 div.sk-parallel-item:first-child::after {\n",
              "  align-self: flex-end;\n",
              "  width: 50%;\n",
              "}\n",
              "\n",
              "#sk-container-id-1 div.sk-parallel-item:last-child::after {\n",
              "  align-self: flex-start;\n",
              "  width: 50%;\n",
              "}\n",
              "\n",
              "#sk-container-id-1 div.sk-parallel-item:only-child::after {\n",
              "  width: 0;\n",
              "}\n",
              "\n",
              "/* Serial-specific style estimator block */\n",
              "\n",
              "#sk-container-id-1 div.sk-serial {\n",
              "  display: flex;\n",
              "  flex-direction: column;\n",
              "  align-items: center;\n",
              "  background-color: var(--sklearn-color-background);\n",
              "  padding-right: 1em;\n",
              "  padding-left: 1em;\n",
              "}\n",
              "\n",
              "\n",
              "/* Toggleable style: style used for estimator/Pipeline/ColumnTransformer box that is\n",
              "clickable and can be expanded/collapsed.\n",
              "- Pipeline and ColumnTransformer use this feature and define the default style\n",
              "- Estimators will overwrite some part of the style using the `sk-estimator` class\n",
              "*/\n",
              "\n",
              "/* Pipeline and ColumnTransformer style (default) */\n",
              "\n",
              "#sk-container-id-1 div.sk-toggleable {\n",
              "  /* Default theme specific background. It is overwritten whether we have a\n",
              "  specific estimator or a Pipeline/ColumnTransformer */\n",
              "  background-color: var(--sklearn-color-background);\n",
              "}\n",
              "\n",
              "/* Toggleable label */\n",
              "#sk-container-id-1 label.sk-toggleable__label {\n",
              "  cursor: pointer;\n",
              "  display: block;\n",
              "  width: 100%;\n",
              "  margin-bottom: 0;\n",
              "  padding: 0.5em;\n",
              "  box-sizing: border-box;\n",
              "  text-align: center;\n",
              "}\n",
              "\n",
              "#sk-container-id-1 label.sk-toggleable__label-arrow:before {\n",
              "  /* Arrow on the left of the label */\n",
              "  content: \"▸\";\n",
              "  float: left;\n",
              "  margin-right: 0.25em;\n",
              "  color: var(--sklearn-color-icon);\n",
              "}\n",
              "\n",
              "#sk-container-id-1 label.sk-toggleable__label-arrow:hover:before {\n",
              "  color: var(--sklearn-color-text);\n",
              "}\n",
              "\n",
              "/* Toggleable content - dropdown */\n",
              "\n",
              "#sk-container-id-1 div.sk-toggleable__content {\n",
              "  max-height: 0;\n",
              "  max-width: 0;\n",
              "  overflow: hidden;\n",
              "  text-align: left;\n",
              "  /* unfitted */\n",
              "  background-color: var(--sklearn-color-unfitted-level-0);\n",
              "}\n",
              "\n",
              "#sk-container-id-1 div.sk-toggleable__content.fitted {\n",
              "  /* fitted */\n",
              "  background-color: var(--sklearn-color-fitted-level-0);\n",
              "}\n",
              "\n",
              "#sk-container-id-1 div.sk-toggleable__content pre {\n",
              "  margin: 0.2em;\n",
              "  border-radius: 0.25em;\n",
              "  color: var(--sklearn-color-text);\n",
              "  /* unfitted */\n",
              "  background-color: var(--sklearn-color-unfitted-level-0);\n",
              "}\n",
              "\n",
              "#sk-container-id-1 div.sk-toggleable__content.fitted pre {\n",
              "  /* unfitted */\n",
              "  background-color: var(--sklearn-color-fitted-level-0);\n",
              "}\n",
              "\n",
              "#sk-container-id-1 input.sk-toggleable__control:checked~div.sk-toggleable__content {\n",
              "  /* Expand drop-down */\n",
              "  max-height: 200px;\n",
              "  max-width: 100%;\n",
              "  overflow: auto;\n",
              "}\n",
              "\n",
              "#sk-container-id-1 input.sk-toggleable__control:checked~label.sk-toggleable__label-arrow:before {\n",
              "  content: \"▾\";\n",
              "}\n",
              "\n",
              "/* Pipeline/ColumnTransformer-specific style */\n",
              "\n",
              "#sk-container-id-1 div.sk-label input.sk-toggleable__control:checked~label.sk-toggleable__label {\n",
              "  color: var(--sklearn-color-text);\n",
              "  background-color: var(--sklearn-color-unfitted-level-2);\n",
              "}\n",
              "\n",
              "#sk-container-id-1 div.sk-label.fitted input.sk-toggleable__control:checked~label.sk-toggleable__label {\n",
              "  background-color: var(--sklearn-color-fitted-level-2);\n",
              "}\n",
              "\n",
              "/* Estimator-specific style */\n",
              "\n",
              "/* Colorize estimator box */\n",
              "#sk-container-id-1 div.sk-estimator input.sk-toggleable__control:checked~label.sk-toggleable__label {\n",
              "  /* unfitted */\n",
              "  background-color: var(--sklearn-color-unfitted-level-2);\n",
              "}\n",
              "\n",
              "#sk-container-id-1 div.sk-estimator.fitted input.sk-toggleable__control:checked~label.sk-toggleable__label {\n",
              "  /* fitted */\n",
              "  background-color: var(--sklearn-color-fitted-level-2);\n",
              "}\n",
              "\n",
              "#sk-container-id-1 div.sk-label label.sk-toggleable__label,\n",
              "#sk-container-id-1 div.sk-label label {\n",
              "  /* The background is the default theme color */\n",
              "  color: var(--sklearn-color-text-on-default-background);\n",
              "}\n",
              "\n",
              "/* On hover, darken the color of the background */\n",
              "#sk-container-id-1 div.sk-label:hover label.sk-toggleable__label {\n",
              "  color: var(--sklearn-color-text);\n",
              "  background-color: var(--sklearn-color-unfitted-level-2);\n",
              "}\n",
              "\n",
              "/* Label box, darken color on hover, fitted */\n",
              "#sk-container-id-1 div.sk-label.fitted:hover label.sk-toggleable__label.fitted {\n",
              "  color: var(--sklearn-color-text);\n",
              "  background-color: var(--sklearn-color-fitted-level-2);\n",
              "}\n",
              "\n",
              "/* Estimator label */\n",
              "\n",
              "#sk-container-id-1 div.sk-label label {\n",
              "  font-family: monospace;\n",
              "  font-weight: bold;\n",
              "  display: inline-block;\n",
              "  line-height: 1.2em;\n",
              "}\n",
              "\n",
              "#sk-container-id-1 div.sk-label-container {\n",
              "  text-align: center;\n",
              "}\n",
              "\n",
              "/* Estimator-specific */\n",
              "#sk-container-id-1 div.sk-estimator {\n",
              "  font-family: monospace;\n",
              "  border: 1px dotted var(--sklearn-color-border-box);\n",
              "  border-radius: 0.25em;\n",
              "  box-sizing: border-box;\n",
              "  margin-bottom: 0.5em;\n",
              "  /* unfitted */\n",
              "  background-color: var(--sklearn-color-unfitted-level-0);\n",
              "}\n",
              "\n",
              "#sk-container-id-1 div.sk-estimator.fitted {\n",
              "  /* fitted */\n",
              "  background-color: var(--sklearn-color-fitted-level-0);\n",
              "}\n",
              "\n",
              "/* on hover */\n",
              "#sk-container-id-1 div.sk-estimator:hover {\n",
              "  /* unfitted */\n",
              "  background-color: var(--sklearn-color-unfitted-level-2);\n",
              "}\n",
              "\n",
              "#sk-container-id-1 div.sk-estimator.fitted:hover {\n",
              "  /* fitted */\n",
              "  background-color: var(--sklearn-color-fitted-level-2);\n",
              "}\n",
              "\n",
              "/* Specification for estimator info (e.g. \"i\" and \"?\") */\n",
              "\n",
              "/* Common style for \"i\" and \"?\" */\n",
              "\n",
              ".sk-estimator-doc-link,\n",
              "a:link.sk-estimator-doc-link,\n",
              "a:visited.sk-estimator-doc-link {\n",
              "  float: right;\n",
              "  font-size: smaller;\n",
              "  line-height: 1em;\n",
              "  font-family: monospace;\n",
              "  background-color: var(--sklearn-color-background);\n",
              "  border-radius: 1em;\n",
              "  height: 1em;\n",
              "  width: 1em;\n",
              "  text-decoration: none !important;\n",
              "  margin-left: 1ex;\n",
              "  /* unfitted */\n",
              "  border: var(--sklearn-color-unfitted-level-1) 1pt solid;\n",
              "  color: var(--sklearn-color-unfitted-level-1);\n",
              "}\n",
              "\n",
              ".sk-estimator-doc-link.fitted,\n",
              "a:link.sk-estimator-doc-link.fitted,\n",
              "a:visited.sk-estimator-doc-link.fitted {\n",
              "  /* fitted */\n",
              "  border: var(--sklearn-color-fitted-level-1) 1pt solid;\n",
              "  color: var(--sklearn-color-fitted-level-1);\n",
              "}\n",
              "\n",
              "/* On hover */\n",
              "div.sk-estimator:hover .sk-estimator-doc-link:hover,\n",
              ".sk-estimator-doc-link:hover,\n",
              "div.sk-label-container:hover .sk-estimator-doc-link:hover,\n",
              ".sk-estimator-doc-link:hover {\n",
              "  /* unfitted */\n",
              "  background-color: var(--sklearn-color-unfitted-level-3);\n",
              "  color: var(--sklearn-color-background);\n",
              "  text-decoration: none;\n",
              "}\n",
              "\n",
              "div.sk-estimator.fitted:hover .sk-estimator-doc-link.fitted:hover,\n",
              ".sk-estimator-doc-link.fitted:hover,\n",
              "div.sk-label-container:hover .sk-estimator-doc-link.fitted:hover,\n",
              ".sk-estimator-doc-link.fitted:hover {\n",
              "  /* fitted */\n",
              "  background-color: var(--sklearn-color-fitted-level-3);\n",
              "  color: var(--sklearn-color-background);\n",
              "  text-decoration: none;\n",
              "}\n",
              "\n",
              "/* Span, style for the box shown on hovering the info icon */\n",
              ".sk-estimator-doc-link span {\n",
              "  display: none;\n",
              "  z-index: 9999;\n",
              "  position: relative;\n",
              "  font-weight: normal;\n",
              "  right: .2ex;\n",
              "  padding: .5ex;\n",
              "  margin: .5ex;\n",
              "  width: min-content;\n",
              "  min-width: 20ex;\n",
              "  max-width: 50ex;\n",
              "  color: var(--sklearn-color-text);\n",
              "  box-shadow: 2pt 2pt 4pt #999;\n",
              "  /* unfitted */\n",
              "  background: var(--sklearn-color-unfitted-level-0);\n",
              "  border: .5pt solid var(--sklearn-color-unfitted-level-3);\n",
              "}\n",
              "\n",
              ".sk-estimator-doc-link.fitted span {\n",
              "  /* fitted */\n",
              "  background: var(--sklearn-color-fitted-level-0);\n",
              "  border: var(--sklearn-color-fitted-level-3);\n",
              "}\n",
              "\n",
              ".sk-estimator-doc-link:hover span {\n",
              "  display: block;\n",
              "}\n",
              "\n",
              "/* \"?\"-specific style due to the `<a>` HTML tag */\n",
              "\n",
              "#sk-container-id-1 a.estimator_doc_link {\n",
              "  float: right;\n",
              "  font-size: 1rem;\n",
              "  line-height: 1em;\n",
              "  font-family: monospace;\n",
              "  background-color: var(--sklearn-color-background);\n",
              "  border-radius: 1rem;\n",
              "  height: 1rem;\n",
              "  width: 1rem;\n",
              "  text-decoration: none;\n",
              "  /* unfitted */\n",
              "  color: var(--sklearn-color-unfitted-level-1);\n",
              "  border: var(--sklearn-color-unfitted-level-1) 1pt solid;\n",
              "}\n",
              "\n",
              "#sk-container-id-1 a.estimator_doc_link.fitted {\n",
              "  /* fitted */\n",
              "  border: var(--sklearn-color-fitted-level-1) 1pt solid;\n",
              "  color: var(--sklearn-color-fitted-level-1);\n",
              "}\n",
              "\n",
              "/* On hover */\n",
              "#sk-container-id-1 a.estimator_doc_link:hover {\n",
              "  /* unfitted */\n",
              "  background-color: var(--sklearn-color-unfitted-level-3);\n",
              "  color: var(--sklearn-color-background);\n",
              "  text-decoration: none;\n",
              "}\n",
              "\n",
              "#sk-container-id-1 a.estimator_doc_link.fitted:hover {\n",
              "  /* fitted */\n",
              "  background-color: var(--sklearn-color-fitted-level-3);\n",
              "}\n",
              "</style><div id=\"sk-container-id-1\" class=\"sk-top-container\"><div class=\"sk-text-repr-fallback\"><pre>GridSearchCV(cv=TimeSeriesSplit(gap=0, max_train_size=None, n_splits=5, test_size=None),\n",
              "             error_score=&#x27;raise&#x27;,\n",
              "             estimator=Pipeline(steps=[(&#x27;preprocessor&#x27;, StandardScaler()),\n",
              "                                       (&#x27;models&#x27;,\n",
              "                                        DecisionTreeRegressor(random_state=42))]),\n",
              "             n_jobs=-1,\n",
              "             param_grid=[{&#x27;models&#x27;: [&lt;catboost.core.CatBoostRegressor object at 0x7f120a068400&gt;]},\n",
              "                         {&#x27;models&#x27;: [LGBMRegressor()]},\n",
              "                         {&#x27;models&#x27;: [LinearRegression()]},\n",
              "                         {&#x27;models&#x27;: [LGBMRegressor()],\n",
              "                          &#x27;models__max_depth&#x27;: [3, 5, 7],\n",
              "                          &#x27;models__n_estimators&#x27;: [100, 200, 300]}],\n",
              "             scoring=&#x27;neg_root_mean_squared_error&#x27;)</pre><b>In a Jupyter environment, please rerun this cell to show the HTML representation or trust the notebook. <br />On GitHub, the HTML representation is unable to render, please try loading this page with nbviewer.org.</b></div><div class=\"sk-container\" hidden><div class=\"sk-item sk-dashed-wrapped\"><div class=\"sk-label-container\"><div class=\"sk-label fitted sk-toggleable\"><input class=\"sk-toggleable__control sk-hidden--visually\" id=\"sk-estimator-id-1\" type=\"checkbox\" ><label for=\"sk-estimator-id-1\" class=\"sk-toggleable__label fitted sk-toggleable__label-arrow fitted\">&nbsp;&nbsp;GridSearchCV<a class=\"sk-estimator-doc-link fitted\" rel=\"noreferrer\" target=\"_blank\" href=\"https://scikit-learn.org/1.4/modules/generated/sklearn.model_selection.GridSearchCV.html\">?<span>Documentation for GridSearchCV</span></a><span class=\"sk-estimator-doc-link fitted\">i<span>Fitted</span></span></label><div class=\"sk-toggleable__content fitted\"><pre>GridSearchCV(cv=TimeSeriesSplit(gap=0, max_train_size=None, n_splits=5, test_size=None),\n",
              "             error_score=&#x27;raise&#x27;,\n",
              "             estimator=Pipeline(steps=[(&#x27;preprocessor&#x27;, StandardScaler()),\n",
              "                                       (&#x27;models&#x27;,\n",
              "                                        DecisionTreeRegressor(random_state=42))]),\n",
              "             n_jobs=-1,\n",
              "             param_grid=[{&#x27;models&#x27;: [&lt;catboost.core.CatBoostRegressor object at 0x7f120a068400&gt;]},\n",
              "                         {&#x27;models&#x27;: [LGBMRegressor()]},\n",
              "                         {&#x27;models&#x27;: [LinearRegression()]},\n",
              "                         {&#x27;models&#x27;: [LGBMRegressor()],\n",
              "                          &#x27;models__max_depth&#x27;: [3, 5, 7],\n",
              "                          &#x27;models__n_estimators&#x27;: [100, 200, 300]}],\n",
              "             scoring=&#x27;neg_root_mean_squared_error&#x27;)</pre></div> </div></div><div class=\"sk-parallel\"><div class=\"sk-parallel-item\"><div class=\"sk-item\"><div class=\"sk-label-container\"><div class=\"sk-label fitted sk-toggleable\"><input class=\"sk-toggleable__control sk-hidden--visually\" id=\"sk-estimator-id-2\" type=\"checkbox\" ><label for=\"sk-estimator-id-2\" class=\"sk-toggleable__label fitted sk-toggleable__label-arrow fitted\">estimator: Pipeline</label><div class=\"sk-toggleable__content fitted\"><pre>Pipeline(steps=[(&#x27;preprocessor&#x27;, StandardScaler()),\n",
              "                (&#x27;models&#x27;, DecisionTreeRegressor(random_state=42))])</pre></div> </div></div><div class=\"sk-serial\"><div class=\"sk-item\"><div class=\"sk-serial\"><div class=\"sk-item\"><div class=\"sk-estimator fitted sk-toggleable\"><input class=\"sk-toggleable__control sk-hidden--visually\" id=\"sk-estimator-id-3\" type=\"checkbox\" ><label for=\"sk-estimator-id-3\" class=\"sk-toggleable__label fitted sk-toggleable__label-arrow fitted\">&nbsp;StandardScaler<a class=\"sk-estimator-doc-link fitted\" rel=\"noreferrer\" target=\"_blank\" href=\"https://scikit-learn.org/1.4/modules/generated/sklearn.preprocessing.StandardScaler.html\">?<span>Documentation for StandardScaler</span></a></label><div class=\"sk-toggleable__content fitted\"><pre>StandardScaler()</pre></div> </div></div><div class=\"sk-item\"><div class=\"sk-estimator fitted sk-toggleable\"><input class=\"sk-toggleable__control sk-hidden--visually\" id=\"sk-estimator-id-4\" type=\"checkbox\" ><label for=\"sk-estimator-id-4\" class=\"sk-toggleable__label fitted sk-toggleable__label-arrow fitted\">&nbsp;DecisionTreeRegressor<a class=\"sk-estimator-doc-link fitted\" rel=\"noreferrer\" target=\"_blank\" href=\"https://scikit-learn.org/1.4/modules/generated/sklearn.tree.DecisionTreeRegressor.html\">?<span>Documentation for DecisionTreeRegressor</span></a></label><div class=\"sk-toggleable__content fitted\"><pre>DecisionTreeRegressor(random_state=42)</pre></div> </div></div></div></div></div></div></div></div></div></div></div>"
            ],
            "text/plain": [
              "GridSearchCV(cv=TimeSeriesSplit(gap=0, max_train_size=None, n_splits=5, test_size=None),\n",
              "             error_score='raise',\n",
              "             estimator=Pipeline(steps=[('preprocessor', StandardScaler()),\n",
              "                                       ('models',\n",
              "                                        DecisionTreeRegressor(random_state=42))]),\n",
              "             n_jobs=-1,\n",
              "             param_grid=[{'models': [<catboost.core.CatBoostRegressor object at 0x7f120a068400>]},\n",
              "                         {'models': [LGBMRegressor()]},\n",
              "                         {'models': [LinearRegression()]},\n",
              "                         {'models': [LGBMRegressor()],\n",
              "                          'models__max_depth': [3, 5, 7],\n",
              "                          'models__n_estimators': [100, 200, 300]}],\n",
              "             scoring='neg_root_mean_squared_error')"
            ]
          },
          "execution_count": 28,
          "metadata": {},
          "output_type": "execute_result"
        }
      ],
      "source": [
        "param_grid = [\n",
        "    {\n",
        "        'models': [CatBoostRegressor(loss_function=\"RMSE\", iterations=150, verbose=False)]\n",
        "    },\n",
        "    {\n",
        "        'models': [lgb.LGBMRegressor()]\n",
        "    },\n",
        "    {\n",
        "        'models': [LinearRegression()]\n",
        "    },\n",
        "    {\n",
        "        'models': [lgb.LGBMRegressor()],\n",
        "        'models__n_estimators': [100, 200, 300],\n",
        "        'models__max_depth': [3, 5, 7]\n",
        "    }\n",
        "]\n",
        "tscv = TimeSeriesSplit(n_splits=5)\n",
        "\n",
        "g_search = GridSearchCV(\n",
        "    pipe_final,\n",
        "    param_grid,\n",
        "    cv=tscv,\n",
        "    verbose=0,\n",
        "    #n_iter=5,\n",
        "    scoring = 'neg_root_mean_squared_error',\n",
        "    n_jobs=-1,\n",
        "    error_score='raise'\n",
        ")\n",
        "\n",
        "\n",
        "%time g_search.fit(features_train, target_train)\n",
        "\n"
      ]
    },
    {
      "cell_type": "code",
      "execution_count": null,
      "metadata": {
        "id": "vNRNECKFaO5s",
        "outputId": "acef08b0-6b22-43f5-f6de-f4bec9a4ae90"
      },
      "outputs": [
        {
          "name": "stdout",
          "output_type": "stream",
          "text": [
            "Лучшая модель и её параметры:\n",
            "\n",
            " Pipeline(steps=[('preprocessor', StandardScaler()),\n",
            "                ('models', LGBMRegressor(max_depth=5))])\n",
            "Метрика RMSE лучшей модели на кросс-валидации: 24.61322098491123\n"
          ]
        }
      ],
      "source": [
        "print('Лучшая модель и её параметры:\\n\\n', g_search.best_estimator_)\n",
        "print ('Метрика RMSE лучшей модели на кросс-валидации:', g_search.best_score_*(-1))\n"
      ]
    },
    {
      "cell_type": "markdown",
      "metadata": {
        "id": "q1wje91ZaO5s"
      },
      "source": [
        "## Тестирование"
      ]
    },
    {
      "cell_type": "code",
      "execution_count": null,
      "metadata": {
        "id": "BBd6rBvtaO5t"
      },
      "outputs": [],
      "source": [
        "results = pd.DataFrame(g_search.cv_results_)"
      ]
    },
    {
      "cell_type": "code",
      "execution_count": null,
      "metadata": {
        "id": "zWYEEv4-aO5t",
        "outputId": "6ee6211a-1069-4288-f515-0aefce8cae77"
      },
      "outputs": [
        {
          "name": "stdout",
          "output_type": "stream",
          "text": [
            "Метрика RMSE на тестовой выборке: 39.85128768333165\n"
          ]
        }
      ],
      "source": [
        "y_test_pred = g_search.best_estimator_.predict(features_test)\n",
        "print(f'Метрика RMSE на тестовой выборке: {sqrt(mean_squared_error(target_test, y_test_pred))}')"
      ]
    },
    {
      "cell_type": "code",
      "execution_count": null,
      "metadata": {
        "id": "abVP5I1faO5t",
        "outputId": "b355bb6c-9527-4732-f5d1-3d7d3b948644"
      },
      "outputs": [
        {
          "data": {
            "image/png": "[encoded data removed]",
            "text/plain": [
              "<Figure size 1008x360 with 1 Axes>"
            ]
          },
          "metadata": {
            "needs_background": "light"
          },
          "output_type": "display_data"
        }
      ],
      "source": [
        "plt.figure(figsize=(14, 5))\n",
        "plt.scatter(y=target_test, x=target_test.index, label='Исходные данные')\n",
        "plt.scatter(y=y_test_pred, x=target_test.index, label='Предсказания')\n",
        "plt.legend(loc='upper right')\n",
        "plt.title(' ')\n",
        "plt.show()"
      ]
    },
    {
      "cell_type": "code",
      "execution_count": null,
      "metadata": {
        "id": "8-KdjYWRaO5u"
      },
      "outputs": [],
      "source": [
        "pred_previous = target_test.shift()\n",
        "pred_previous.iloc[0] = target_train.iloc[-1]\n"
      ]
    },
    {
      "cell_type": "code",
      "execution_count": null,
      "metadata": {
        "id": "JmdLo71vaO5u",
        "outputId": "167e7895-9e0d-4c63-c0ca-a23cbb4e73a3"
      },
      "outputs": [
        {
          "name": "stdout",
          "output_type": "stream",
          "text": [
            "RMSE оценики предыдущим значением ряда: 58.881776776551476\n"
          ]
        }
      ],
      "source": [
        "print(\"RMSE оценики предыдущим значением ряда:\",\n",
        "      sqrt(mean_squared_error(test['num_orders'], pred_previous)))\n"
      ]
    },
    {
      "cell_type": "markdown",
      "metadata": {
        "id": "7ozW1Di6aO5u"
      },
      "source": [
        "## Вывод"
      ]
    },
    {
      "cell_type": "markdown",
      "metadata": {
        "id": "clBsVn_EaO5v"
      },
      "source": [
        "**Выделена лучшая модель: LGBMRegressor(max_depth=5)**"
      ]
    },
    {
      "cell_type": "code",
      "execution_count": null,
      "metadata": {
        "id": "a3upEyT4aO5v",
        "outputId": "371f6eaa-850a-4775-9b32-ea12d972e195"
      },
      "outputs": [
        {
          "data": {
            "text/html": [
              "<style>#sk-container-id-2 {\n",
              "  /* Definition of color scheme common for light and dark mode */\n",
              "  --sklearn-color-text: black;\n",
              "  --sklearn-color-line: gray;\n",
              "  /* Definition of color scheme for unfitted estimators */\n",
              "  --sklearn-color-unfitted-level-0: #fff5e6;\n",
              "  --sklearn-color-unfitted-level-1: #f6e4d2;\n",
              "  --sklearn-color-unfitted-level-2: #ffe0b3;\n",
              "  --sklearn-color-unfitted-level-3: chocolate;\n",
              "  /* Definition of color scheme for fitted estimators */\n",
              "  --sklearn-color-fitted-level-0: #f0f8ff;\n",
              "  --sklearn-color-fitted-level-1: #d4ebff;\n",
              "  --sklearn-color-fitted-level-2: #b3dbfd;\n",
              "  --sklearn-color-fitted-level-3: cornflowerblue;\n",
              "\n",
              "  /* Specific color for light theme */\n",
              "  --sklearn-color-text-on-default-background: var(--sg-text-color, var(--theme-code-foreground, var(--jp-content-font-color1, black)));\n",
              "  --sklearn-color-background: var(--sg-background-color, var(--theme-background, var(--jp-layout-color0, white)));\n",
              "  --sklearn-color-border-box: var(--sg-text-color, var(--theme-code-foreground, var(--jp-content-font-color1, black)));\n",
              "  --sklearn-color-icon: #696969;\n",
              "\n",
              "  @media (prefers-color-scheme: dark) {\n",
              "    /* Redefinition of color scheme for dark theme */\n",
              "    --sklearn-color-text-on-default-background: var(--sg-text-color, var(--theme-code-foreground, var(--jp-content-font-color1, white)));\n",
              "    --sklearn-color-background: var(--sg-background-color, var(--theme-background, var(--jp-layout-color0, #111)));\n",
              "    --sklearn-color-border-box: var(--sg-text-color, var(--theme-code-foreground, var(--jp-content-font-color1, white)));\n",
              "    --sklearn-color-icon: #878787;\n",
              "  }\n",
              "}\n",
              "\n",
              "#sk-container-id-2 {\n",
              "  color: var(--sklearn-color-text);\n",
              "}\n",
              "\n",
              "#sk-container-id-2 pre {\n",
              "  padding: 0;\n",
              "}\n",
              "\n",
              "#sk-container-id-2 input.sk-hidden--visually {\n",
              "  border: 0;\n",
              "  clip: rect(1px 1px 1px 1px);\n",
              "  clip: rect(1px, 1px, 1px, 1px);\n",
              "  height: 1px;\n",
              "  margin: -1px;\n",
              "  overflow: hidden;\n",
              "  padding: 0;\n",
              "  position: absolute;\n",
              "  width: 1px;\n",
              "}\n",
              "\n",
              "#sk-container-id-2 div.sk-dashed-wrapped {\n",
              "  border: 1px dashed var(--sklearn-color-line);\n",
              "  margin: 0 0.4em 0.5em 0.4em;\n",
              "  box-sizing: border-box;\n",
              "  padding-bottom: 0.4em;\n",
              "  background-color: var(--sklearn-color-background);\n",
              "}\n",
              "\n",
              "#sk-container-id-2 div.sk-container {\n",
              "  /* jupyter's `normalize.less` sets `[hidden] { display: none; }`\n",
              "     but bootstrap.min.css set `[hidden] { display: none !important; }`\n",
              "     so we also need the `!important` here to be able to override the\n",
              "     default hidden behavior on the sphinx rendered scikit-learn.org.\n",
              "     See: https://github.com/scikit-learn/scikit-learn/issues/21755 */\n",
              "  display: inline-block !important;\n",
              "  position: relative;\n",
              "}\n",
              "\n",
              "#sk-container-id-2 div.sk-text-repr-fallback {\n",
              "  display: none;\n",
              "}\n",
              "\n",
              "div.sk-parallel-item,\n",
              "div.sk-serial,\n",
              "div.sk-item {\n",
              "  /* draw centered vertical line to link estimators */\n",
              "  background-image: linear-gradient(var(--sklearn-color-text-on-default-background), var(--sklearn-color-text-on-default-background));\n",
              "  background-size: 2px 100%;\n",
              "  background-repeat: no-repeat;\n",
              "  background-position: center center;\n",
              "}\n",
              "\n",
              "/* Parallel-specific style estimator block */\n",
              "\n",
              "#sk-container-id-2 div.sk-parallel-item::after {\n",
              "  content: \"\";\n",
              "  width: 100%;\n",
              "  border-bottom: 2px solid var(--sklearn-color-text-on-default-background);\n",
              "  flex-grow: 1;\n",
              "}\n",
              "\n",
              "#sk-container-id-2 div.sk-parallel {\n",
              "  display: flex;\n",
              "  align-items: stretch;\n",
              "  justify-content: center;\n",
              "  background-color: var(--sklearn-color-background);\n",
              "  position: relative;\n",
              "}\n",
              "\n",
              "#sk-container-id-2 div.sk-parallel-item {\n",
              "  display: flex;\n",
              "  flex-direction: column;\n",
              "}\n",
              "\n",
              "#sk-container-id-2 div.sk-parallel-item:first-child::after {\n",
              "  align-self: flex-end;\n",
              "  width: 50%;\n",
              "}\n",
              "\n",
              "#sk-container-id-2 div.sk-parallel-item:last-child::after {\n",
              "  align-self: flex-start;\n",
              "  width: 50%;\n",
              "}\n",
              "\n",
              "#sk-container-id-2 div.sk-parallel-item:only-child::after {\n",
              "  width: 0;\n",
              "}\n",
              "\n",
              "/* Serial-specific style estimator block */\n",
              "\n",
              "#sk-container-id-2 div.sk-serial {\n",
              "  display: flex;\n",
              "  flex-direction: column;\n",
              "  align-items: center;\n",
              "  background-color: var(--sklearn-color-background);\n",
              "  padding-right: 1em;\n",
              "  padding-left: 1em;\n",
              "}\n",
              "\n",
              "\n",
              "/* Toggleable style: style used for estimator/Pipeline/ColumnTransformer box that is\n",
              "clickable and can be expanded/collapsed.\n",
              "- Pipeline and ColumnTransformer use this feature and define the default style\n",
              "- Estimators will overwrite some part of the style using the `sk-estimator` class\n",
              "*/\n",
              "\n",
              "/* Pipeline and ColumnTransformer style (default) */\n",
              "\n",
              "#sk-container-id-2 div.sk-toggleable {\n",
              "  /* Default theme specific background. It is overwritten whether we have a\n",
              "  specific estimator or a Pipeline/ColumnTransformer */\n",
              "  background-color: var(--sklearn-color-background);\n",
              "}\n",
              "\n",
              "/* Toggleable label */\n",
              "#sk-container-id-2 label.sk-toggleable__label {\n",
              "  cursor: pointer;\n",
              "  display: block;\n",
              "  width: 100%;\n",
              "  margin-bottom: 0;\n",
              "  padding: 0.5em;\n",
              "  box-sizing: border-box;\n",
              "  text-align: center;\n",
              "}\n",
              "\n",
              "#sk-container-id-2 label.sk-toggleable__label-arrow:before {\n",
              "  /* Arrow on the left of the label */\n",
              "  content: \"▸\";\n",
              "  float: left;\n",
              "  margin-right: 0.25em;\n",
              "  color: var(--sklearn-color-icon);\n",
              "}\n",
              "\n",
              "#sk-container-id-2 label.sk-toggleable__label-arrow:hover:before {\n",
              "  color: var(--sklearn-color-text);\n",
              "}\n",
              "\n",
              "/* Toggleable content - dropdown */\n",
              "\n",
              "#sk-container-id-2 div.sk-toggleable__content {\n",
              "  max-height: 0;\n",
              "  max-width: 0;\n",
              "  overflow: hidden;\n",
              "  text-align: left;\n",
              "  /* unfitted */\n",
              "  background-color: var(--sklearn-color-unfitted-level-0);\n",
              "}\n",
              "\n",
              "#sk-container-id-2 div.sk-toggleable__content.fitted {\n",
              "  /* fitted */\n",
              "  background-color: var(--sklearn-color-fitted-level-0);\n",
              "}\n",
              "\n",
              "#sk-container-id-2 div.sk-toggleable__content pre {\n",
              "  margin: 0.2em;\n",
              "  border-radius: 0.25em;\n",
              "  color: var(--sklearn-color-text);\n",
              "  /* unfitted */\n",
              "  background-color: var(--sklearn-color-unfitted-level-0);\n",
              "}\n",
              "\n",
              "#sk-container-id-2 div.sk-toggleable__content.fitted pre {\n",
              "  /* unfitted */\n",
              "  background-color: var(--sklearn-color-fitted-level-0);\n",
              "}\n",
              "\n",
              "#sk-container-id-2 input.sk-toggleable__control:checked~div.sk-toggleable__content {\n",
              "  /* Expand drop-down */\n",
              "  max-height: 200px;\n",
              "  max-width: 100%;\n",
              "  overflow: auto;\n",
              "}\n",
              "\n",
              "#sk-container-id-2 input.sk-toggleable__control:checked~label.sk-toggleable__label-arrow:before {\n",
              "  content: \"▾\";\n",
              "}\n",
              "\n",
              "/* Pipeline/ColumnTransformer-specific style */\n",
              "\n",
              "#sk-container-id-2 div.sk-label input.sk-toggleable__control:checked~label.sk-toggleable__label {\n",
              "  color: var(--sklearn-color-text);\n",
              "  background-color: var(--sklearn-color-unfitted-level-2);\n",
              "}\n",
              "\n",
              "#sk-container-id-2 div.sk-label.fitted input.sk-toggleable__control:checked~label.sk-toggleable__label {\n",
              "  background-color: var(--sklearn-color-fitted-level-2);\n",
              "}\n",
              "\n",
              "/* Estimator-specific style */\n",
              "\n",
              "/* Colorize estimator box */\n",
              "#sk-container-id-2 div.sk-estimator input.sk-toggleable__control:checked~label.sk-toggleable__label {\n",
              "  /* unfitted */\n",
              "  background-color: var(--sklearn-color-unfitted-level-2);\n",
              "}\n",
              "\n",
              "#sk-container-id-2 div.sk-estimator.fitted input.sk-toggleable__control:checked~label.sk-toggleable__label {\n",
              "  /* fitted */\n",
              "  background-color: var(--sklearn-color-fitted-level-2);\n",
              "}\n",
              "\n",
              "#sk-container-id-2 div.sk-label label.sk-toggleable__label,\n",
              "#sk-container-id-2 div.sk-label label {\n",
              "  /* The background is the default theme color */\n",
              "  color: var(--sklearn-color-text-on-default-background);\n",
              "}\n",
              "\n",
              "/* On hover, darken the color of the background */\n",
              "#sk-container-id-2 div.sk-label:hover label.sk-toggleable__label {\n",
              "  color: var(--sklearn-color-text);\n",
              "  background-color: var(--sklearn-color-unfitted-level-2);\n",
              "}\n",
              "\n",
              "/* Label box, darken color on hover, fitted */\n",
              "#sk-container-id-2 div.sk-label.fitted:hover label.sk-toggleable__label.fitted {\n",
              "  color: var(--sklearn-color-text);\n",
              "  background-color: var(--sklearn-color-fitted-level-2);\n",
              "}\n",
              "\n",
              "/* Estimator label */\n",
              "\n",
              "#sk-container-id-2 div.sk-label label {\n",
              "  font-family: monospace;\n",
              "  font-weight: bold;\n",
              "  display: inline-block;\n",
              "  line-height: 1.2em;\n",
              "}\n",
              "\n",
              "#sk-container-id-2 div.sk-label-container {\n",
              "  text-align: center;\n",
              "}\n",
              "\n",
              "/* Estimator-specific */\n",
              "#sk-container-id-2 div.sk-estimator {\n",
              "  font-family: monospace;\n",
              "  border: 1px dotted var(--sklearn-color-border-box);\n",
              "  border-radius: 0.25em;\n",
              "  box-sizing: border-box;\n",
              "  margin-bottom: 0.5em;\n",
              "  /* unfitted */\n",
              "  background-color: var(--sklearn-color-unfitted-level-0);\n",
              "}\n",
              "\n",
              "#sk-container-id-2 div.sk-estimator.fitted {\n",
              "  /* fitted */\n",
              "  background-color: var(--sklearn-color-fitted-level-0);\n",
              "}\n",
              "\n",
              "/* on hover */\n",
              "#sk-container-id-2 div.sk-estimator:hover {\n",
              "  /* unfitted */\n",
              "  background-color: var(--sklearn-color-unfitted-level-2);\n",
              "}\n",
              "\n",
              "#sk-container-id-2 div.sk-estimator.fitted:hover {\n",
              "  /* fitted */\n",
              "  background-color: var(--sklearn-color-fitted-level-2);\n",
              "}\n",
              "\n",
              "/* Specification for estimator info (e.g. \"i\" and \"?\") */\n",
              "\n",
              "/* Common style for \"i\" and \"?\" */\n",
              "\n",
              ".sk-estimator-doc-link,\n",
              "a:link.sk-estimator-doc-link,\n",
              "a:visited.sk-estimator-doc-link {\n",
              "  float: right;\n",
              "  font-size: smaller;\n",
              "  line-height: 1em;\n",
              "  font-family: monospace;\n",
              "  background-color: var(--sklearn-color-background);\n",
              "  border-radius: 1em;\n",
              "  height: 1em;\n",
              "  width: 1em;\n",
              "  text-decoration: none !important;\n",
              "  margin-left: 1ex;\n",
              "  /* unfitted */\n",
              "  border: var(--sklearn-color-unfitted-level-1) 1pt solid;\n",
              "  color: var(--sklearn-color-unfitted-level-1);\n",
              "}\n",
              "\n",
              ".sk-estimator-doc-link.fitted,\n",
              "a:link.sk-estimator-doc-link.fitted,\n",
              "a:visited.sk-estimator-doc-link.fitted {\n",
              "  /* fitted */\n",
              "  border: var(--sklearn-color-fitted-level-1) 1pt solid;\n",
              "  color: var(--sklearn-color-fitted-level-1);\n",
              "}\n",
              "\n",
              "/* On hover */\n",
              "div.sk-estimator:hover .sk-estimator-doc-link:hover,\n",
              ".sk-estimator-doc-link:hover,\n",
              "div.sk-label-container:hover .sk-estimator-doc-link:hover,\n",
              ".sk-estimator-doc-link:hover {\n",
              "  /* unfitted */\n",
              "  background-color: var(--sklearn-color-unfitted-level-3);\n",
              "  color: var(--sklearn-color-background);\n",
              "  text-decoration: none;\n",
              "}\n",
              "\n",
              "div.sk-estimator.fitted:hover .sk-estimator-doc-link.fitted:hover,\n",
              ".sk-estimator-doc-link.fitted:hover,\n",
              "div.sk-label-container:hover .sk-estimator-doc-link.fitted:hover,\n",
              ".sk-estimator-doc-link.fitted:hover {\n",
              "  /* fitted */\n",
              "  background-color: var(--sklearn-color-fitted-level-3);\n",
              "  color: var(--sklearn-color-background);\n",
              "  text-decoration: none;\n",
              "}\n",
              "\n",
              "/* Span, style for the box shown on hovering the info icon */\n",
              ".sk-estimator-doc-link span {\n",
              "  display: none;\n",
              "  z-index: 9999;\n",
              "  position: relative;\n",
              "  font-weight: normal;\n",
              "  right: .2ex;\n",
              "  padding: .5ex;\n",
              "  margin: .5ex;\n",
              "  width: min-content;\n",
              "  min-width: 20ex;\n",
              "  max-width: 50ex;\n",
              "  color: var(--sklearn-color-text);\n",
              "  box-shadow: 2pt 2pt 4pt #999;\n",
              "  /* unfitted */\n",
              "  background: var(--sklearn-color-unfitted-level-0);\n",
              "  border: .5pt solid var(--sklearn-color-unfitted-level-3);\n",
              "}\n",
              "\n",
              ".sk-estimator-doc-link.fitted span {\n",
              "  /* fitted */\n",
              "  background: var(--sklearn-color-fitted-level-0);\n",
              "  border: var(--sklearn-color-fitted-level-3);\n",
              "}\n",
              "\n",
              ".sk-estimator-doc-link:hover span {\n",
              "  display: block;\n",
              "}\n",
              "\n",
              "/* \"?\"-specific style due to the `<a>` HTML tag */\n",
              "\n",
              "#sk-container-id-2 a.estimator_doc_link {\n",
              "  float: right;\n",
              "  font-size: 1rem;\n",
              "  line-height: 1em;\n",
              "  font-family: monospace;\n",
              "  background-color: var(--sklearn-color-background);\n",
              "  border-radius: 1rem;\n",
              "  height: 1rem;\n",
              "  width: 1rem;\n",
              "  text-decoration: none;\n",
              "  /* unfitted */\n",
              "  color: var(--sklearn-color-unfitted-level-1);\n",
              "  border: var(--sklearn-color-unfitted-level-1) 1pt solid;\n",
              "}\n",
              "\n",
              "#sk-container-id-2 a.estimator_doc_link.fitted {\n",
              "  /* fitted */\n",
              "  border: var(--sklearn-color-fitted-level-1) 1pt solid;\n",
              "  color: var(--sklearn-color-fitted-level-1);\n",
              "}\n",
              "\n",
              "/* On hover */\n",
              "#sk-container-id-2 a.estimator_doc_link:hover {\n",
              "  /* unfitted */\n",
              "  background-color: var(--sklearn-color-unfitted-level-3);\n",
              "  color: var(--sklearn-color-background);\n",
              "  text-decoration: none;\n",
              "}\n",
              "\n",
              "#sk-container-id-2 a.estimator_doc_link.fitted:hover {\n",
              "  /* fitted */\n",
              "  background-color: var(--sklearn-color-fitted-level-3);\n",
              "}\n",
              "</style><div id=\"sk-container-id-2\" class=\"sk-top-container\"><div class=\"sk-text-repr-fallback\"><pre>Pipeline(steps=[(&#x27;preprocessor&#x27;, StandardScaler()),\n",
              "                (&#x27;models&#x27;, LGBMRegressor(max_depth=5))])</pre><b>In a Jupyter environment, please rerun this cell to show the HTML representation or trust the notebook. <br />On GitHub, the HTML representation is unable to render, please try loading this page with nbviewer.org.</b></div><div class=\"sk-container\" hidden><div class=\"sk-item sk-dashed-wrapped\"><div class=\"sk-label-container\"><div class=\"sk-label fitted sk-toggleable\"><input class=\"sk-toggleable__control sk-hidden--visually\" id=\"sk-estimator-id-5\" type=\"checkbox\" ><label for=\"sk-estimator-id-5\" class=\"sk-toggleable__label fitted sk-toggleable__label-arrow fitted\">&nbsp;&nbsp;Pipeline<a class=\"sk-estimator-doc-link fitted\" rel=\"noreferrer\" target=\"_blank\" href=\"https://scikit-learn.org/1.4/modules/generated/sklearn.pipeline.Pipeline.html\">?<span>Documentation for Pipeline</span></a><span class=\"sk-estimator-doc-link fitted\">i<span>Fitted</span></span></label><div class=\"sk-toggleable__content fitted\"><pre>Pipeline(steps=[(&#x27;preprocessor&#x27;, StandardScaler()),\n",
              "                (&#x27;models&#x27;, LGBMRegressor(max_depth=5))])</pre></div> </div></div><div class=\"sk-serial\"><div class=\"sk-item\"><div class=\"sk-estimator fitted sk-toggleable\"><input class=\"sk-toggleable__control sk-hidden--visually\" id=\"sk-estimator-id-6\" type=\"checkbox\" ><label for=\"sk-estimator-id-6\" class=\"sk-toggleable__label fitted sk-toggleable__label-arrow fitted\">&nbsp;StandardScaler<a class=\"sk-estimator-doc-link fitted\" rel=\"noreferrer\" target=\"_blank\" href=\"https://scikit-learn.org/1.4/modules/generated/sklearn.preprocessing.StandardScaler.html\">?<span>Documentation for StandardScaler</span></a></label><div class=\"sk-toggleable__content fitted\"><pre>StandardScaler()</pre></div> </div></div><div class=\"sk-item\"><div class=\"sk-estimator fitted sk-toggleable\"><input class=\"sk-toggleable__control sk-hidden--visually\" id=\"sk-estimator-id-7\" type=\"checkbox\" ><label for=\"sk-estimator-id-7\" class=\"sk-toggleable__label fitted sk-toggleable__label-arrow fitted\">LGBMRegressor</label><div class=\"sk-toggleable__content fitted\"><pre>LGBMRegressor(max_depth=5)</pre></div> </div></div></div></div></div></div>"
            ],
            "text/plain": [
              "Pipeline(steps=[('preprocessor', StandardScaler()),\n",
              "                ('models', LGBMRegressor(max_depth=5))])"
            ]
          },
          "execution_count": 35,
          "metadata": {},
          "output_type": "execute_result"
        }
      ],
      "source": [
        "g_search.best_estimator_"
      ]
    },
    {
      "cell_type": "markdown",
      "metadata": {
        "id": "5uLxoAyGaO5v"
      },
      "source": [
        "**Метрика RMSE лучшей модели на кросс-валидационной выборке равна 24.59**\n",
        "\n",
        "**Метрика RMSE лучшей модели на тестовой выборке равна 39.9**"
      ]
    }
  ],
  "metadata": {
    "ExecuteTimeLog": [
      {
        "duration": 4761,
        "start_time": "2024-07-19T12:52:24.532Z"
      },
      {
        "duration": 2472,
        "start_time": "2024-07-19T12:52:29.296Z"
      },
      {
        "duration": 559,
        "start_time": "2024-07-19T12:52:31.770Z"
      },
      {
        "duration": 2473,
        "start_time": "2024-07-19T12:52:32.330Z"
      },
      {
        "duration": 2509,
        "start_time": "2024-07-19T12:52:34.805Z"
      },
      {
        "duration": 829,
        "start_time": "2024-07-19T12:52:37.316Z"
      },
      {
        "duration": 7,
        "start_time": "2024-07-19T12:52:38.147Z"
      },
      {
        "duration": 35,
        "start_time": "2024-07-19T12:52:38.156Z"
      },
      {
        "duration": 2,
        "start_time": "2024-07-19T12:52:38.193Z"
      },
      {
        "duration": 9,
        "start_time": "2024-07-19T12:52:38.197Z"
      },
      {
        "duration": 17,
        "start_time": "2024-07-19T12:52:38.208Z"
      },
      {
        "duration": 18,
        "start_time": "2024-07-19T12:52:38.226Z"
      },
      {
        "duration": 118,
        "start_time": "2024-07-19T12:52:38.245Z"
      },
      {
        "duration": 0,
        "start_time": "2024-07-19T12:52:38.364Z"
      },
      {
        "duration": 169,
        "start_time": "2024-07-19T12:52:48.478Z"
      },
      {
        "duration": 15,
        "start_time": "2024-07-19T12:52:59.302Z"
      },
      {
        "duration": 10,
        "start_time": "2024-07-19T12:53:42.696Z"
      },
      {
        "duration": 10,
        "start_time": "2024-07-19T12:53:43.297Z"
      },
      {
        "duration": 4,
        "start_time": "2024-07-19T12:53:43.930Z"
      },
      {
        "duration": 5057,
        "start_time": "2024-07-19T12:55:29.182Z"
      },
      {
        "duration": 2455,
        "start_time": "2024-07-19T12:55:34.242Z"
      },
      {
        "duration": 571,
        "start_time": "2024-07-19T12:55:36.699Z"
      },
      {
        "duration": 2440,
        "start_time": "2024-07-19T12:55:37.273Z"
      },
      {
        "duration": 2464,
        "start_time": "2024-07-19T12:55:39.715Z"
      },
      {
        "duration": 870,
        "start_time": "2024-07-19T12:55:42.181Z"
      },
      {
        "duration": 8,
        "start_time": "2024-07-19T12:55:43.052Z"
      },
      {
        "duration": 52,
        "start_time": "2024-07-19T12:55:43.061Z"
      },
      {
        "duration": 2,
        "start_time": "2024-07-19T12:55:43.115Z"
      },
      {
        "duration": 3,
        "start_time": "2024-07-19T12:55:43.120Z"
      },
      {
        "duration": 7,
        "start_time": "2024-07-19T12:55:43.124Z"
      },
      {
        "duration": 13,
        "start_time": "2024-07-19T12:55:43.132Z"
      },
      {
        "duration": 57,
        "start_time": "2024-07-19T12:55:43.146Z"
      },
      {
        "duration": 15,
        "start_time": "2024-07-19T12:55:43.205Z"
      },
      {
        "duration": 11,
        "start_time": "2024-07-19T12:55:43.222Z"
      },
      {
        "duration": 13,
        "start_time": "2024-07-19T12:55:43.235Z"
      },
      {
        "duration": 5,
        "start_time": "2024-07-19T12:55:43.249Z"
      },
      {
        "duration": 34,
        "start_time": "2024-07-19T12:55:43.255Z"
      },
      {
        "duration": 7,
        "start_time": "2024-07-19T12:55:43.290Z"
      },
      {
        "duration": 745,
        "start_time": "2024-07-19T12:55:43.298Z"
      },
      {
        "duration": 846,
        "start_time": "2024-07-19T12:55:44.045Z"
      },
      {
        "duration": 4896,
        "start_time": "2024-07-19T12:57:27.800Z"
      },
      {
        "duration": 2459,
        "start_time": "2024-07-19T12:57:32.698Z"
      },
      {
        "duration": 574,
        "start_time": "2024-07-19T12:57:35.159Z"
      },
      {
        "duration": 2405,
        "start_time": "2024-07-19T12:57:35.735Z"
      },
      {
        "duration": 2479,
        "start_time": "2024-07-19T12:57:38.142Z"
      },
      {
        "duration": 875,
        "start_time": "2024-07-19T12:57:40.623Z"
      },
      {
        "duration": 8,
        "start_time": "2024-07-19T12:57:41.499Z"
      },
      {
        "duration": 22,
        "start_time": "2024-07-19T12:57:41.508Z"
      },
      {
        "duration": 3,
        "start_time": "2024-07-19T12:57:41.531Z"
      },
      {
        "duration": 6,
        "start_time": "2024-07-19T12:57:41.536Z"
      },
      {
        "duration": 12,
        "start_time": "2024-07-19T12:57:41.543Z"
      },
      {
        "duration": 6,
        "start_time": "2024-07-19T12:57:41.556Z"
      },
      {
        "duration": 51,
        "start_time": "2024-07-19T12:57:41.563Z"
      },
      {
        "duration": 13,
        "start_time": "2024-07-19T12:57:41.616Z"
      },
      {
        "duration": 36,
        "start_time": "2024-07-19T12:57:41.631Z"
      },
      {
        "duration": 9,
        "start_time": "2024-07-19T12:57:41.669Z"
      },
      {
        "duration": 4,
        "start_time": "2024-07-19T12:57:41.679Z"
      },
      {
        "duration": 8,
        "start_time": "2024-07-19T12:57:41.685Z"
      },
      {
        "duration": 7,
        "start_time": "2024-07-19T12:57:41.694Z"
      },
      {
        "duration": 746,
        "start_time": "2024-07-19T12:57:41.703Z"
      },
      {
        "duration": 866,
        "start_time": "2024-07-19T12:57:42.451Z"
      },
      {
        "duration": 4,
        "start_time": "2024-07-19T12:57:43.318Z"
      },
      {
        "duration": 14,
        "start_time": "2024-07-19T12:57:43.323Z"
      },
      {
        "duration": 3,
        "start_time": "2024-07-19T12:57:43.339Z"
      },
      {
        "duration": 4,
        "start_time": "2024-07-19T12:57:43.343Z"
      },
      {
        "duration": 5,
        "start_time": "2024-07-19T12:57:43.348Z"
      },
      {
        "duration": 89460,
        "start_time": "2024-07-19T12:57:43.354Z"
      },
      {
        "duration": 4930,
        "start_time": "2024-07-19T12:59:51.418Z"
      },
      {
        "duration": 2342,
        "start_time": "2024-07-19T12:59:56.350Z"
      },
      {
        "duration": 526,
        "start_time": "2024-07-19T12:59:58.694Z"
      },
      {
        "duration": 2405,
        "start_time": "2024-07-19T12:59:59.222Z"
      },
      {
        "duration": 2447,
        "start_time": "2024-07-19T13:00:01.630Z"
      },
      {
        "duration": 844,
        "start_time": "2024-07-19T13:00:04.079Z"
      },
      {
        "duration": 7,
        "start_time": "2024-07-19T13:00:04.925Z"
      },
      {
        "duration": 18,
        "start_time": "2024-07-19T13:00:04.933Z"
      },
      {
        "duration": 3,
        "start_time": "2024-07-19T13:00:04.952Z"
      },
      {
        "duration": 13,
        "start_time": "2024-07-19T13:00:04.956Z"
      },
      {
        "duration": 12,
        "start_time": "2024-07-19T13:00:04.970Z"
      },
      {
        "duration": 3,
        "start_time": "2024-07-19T13:00:04.983Z"
      },
      {
        "duration": 49,
        "start_time": "2024-07-19T13:00:04.987Z"
      },
      {
        "duration": 14,
        "start_time": "2024-07-19T13:00:05.038Z"
      },
      {
        "duration": 52,
        "start_time": "2024-07-19T13:00:05.053Z"
      },
      {
        "duration": 9,
        "start_time": "2024-07-19T13:00:05.106Z"
      },
      {
        "duration": 4,
        "start_time": "2024-07-19T13:00:05.116Z"
      },
      {
        "duration": 9,
        "start_time": "2024-07-19T13:00:05.121Z"
      },
      {
        "duration": 12,
        "start_time": "2024-07-19T13:00:05.131Z"
      },
      {
        "duration": 705,
        "start_time": "2024-07-19T13:00:05.145Z"
      },
      {
        "duration": 847,
        "start_time": "2024-07-19T13:00:05.852Z"
      },
      {
        "duration": 4,
        "start_time": "2024-07-19T13:00:06.700Z"
      },
      {
        "duration": 22,
        "start_time": "2024-07-19T13:00:06.705Z"
      },
      {
        "duration": 3,
        "start_time": "2024-07-19T13:00:06.729Z"
      },
      {
        "duration": 13,
        "start_time": "2024-07-19T13:00:06.733Z"
      },
      {
        "duration": 10,
        "start_time": "2024-07-19T13:00:06.747Z"
      },
      {
        "duration": 70128,
        "start_time": "2024-07-19T13:00:06.759Z"
      },
      {
        "duration": 131,
        "start_time": "2024-07-19T13:02:44.804Z"
      },
      {
        "duration": 4838,
        "start_time": "2024-07-19T13:03:44.198Z"
      },
      {
        "duration": 2400,
        "start_time": "2024-07-19T13:03:49.039Z"
      },
      {
        "duration": 752,
        "start_time": "2024-07-19T13:03:51.441Z"
      },
      {
        "duration": 2540,
        "start_time": "2024-07-19T13:03:52.195Z"
      },
      {
        "duration": 2346,
        "start_time": "2024-07-19T13:03:54.738Z"
      },
      {
        "duration": 821,
        "start_time": "2024-07-19T13:03:57.086Z"
      },
      {
        "duration": 7,
        "start_time": "2024-07-19T13:03:57.909Z"
      },
      {
        "duration": 18,
        "start_time": "2024-07-19T13:03:57.917Z"
      },
      {
        "duration": 2,
        "start_time": "2024-07-19T13:03:57.937Z"
      },
      {
        "duration": 7,
        "start_time": "2024-07-19T13:03:57.940Z"
      },
      {
        "duration": 3,
        "start_time": "2024-07-19T13:03:57.949Z"
      },
      {
        "duration": 4,
        "start_time": "2024-07-19T13:03:57.954Z"
      },
      {
        "duration": 57,
        "start_time": "2024-07-19T13:03:57.959Z"
      },
      {
        "duration": 13,
        "start_time": "2024-07-19T13:03:58.018Z"
      },
      {
        "duration": 12,
        "start_time": "2024-07-19T13:03:58.032Z"
      },
      {
        "duration": 10,
        "start_time": "2024-07-19T13:03:58.046Z"
      },
      {
        "duration": 4,
        "start_time": "2024-07-19T13:03:58.057Z"
      },
      {
        "duration": 22,
        "start_time": "2024-07-19T13:03:58.062Z"
      },
      {
        "duration": 24,
        "start_time": "2024-07-19T13:03:58.086Z"
      },
      {
        "duration": 632,
        "start_time": "2024-07-19T13:03:58.111Z"
      },
      {
        "duration": 821,
        "start_time": "2024-07-19T13:03:58.745Z"
      },
      {
        "duration": 4,
        "start_time": "2024-07-19T13:03:59.568Z"
      },
      {
        "duration": 13,
        "start_time": "2024-07-19T13:03:59.581Z"
      },
      {
        "duration": 3,
        "start_time": "2024-07-19T13:03:59.596Z"
      },
      {
        "duration": 25,
        "start_time": "2024-07-19T13:03:59.601Z"
      },
      {
        "duration": 8,
        "start_time": "2024-07-19T13:03:59.628Z"
      },
      {
        "duration": 68923,
        "start_time": "2024-07-19T13:03:59.637Z"
      },
      {
        "duration": 27,
        "start_time": "2024-07-19T13:05:08.562Z"
      },
      {
        "duration": 4758,
        "start_time": "2024-07-19T13:05:49.242Z"
      },
      {
        "duration": 2332,
        "start_time": "2024-07-19T13:05:54.002Z"
      },
      {
        "duration": 484,
        "start_time": "2024-07-19T13:05:56.336Z"
      },
      {
        "duration": 2365,
        "start_time": "2024-07-19T13:05:56.822Z"
      },
      {
        "duration": 2463,
        "start_time": "2024-07-19T13:05:59.189Z"
      },
      {
        "duration": 895,
        "start_time": "2024-07-19T13:06:01.654Z"
      },
      {
        "duration": 8,
        "start_time": "2024-07-19T13:06:02.551Z"
      },
      {
        "duration": 41,
        "start_time": "2024-07-19T13:06:02.561Z"
      },
      {
        "duration": 3,
        "start_time": "2024-07-19T13:06:02.604Z"
      },
      {
        "duration": 8,
        "start_time": "2024-07-19T13:06:02.608Z"
      },
      {
        "duration": 5,
        "start_time": "2024-07-19T13:06:02.618Z"
      },
      {
        "duration": 6,
        "start_time": "2024-07-19T13:06:02.624Z"
      },
      {
        "duration": 56,
        "start_time": "2024-07-19T13:06:02.631Z"
      },
      {
        "duration": 15,
        "start_time": "2024-07-19T13:06:02.690Z"
      },
      {
        "duration": 43,
        "start_time": "2024-07-19T13:06:02.706Z"
      },
      {
        "duration": 11,
        "start_time": "2024-07-19T13:06:02.751Z"
      },
      {
        "duration": 64,
        "start_time": "2024-07-19T13:06:02.764Z"
      },
      {
        "duration": 22,
        "start_time": "2024-07-19T13:06:02.830Z"
      },
      {
        "duration": 14,
        "start_time": "2024-07-19T13:06:02.854Z"
      },
      {
        "duration": 723,
        "start_time": "2024-07-19T13:06:02.869Z"
      },
      {
        "duration": 800,
        "start_time": "2024-07-19T13:06:03.593Z"
      },
      {
        "duration": 4,
        "start_time": "2024-07-19T13:06:04.394Z"
      },
      {
        "duration": 16,
        "start_time": "2024-07-19T13:06:04.400Z"
      },
      {
        "duration": 3,
        "start_time": "2024-07-19T13:06:04.418Z"
      },
      {
        "duration": 4,
        "start_time": "2024-07-19T13:06:04.422Z"
      },
      {
        "duration": 4,
        "start_time": "2024-07-19T13:06:04.428Z"
      },
      {
        "duration": 65325,
        "start_time": "2024-07-19T13:06:04.433Z"
      },
      {
        "duration": 26,
        "start_time": "2024-07-19T13:07:09.759Z"
      },
      {
        "duration": 7,
        "start_time": "2024-07-19T13:07:09.786Z"
      },
      {
        "duration": 4768,
        "start_time": "2024-07-19T13:16:37.360Z"
      },
      {
        "duration": 2420,
        "start_time": "2024-07-19T13:16:42.130Z"
      },
      {
        "duration": 557,
        "start_time": "2024-07-19T13:16:44.552Z"
      },
      {
        "duration": 2408,
        "start_time": "2024-07-19T13:16:45.111Z"
      },
      {
        "duration": 2389,
        "start_time": "2024-07-19T13:16:47.522Z"
      },
      {
        "duration": 830,
        "start_time": "2024-07-19T13:16:49.913Z"
      },
      {
        "duration": 7,
        "start_time": "2024-07-19T13:16:50.744Z"
      },
      {
        "duration": 18,
        "start_time": "2024-07-19T13:16:50.753Z"
      },
      {
        "duration": 24,
        "start_time": "2024-07-19T13:16:50.772Z"
      },
      {
        "duration": 33,
        "start_time": "2024-07-19T13:16:50.798Z"
      },
      {
        "duration": 8,
        "start_time": "2024-07-19T13:16:50.833Z"
      },
      {
        "duration": 4,
        "start_time": "2024-07-19T13:16:50.842Z"
      },
      {
        "duration": 53,
        "start_time": "2024-07-19T13:16:50.848Z"
      },
      {
        "duration": 13,
        "start_time": "2024-07-19T13:16:50.904Z"
      },
      {
        "duration": 9,
        "start_time": "2024-07-19T13:16:50.919Z"
      },
      {
        "duration": 9,
        "start_time": "2024-07-19T13:16:50.929Z"
      },
      {
        "duration": 3,
        "start_time": "2024-07-19T13:16:50.940Z"
      },
      {
        "duration": 42,
        "start_time": "2024-07-19T13:16:50.945Z"
      },
      {
        "duration": 13,
        "start_time": "2024-07-19T13:16:50.988Z"
      },
      {
        "duration": 723,
        "start_time": "2024-07-19T13:16:51.003Z"
      },
      {
        "duration": 857,
        "start_time": "2024-07-19T13:16:51.729Z"
      },
      {
        "duration": 4,
        "start_time": "2024-07-19T13:16:52.588Z"
      },
      {
        "duration": 17,
        "start_time": "2024-07-19T13:16:52.593Z"
      },
      {
        "duration": 11,
        "start_time": "2024-07-19T13:16:52.612Z"
      },
      {
        "duration": 8,
        "start_time": "2024-07-19T13:16:52.625Z"
      },
      {
        "duration": 6,
        "start_time": "2024-07-19T13:16:52.634Z"
      },
      {
        "duration": 1281758,
        "start_time": "2024-07-19T13:16:52.642Z"
      },
      {
        "duration": 21,
        "start_time": "2024-07-19T13:38:14.401Z"
      },
      {
        "duration": 13,
        "start_time": "2024-07-19T13:38:14.423Z"
      },
      {
        "duration": 0,
        "start_time": "2024-07-19T13:38:14.559Z"
      },
      {
        "duration": 4702,
        "start_time": "2024-07-19T13:45:43.358Z"
      },
      {
        "duration": 2368,
        "start_time": "2024-07-19T13:45:48.062Z"
      },
      {
        "duration": 498,
        "start_time": "2024-07-19T13:45:50.432Z"
      },
      {
        "duration": 2367,
        "start_time": "2024-07-19T13:45:50.932Z"
      },
      {
        "duration": 2319,
        "start_time": "2024-07-19T13:45:53.301Z"
      },
      {
        "duration": 951,
        "start_time": "2024-07-19T13:45:55.622Z"
      },
      {
        "duration": 134,
        "start_time": "2024-07-19T13:45:56.575Z"
      },
      {
        "duration": 6,
        "start_time": "2024-07-19T13:45:56.711Z"
      },
      {
        "duration": 20,
        "start_time": "2024-07-19T13:45:56.719Z"
      },
      {
        "duration": 2,
        "start_time": "2024-07-19T13:45:56.741Z"
      },
      {
        "duration": 2,
        "start_time": "2024-07-19T13:45:56.745Z"
      },
      {
        "duration": 14,
        "start_time": "2024-07-19T13:45:56.749Z"
      },
      {
        "duration": 8,
        "start_time": "2024-07-19T13:45:56.764Z"
      },
      {
        "duration": 51,
        "start_time": "2024-07-19T13:45:56.782Z"
      },
      {
        "duration": 13,
        "start_time": "2024-07-19T13:45:56.834Z"
      },
      {
        "duration": 9,
        "start_time": "2024-07-19T13:45:56.849Z"
      },
      {
        "duration": 9,
        "start_time": "2024-07-19T13:45:56.860Z"
      },
      {
        "duration": 12,
        "start_time": "2024-07-19T13:45:56.870Z"
      },
      {
        "duration": 8,
        "start_time": "2024-07-19T13:45:56.884Z"
      },
      {
        "duration": 7,
        "start_time": "2024-07-19T13:45:56.893Z"
      },
      {
        "duration": 674,
        "start_time": "2024-07-19T13:45:56.901Z"
      },
      {
        "duration": 805,
        "start_time": "2024-07-19T13:45:57.577Z"
      },
      {
        "duration": 4,
        "start_time": "2024-07-19T13:45:58.383Z"
      },
      {
        "duration": 16,
        "start_time": "2024-07-19T13:45:58.389Z"
      },
      {
        "duration": 3,
        "start_time": "2024-07-19T13:45:58.407Z"
      },
      {
        "duration": 4,
        "start_time": "2024-07-19T13:45:58.411Z"
      },
      {
        "duration": 4,
        "start_time": "2024-07-19T13:45:58.416Z"
      },
      {
        "duration": 101153,
        "start_time": "2024-07-19T13:45:58.423Z"
      },
      {
        "duration": 23,
        "start_time": "2024-07-19T13:47:39.581Z"
      },
      {
        "duration": 121,
        "start_time": "2024-07-19T13:47:39.605Z"
      },
      {
        "duration": 0,
        "start_time": "2024-07-19T13:47:39.728Z"
      },
      {
        "duration": 4,
        "start_time": "2024-07-19T13:50:43.891Z"
      },
      {
        "duration": 7,
        "start_time": "2024-07-19T13:50:54.718Z"
      },
      {
        "duration": 80,
        "start_time": "2024-07-19T14:04:43.386Z"
      },
      {
        "duration": 22,
        "start_time": "2024-07-19T14:04:44.194Z"
      },
      {
        "duration": 31117,
        "start_time": "2024-07-19T14:04:59.158Z"
      },
      {
        "duration": 12,
        "start_time": "2024-07-19T14:05:30.277Z"
      },
      {
        "duration": 102621,
        "start_time": "2024-07-19T14:05:55.544Z"
      },
      {
        "duration": 25,
        "start_time": "2024-07-19T14:07:38.166Z"
      },
      {
        "duration": 12,
        "start_time": "2024-07-19T14:09:11.549Z"
      },
      {
        "duration": 25,
        "start_time": "2024-07-19T14:09:12.213Z"
      },
      {
        "duration": 272,
        "start_time": "2024-07-19T14:11:47.986Z"
      },
      {
        "duration": 285,
        "start_time": "2024-07-19T14:13:53.563Z"
      },
      {
        "duration": 90313,
        "start_time": "2024-07-19T14:16:29.625Z"
      },
      {
        "duration": 4745,
        "start_time": "2024-07-19T14:19:31.072Z"
      },
      {
        "duration": 2313,
        "start_time": "2024-07-19T14:19:35.819Z"
      },
      {
        "duration": 526,
        "start_time": "2024-07-19T14:19:38.134Z"
      },
      {
        "duration": 2360,
        "start_time": "2024-07-19T14:19:38.662Z"
      },
      {
        "duration": 2379,
        "start_time": "2024-07-19T14:19:41.024Z"
      },
      {
        "duration": 953,
        "start_time": "2024-07-19T14:19:43.405Z"
      },
      {
        "duration": 139,
        "start_time": "2024-07-19T14:19:44.360Z"
      },
      {
        "duration": 7,
        "start_time": "2024-07-19T14:19:44.501Z"
      },
      {
        "duration": 37,
        "start_time": "2024-07-19T14:19:44.509Z"
      },
      {
        "duration": 2,
        "start_time": "2024-07-19T14:19:44.548Z"
      },
      {
        "duration": 4,
        "start_time": "2024-07-19T14:19:44.552Z"
      },
      {
        "duration": 4,
        "start_time": "2024-07-19T14:19:44.557Z"
      },
      {
        "duration": 6,
        "start_time": "2024-07-19T14:19:44.562Z"
      },
      {
        "duration": 59,
        "start_time": "2024-07-19T14:19:44.570Z"
      },
      {
        "duration": 12,
        "start_time": "2024-07-19T14:19:44.631Z"
      },
      {
        "duration": 27,
        "start_time": "2024-07-19T14:19:44.644Z"
      },
      {
        "duration": 10,
        "start_time": "2024-07-19T14:19:44.673Z"
      },
      {
        "duration": 3,
        "start_time": "2024-07-19T14:19:44.684Z"
      },
      {
        "duration": 18,
        "start_time": "2024-07-19T14:19:44.688Z"
      },
      {
        "duration": 9,
        "start_time": "2024-07-19T14:19:44.708Z"
      },
      {
        "duration": 707,
        "start_time": "2024-07-19T14:19:44.718Z"
      },
      {
        "duration": 853,
        "start_time": "2024-07-19T14:19:45.426Z"
      },
      {
        "duration": 3,
        "start_time": "2024-07-19T14:19:46.281Z"
      },
      {
        "duration": 31,
        "start_time": "2024-07-19T14:19:46.285Z"
      },
      {
        "duration": 3,
        "start_time": "2024-07-19T14:19:46.318Z"
      },
      {
        "duration": 11,
        "start_time": "2024-07-19T14:19:46.322Z"
      },
      {
        "duration": 8,
        "start_time": "2024-07-19T14:19:46.334Z"
      },
      {
        "duration": 94319,
        "start_time": "2024-07-19T14:19:46.344Z"
      },
      {
        "duration": 28,
        "start_time": "2024-07-19T14:21:20.665Z"
      },
      {
        "duration": 14,
        "start_time": "2024-07-19T14:21:20.695Z"
      },
      {
        "duration": 8,
        "start_time": "2024-07-19T14:21:20.711Z"
      },
      {
        "duration": 261,
        "start_time": "2024-07-19T14:21:20.721Z"
      },
      {
        "duration": 285,
        "start_time": "2024-07-19T14:21:20.983Z"
      },
      {
        "duration": 5314,
        "start_time": "2024-07-19T14:21:50.109Z"
      },
      {
        "duration": 2268,
        "start_time": "2024-07-19T14:21:55.425Z"
      },
      {
        "duration": 531,
        "start_time": "2024-07-19T14:21:57.695Z"
      },
      {
        "duration": 2312,
        "start_time": "2024-07-19T14:21:58.228Z"
      },
      {
        "duration": 2377,
        "start_time": "2024-07-19T14:22:00.542Z"
      },
      {
        "duration": 974,
        "start_time": "2024-07-19T14:22:02.921Z"
      },
      {
        "duration": 136,
        "start_time": "2024-07-19T14:22:03.896Z"
      },
      {
        "duration": 7,
        "start_time": "2024-07-19T14:22:04.034Z"
      },
      {
        "duration": 18,
        "start_time": "2024-07-19T14:22:04.042Z"
      },
      {
        "duration": 2,
        "start_time": "2024-07-19T14:22:04.062Z"
      },
      {
        "duration": 3,
        "start_time": "2024-07-19T14:22:04.081Z"
      },
      {
        "duration": 13,
        "start_time": "2024-07-19T14:22:04.085Z"
      },
      {
        "duration": 4,
        "start_time": "2024-07-19T14:22:04.100Z"
      },
      {
        "duration": 52,
        "start_time": "2024-07-19T14:22:04.106Z"
      },
      {
        "duration": 12,
        "start_time": "2024-07-19T14:22:04.160Z"
      },
      {
        "duration": 13,
        "start_time": "2024-07-19T14:22:04.173Z"
      },
      {
        "duration": 9,
        "start_time": "2024-07-19T14:22:04.188Z"
      },
      {
        "duration": 12,
        "start_time": "2024-07-19T14:22:04.198Z"
      },
      {
        "duration": 18,
        "start_time": "2024-07-19T14:22:04.211Z"
      },
      {
        "duration": 13,
        "start_time": "2024-07-19T14:22:04.231Z"
      },
      {
        "duration": 699,
        "start_time": "2024-07-19T14:22:04.246Z"
      },
      {
        "duration": 794,
        "start_time": "2024-07-19T14:22:04.947Z"
      },
      {
        "duration": 5,
        "start_time": "2024-07-19T14:22:05.743Z"
      },
      {
        "duration": 51,
        "start_time": "2024-07-19T14:22:05.749Z"
      },
      {
        "duration": 7,
        "start_time": "2024-07-19T14:22:05.802Z"
      },
      {
        "duration": 20,
        "start_time": "2024-07-19T14:22:05.811Z"
      },
      {
        "duration": 6,
        "start_time": "2024-07-19T14:22:05.832Z"
      },
      {
        "duration": 4755,
        "start_time": "2024-07-19T14:31:21.959Z"
      },
      {
        "duration": 2342,
        "start_time": "2024-07-19T14:31:26.717Z"
      },
      {
        "duration": 563,
        "start_time": "2024-07-19T14:31:29.062Z"
      },
      {
        "duration": 2378,
        "start_time": "2024-07-19T14:31:29.627Z"
      },
      {
        "duration": 2394,
        "start_time": "2024-07-19T14:31:32.008Z"
      },
      {
        "duration": 958,
        "start_time": "2024-07-19T14:31:34.404Z"
      },
      {
        "duration": 136,
        "start_time": "2024-07-19T14:31:35.364Z"
      },
      {
        "duration": 6,
        "start_time": "2024-07-19T14:31:35.502Z"
      },
      {
        "duration": 20,
        "start_time": "2024-07-19T14:31:35.510Z"
      },
      {
        "duration": 2,
        "start_time": "2024-07-19T14:31:35.531Z"
      },
      {
        "duration": 8,
        "start_time": "2024-07-19T14:31:35.534Z"
      },
      {
        "duration": 4,
        "start_time": "2024-07-19T14:31:35.543Z"
      },
      {
        "duration": 13,
        "start_time": "2024-07-19T14:31:35.548Z"
      },
      {
        "duration": 51,
        "start_time": "2024-07-19T14:31:35.563Z"
      },
      {
        "duration": 12,
        "start_time": "2024-07-19T14:31:35.616Z"
      },
      {
        "duration": 18,
        "start_time": "2024-07-19T14:31:35.629Z"
      },
      {
        "duration": 19,
        "start_time": "2024-07-19T14:31:35.648Z"
      },
      {
        "duration": 3,
        "start_time": "2024-07-19T14:31:35.668Z"
      },
      {
        "duration": 14,
        "start_time": "2024-07-19T14:31:35.673Z"
      },
      {
        "duration": 9,
        "start_time": "2024-07-19T14:31:35.688Z"
      },
      {
        "duration": 738,
        "start_time": "2024-07-19T14:31:35.700Z"
      },
      {
        "duration": 840,
        "start_time": "2024-07-19T14:31:36.440Z"
      },
      {
        "duration": 4,
        "start_time": "2024-07-19T14:31:37.281Z"
      },
      {
        "duration": 24,
        "start_time": "2024-07-19T14:31:37.286Z"
      },
      {
        "duration": 4,
        "start_time": "2024-07-19T14:31:37.311Z"
      },
      {
        "duration": 4,
        "start_time": "2024-07-19T14:31:37.316Z"
      },
      {
        "duration": 5,
        "start_time": "2024-07-19T14:31:37.321Z"
      },
      {
        "duration": 929576,
        "start_time": "2024-07-19T14:31:37.327Z"
      },
      {
        "duration": 23,
        "start_time": "2024-07-19T14:47:06.904Z"
      },
      {
        "duration": 13,
        "start_time": "2024-07-19T14:47:06.928Z"
      },
      {
        "duration": 8,
        "start_time": "2024-07-19T14:47:06.942Z"
      },
      {
        "duration": 293,
        "start_time": "2024-07-19T14:47:06.952Z"
      },
      {
        "duration": 296,
        "start_time": "2024-07-19T14:47:07.246Z"
      },
      {
        "duration": 57,
        "start_time": "2024-07-19T14:47:07.543Z"
      },
      {
        "duration": 47,
        "start_time": "2024-07-19T14:47:07.601Z"
      },
      {
        "duration": 4777,
        "start_time": "2024-07-19T14:48:04.048Z"
      },
      {
        "duration": 2380,
        "start_time": "2024-07-19T14:48:08.827Z"
      },
      {
        "duration": 508,
        "start_time": "2024-07-19T14:48:11.209Z"
      },
      {
        "duration": 2325,
        "start_time": "2024-07-19T14:48:11.719Z"
      },
      {
        "duration": 2409,
        "start_time": "2024-07-19T14:48:14.046Z"
      },
      {
        "duration": 929,
        "start_time": "2024-07-19T14:48:16.458Z"
      },
      {
        "duration": 147,
        "start_time": "2024-07-19T14:48:17.389Z"
      },
      {
        "duration": 7,
        "start_time": "2024-07-19T14:48:17.538Z"
      },
      {
        "duration": 22,
        "start_time": "2024-07-19T14:48:17.546Z"
      },
      {
        "duration": 2,
        "start_time": "2024-07-19T14:48:17.570Z"
      },
      {
        "duration": 3,
        "start_time": "2024-07-19T14:48:17.581Z"
      },
      {
        "duration": 6,
        "start_time": "2024-07-19T14:48:17.585Z"
      },
      {
        "duration": 8,
        "start_time": "2024-07-19T14:48:17.592Z"
      },
      {
        "duration": 53,
        "start_time": "2024-07-19T14:48:17.601Z"
      },
      {
        "duration": 12,
        "start_time": "2024-07-19T14:48:17.656Z"
      },
      {
        "duration": 19,
        "start_time": "2024-07-19T14:48:17.669Z"
      },
      {
        "duration": 9,
        "start_time": "2024-07-19T14:48:17.690Z"
      },
      {
        "duration": 4,
        "start_time": "2024-07-19T14:48:17.700Z"
      },
      {
        "duration": 21,
        "start_time": "2024-07-19T14:48:17.705Z"
      },
      {
        "duration": 7,
        "start_time": "2024-07-19T14:48:17.727Z"
      },
      {
        "duration": 727,
        "start_time": "2024-07-19T14:48:17.735Z"
      },
      {
        "duration": 828,
        "start_time": "2024-07-19T14:48:18.464Z"
      },
      {
        "duration": 4,
        "start_time": "2024-07-19T14:48:19.293Z"
      },
      {
        "duration": 33,
        "start_time": "2024-07-19T14:48:19.299Z"
      },
      {
        "duration": 3,
        "start_time": "2024-07-19T14:48:19.334Z"
      },
      {
        "duration": 4,
        "start_time": "2024-07-19T14:48:19.339Z"
      },
      {
        "duration": 6,
        "start_time": "2024-07-19T14:48:19.344Z"
      },
      {
        "duration": 145624,
        "start_time": "2024-07-19T14:48:19.352Z"
      },
      {
        "duration": 25,
        "start_time": "2024-07-19T14:50:44.977Z"
      },
      {
        "duration": 41,
        "start_time": "2024-07-19T14:50:45.004Z"
      },
      {
        "duration": 44,
        "start_time": "2024-07-19T14:50:45.046Z"
      },
      {
        "duration": 282,
        "start_time": "2024-07-19T14:50:45.092Z"
      },
      {
        "duration": 309,
        "start_time": "2024-07-19T14:50:45.376Z"
      },
      {
        "duration": 52,
        "start_time": "2024-07-19T14:50:45.686Z"
      },
      {
        "duration": 58,
        "start_time": "2024-07-19T14:50:45.739Z"
      },
      {
        "duration": 4694,
        "start_time": "2024-07-19T14:52:12.567Z"
      },
      {
        "duration": 2351,
        "start_time": "2024-07-19T14:52:17.263Z"
      },
      {
        "duration": 518,
        "start_time": "2024-07-19T14:52:19.616Z"
      },
      {
        "duration": 2346,
        "start_time": "2024-07-19T14:52:20.136Z"
      },
      {
        "duration": 2331,
        "start_time": "2024-07-19T14:52:22.484Z"
      },
      {
        "duration": 958,
        "start_time": "2024-07-19T14:52:24.816Z"
      },
      {
        "duration": 134,
        "start_time": "2024-07-19T14:52:25.776Z"
      },
      {
        "duration": 6,
        "start_time": "2024-07-19T14:52:25.912Z"
      },
      {
        "duration": 27,
        "start_time": "2024-07-19T14:52:25.920Z"
      },
      {
        "duration": 2,
        "start_time": "2024-07-19T14:52:25.949Z"
      },
      {
        "duration": 8,
        "start_time": "2024-07-19T14:52:25.953Z"
      },
      {
        "duration": 7,
        "start_time": "2024-07-19T14:52:25.963Z"
      },
      {
        "duration": 3,
        "start_time": "2024-07-19T14:52:25.971Z"
      },
      {
        "duration": 49,
        "start_time": "2024-07-19T14:52:25.981Z"
      },
      {
        "duration": 12,
        "start_time": "2024-07-19T14:52:26.032Z"
      },
      {
        "duration": 13,
        "start_time": "2024-07-19T14:52:26.046Z"
      },
      {
        "duration": 9,
        "start_time": "2024-07-19T14:52:26.060Z"
      },
      {
        "duration": 3,
        "start_time": "2024-07-19T14:52:26.070Z"
      },
      {
        "duration": 8,
        "start_time": "2024-07-19T14:52:26.075Z"
      },
      {
        "duration": 6,
        "start_time": "2024-07-19T14:52:26.084Z"
      },
      {
        "duration": 646,
        "start_time": "2024-07-19T14:52:26.092Z"
      },
      {
        "duration": 835,
        "start_time": "2024-07-19T14:52:26.740Z"
      },
      {
        "duration": 5,
        "start_time": "2024-07-19T14:52:27.577Z"
      },
      {
        "duration": 27,
        "start_time": "2024-07-19T14:52:27.583Z"
      },
      {
        "duration": 3,
        "start_time": "2024-07-19T14:52:27.611Z"
      },
      {
        "duration": 10,
        "start_time": "2024-07-19T14:52:27.616Z"
      },
      {
        "duration": 20,
        "start_time": "2024-07-19T14:52:27.628Z"
      },
      {
        "duration": 134232,
        "start_time": "2024-07-19T14:52:27.651Z"
      },
      {
        "duration": 26,
        "start_time": "2024-07-19T14:54:41.885Z"
      },
      {
        "duration": 8,
        "start_time": "2024-07-19T14:54:41.914Z"
      },
      {
        "duration": 59,
        "start_time": "2024-07-19T14:54:41.923Z"
      },
      {
        "duration": 279,
        "start_time": "2024-07-19T14:54:41.984Z"
      },
      {
        "duration": 286,
        "start_time": "2024-07-19T14:54:42.264Z"
      },
      {
        "duration": 60,
        "start_time": "2024-07-19T14:54:42.551Z"
      },
      {
        "duration": 54,
        "start_time": "2024-07-19T14:54:42.613Z"
      },
      {
        "duration": 4722,
        "start_time": "2024-07-19T14:55:32.281Z"
      },
      {
        "duration": 2357,
        "start_time": "2024-07-19T14:55:37.005Z"
      },
      {
        "duration": 558,
        "start_time": "2024-07-19T14:55:39.364Z"
      },
      {
        "duration": 2374,
        "start_time": "2024-07-19T14:55:39.924Z"
      },
      {
        "duration": 2378,
        "start_time": "2024-07-19T14:55:42.300Z"
      },
      {
        "duration": 916,
        "start_time": "2024-07-19T14:55:44.680Z"
      },
      {
        "duration": 146,
        "start_time": "2024-07-19T14:55:45.597Z"
      },
      {
        "duration": 8,
        "start_time": "2024-07-19T14:55:45.745Z"
      },
      {
        "duration": 33,
        "start_time": "2024-07-19T14:55:45.754Z"
      },
      {
        "duration": 3,
        "start_time": "2024-07-19T14:55:45.788Z"
      },
      {
        "duration": 4,
        "start_time": "2024-07-19T14:55:45.792Z"
      },
      {
        "duration": 6,
        "start_time": "2024-07-19T14:55:45.797Z"
      },
      {
        "duration": 4,
        "start_time": "2024-07-19T14:55:45.804Z"
      },
      {
        "duration": 51,
        "start_time": "2024-07-19T14:55:45.811Z"
      },
      {
        "duration": 11,
        "start_time": "2024-07-19T14:55:45.864Z"
      },
      {
        "duration": 21,
        "start_time": "2024-07-19T14:55:45.876Z"
      },
      {
        "duration": 9,
        "start_time": "2024-07-19T14:55:45.899Z"
      },
      {
        "duration": 6,
        "start_time": "2024-07-19T14:55:45.909Z"
      },
      {
        "duration": 12,
        "start_time": "2024-07-19T14:55:45.916Z"
      },
      {
        "duration": 17,
        "start_time": "2024-07-19T14:55:45.929Z"
      },
      {
        "duration": 691,
        "start_time": "2024-07-19T14:55:45.948Z"
      },
      {
        "duration": 834,
        "start_time": "2024-07-19T14:55:46.641Z"
      },
      {
        "duration": 5,
        "start_time": "2024-07-19T14:55:47.477Z"
      },
      {
        "duration": 39,
        "start_time": "2024-07-19T14:55:47.483Z"
      },
      {
        "duration": 4,
        "start_time": "2024-07-19T14:55:47.523Z"
      },
      {
        "duration": 9,
        "start_time": "2024-07-19T14:55:47.528Z"
      },
      {
        "duration": 11,
        "start_time": "2024-07-19T14:55:47.538Z"
      },
      {
        "duration": 127009,
        "start_time": "2024-07-19T14:55:47.550Z"
      },
      {
        "duration": 27,
        "start_time": "2024-07-19T14:57:54.560Z"
      },
      {
        "duration": 9,
        "start_time": "2024-07-19T14:57:54.589Z"
      },
      {
        "duration": 12,
        "start_time": "2024-07-19T14:57:54.599Z"
      },
      {
        "duration": 272,
        "start_time": "2024-07-19T14:57:54.612Z"
      },
      {
        "duration": 272,
        "start_time": "2024-07-19T14:57:54.886Z"
      },
      {
        "duration": 62,
        "start_time": "2024-07-19T14:57:55.160Z"
      },
      {
        "duration": 58,
        "start_time": "2024-07-19T14:57:55.224Z"
      },
      {
        "duration": 4760,
        "start_time": "2024-07-19T14:59:07.368Z"
      },
      {
        "duration": 2485,
        "start_time": "2024-07-19T14:59:12.130Z"
      },
      {
        "duration": 509,
        "start_time": "2024-07-19T14:59:14.617Z"
      },
      {
        "duration": 2349,
        "start_time": "2024-07-19T14:59:15.129Z"
      },
      {
        "duration": 2385,
        "start_time": "2024-07-19T14:59:17.481Z"
      },
      {
        "duration": 961,
        "start_time": "2024-07-19T14:59:19.868Z"
      },
      {
        "duration": 151,
        "start_time": "2024-07-19T14:59:20.831Z"
      },
      {
        "duration": 9,
        "start_time": "2024-07-19T14:59:20.984Z"
      },
      {
        "duration": 19,
        "start_time": "2024-07-19T14:59:20.995Z"
      },
      {
        "duration": 15,
        "start_time": "2024-07-19T14:59:21.016Z"
      },
      {
        "duration": 6,
        "start_time": "2024-07-19T14:59:21.032Z"
      },
      {
        "duration": 15,
        "start_time": "2024-07-19T14:59:21.039Z"
      },
      {
        "duration": 6,
        "start_time": "2024-07-19T14:59:21.056Z"
      },
      {
        "duration": 50,
        "start_time": "2024-07-19T14:59:21.063Z"
      },
      {
        "duration": 11,
        "start_time": "2024-07-19T14:59:21.115Z"
      },
      {
        "duration": 17,
        "start_time": "2024-07-19T14:59:21.128Z"
      },
      {
        "duration": 23,
        "start_time": "2024-07-19T14:59:21.146Z"
      },
      {
        "duration": 4,
        "start_time": "2024-07-19T14:59:21.170Z"
      },
      {
        "duration": 17,
        "start_time": "2024-07-19T14:59:21.175Z"
      },
      {
        "duration": 9,
        "start_time": "2024-07-19T14:59:21.193Z"
      },
      {
        "duration": 750,
        "start_time": "2024-07-19T14:59:21.204Z"
      },
      {
        "duration": 828,
        "start_time": "2024-07-19T14:59:21.956Z"
      },
      {
        "duration": 3,
        "start_time": "2024-07-19T14:59:22.786Z"
      },
      {
        "duration": 25,
        "start_time": "2024-07-19T14:59:22.791Z"
      },
      {
        "duration": 3,
        "start_time": "2024-07-19T14:59:22.818Z"
      },
      {
        "duration": 8,
        "start_time": "2024-07-19T14:59:22.823Z"
      },
      {
        "duration": 5,
        "start_time": "2024-07-19T14:59:22.832Z"
      },
      {
        "duration": 113956,
        "start_time": "2024-07-19T14:59:22.839Z"
      },
      {
        "duration": 24,
        "start_time": "2024-07-19T15:01:16.796Z"
      },
      {
        "duration": 28,
        "start_time": "2024-07-19T15:01:16.821Z"
      },
      {
        "duration": 9,
        "start_time": "2024-07-19T15:01:16.850Z"
      },
      {
        "duration": 310,
        "start_time": "2024-07-19T15:01:16.861Z"
      },
      {
        "duration": 302,
        "start_time": "2024-07-19T15:01:17.173Z"
      },
      {
        "duration": 51,
        "start_time": "2024-07-19T15:01:17.481Z"
      },
      {
        "duration": 44,
        "start_time": "2024-07-19T15:01:17.534Z"
      },
      {
        "duration": 4767,
        "start_time": "2024-07-19T15:02:28.592Z"
      },
      {
        "duration": 2314,
        "start_time": "2024-07-19T15:02:33.361Z"
      },
      {
        "duration": 549,
        "start_time": "2024-07-19T15:02:35.677Z"
      },
      {
        "duration": 2343,
        "start_time": "2024-07-19T15:02:36.228Z"
      },
      {
        "duration": 2357,
        "start_time": "2024-07-19T15:02:38.573Z"
      },
      {
        "duration": 940,
        "start_time": "2024-07-19T15:02:40.932Z"
      },
      {
        "duration": 144,
        "start_time": "2024-07-19T15:02:41.874Z"
      },
      {
        "duration": 7,
        "start_time": "2024-07-19T15:02:42.020Z"
      },
      {
        "duration": 19,
        "start_time": "2024-07-19T15:02:42.028Z"
      },
      {
        "duration": 3,
        "start_time": "2024-07-19T15:02:42.048Z"
      },
      {
        "duration": 8,
        "start_time": "2024-07-19T15:02:42.052Z"
      },
      {
        "duration": 8,
        "start_time": "2024-07-19T15:02:42.062Z"
      },
      {
        "duration": 7,
        "start_time": "2024-07-19T15:02:42.071Z"
      },
      {
        "duration": 54,
        "start_time": "2024-07-19T15:02:42.083Z"
      },
      {
        "duration": 12,
        "start_time": "2024-07-19T15:02:42.138Z"
      },
      {
        "duration": 9,
        "start_time": "2024-07-19T15:02:42.152Z"
      },
      {
        "duration": 9,
        "start_time": "2024-07-19T15:02:42.163Z"
      },
      {
        "duration": 8,
        "start_time": "2024-07-19T15:02:42.174Z"
      },
      {
        "duration": 8,
        "start_time": "2024-07-19T15:02:42.184Z"
      },
      {
        "duration": 9,
        "start_time": "2024-07-19T15:02:42.194Z"
      },
      {
        "duration": 727,
        "start_time": "2024-07-19T15:02:42.204Z"
      },
      {
        "duration": 857,
        "start_time": "2024-07-19T15:02:42.933Z"
      },
      {
        "duration": 4,
        "start_time": "2024-07-19T15:02:43.792Z"
      },
      {
        "duration": 20,
        "start_time": "2024-07-19T15:02:43.798Z"
      },
      {
        "duration": 15,
        "start_time": "2024-07-19T15:02:43.820Z"
      },
      {
        "duration": 14,
        "start_time": "2024-07-19T15:02:43.837Z"
      },
      {
        "duration": 29,
        "start_time": "2024-07-19T15:02:43.852Z"
      },
      {
        "duration": 127914,
        "start_time": "2024-07-19T15:02:43.883Z"
      },
      {
        "duration": 25,
        "start_time": "2024-07-19T15:04:51.799Z"
      },
      {
        "duration": 37,
        "start_time": "2024-07-19T15:04:51.826Z"
      },
      {
        "duration": 51,
        "start_time": "2024-07-19T15:04:51.864Z"
      },
      {
        "duration": 310,
        "start_time": "2024-07-19T15:04:51.916Z"
      },
      {
        "duration": 266,
        "start_time": "2024-07-19T15:04:52.228Z"
      },
      {
        "duration": 55,
        "start_time": "2024-07-19T15:04:52.496Z"
      },
      {
        "duration": 80,
        "start_time": "2024-07-19T15:04:52.552Z"
      },
      {
        "duration": 4777,
        "start_time": "2024-07-19T15:06:21.022Z"
      },
      {
        "duration": 2400,
        "start_time": "2024-07-19T15:06:25.801Z"
      },
      {
        "duration": 530,
        "start_time": "2024-07-19T15:06:28.203Z"
      },
      {
        "duration": 2494,
        "start_time": "2024-07-19T15:06:28.735Z"
      },
      {
        "duration": 2403,
        "start_time": "2024-07-19T15:06:31.231Z"
      },
      {
        "duration": 935,
        "start_time": "2024-07-19T15:06:33.636Z"
      },
      {
        "duration": 141,
        "start_time": "2024-07-19T15:06:34.573Z"
      },
      {
        "duration": 8,
        "start_time": "2024-07-19T15:06:34.716Z"
      },
      {
        "duration": 21,
        "start_time": "2024-07-19T15:06:34.726Z"
      },
      {
        "duration": 3,
        "start_time": "2024-07-19T15:06:34.750Z"
      },
      {
        "duration": 3,
        "start_time": "2024-07-19T15:06:34.754Z"
      },
      {
        "duration": 4,
        "start_time": "2024-07-19T15:06:34.758Z"
      },
      {
        "duration": 3,
        "start_time": "2024-07-19T15:06:34.781Z"
      },
      {
        "duration": 54,
        "start_time": "2024-07-19T15:06:34.785Z"
      },
      {
        "duration": 13,
        "start_time": "2024-07-19T15:06:34.840Z"
      },
      {
        "duration": 29,
        "start_time": "2024-07-19T15:06:34.854Z"
      },
      {
        "duration": 22,
        "start_time": "2024-07-19T15:06:34.885Z"
      },
      {
        "duration": 8,
        "start_time": "2024-07-19T15:06:34.909Z"
      },
      {
        "duration": 34,
        "start_time": "2024-07-19T15:06:34.919Z"
      },
      {
        "duration": 16,
        "start_time": "2024-07-19T15:06:34.955Z"
      },
      {
        "duration": 671,
        "start_time": "2024-07-19T15:06:34.972Z"
      },
      {
        "duration": 831,
        "start_time": "2024-07-19T15:06:35.645Z"
      },
      {
        "duration": 5,
        "start_time": "2024-07-19T15:06:36.477Z"
      },
      {
        "duration": 35,
        "start_time": "2024-07-19T15:06:36.484Z"
      },
      {
        "duration": 3,
        "start_time": "2024-07-19T15:06:36.521Z"
      },
      {
        "duration": 5,
        "start_time": "2024-07-19T15:06:36.525Z"
      },
      {
        "duration": 8,
        "start_time": "2024-07-19T15:06:36.532Z"
      },
      {
        "duration": 104235,
        "start_time": "2024-07-19T15:06:36.542Z"
      },
      {
        "duration": 23,
        "start_time": "2024-07-19T15:08:20.781Z"
      },
      {
        "duration": 36,
        "start_time": "2024-07-19T15:08:20.805Z"
      },
      {
        "duration": 28,
        "start_time": "2024-07-19T15:08:20.843Z"
      },
      {
        "duration": 281,
        "start_time": "2024-07-19T15:08:20.872Z"
      },
      {
        "duration": 312,
        "start_time": "2024-07-19T15:08:21.154Z"
      },
      {
        "duration": 58,
        "start_time": "2024-07-19T15:08:21.468Z"
      },
      {
        "duration": 51,
        "start_time": "2024-07-19T15:08:21.527Z"
      },
      {
        "duration": 4865,
        "start_time": "2024-07-19T15:10:04.899Z"
      },
      {
        "duration": 2384,
        "start_time": "2024-07-19T15:10:09.766Z"
      },
      {
        "duration": 549,
        "start_time": "2024-07-19T15:10:12.152Z"
      },
      {
        "duration": 2383,
        "start_time": "2024-07-19T15:10:12.703Z"
      },
      {
        "duration": 2406,
        "start_time": "2024-07-19T15:10:15.089Z"
      },
      {
        "duration": 918,
        "start_time": "2024-07-19T15:10:17.497Z"
      },
      {
        "duration": 136,
        "start_time": "2024-07-19T15:10:18.416Z"
      },
      {
        "duration": 8,
        "start_time": "2024-07-19T15:10:18.553Z"
      },
      {
        "duration": 28,
        "start_time": "2024-07-19T15:10:18.562Z"
      },
      {
        "duration": 3,
        "start_time": "2024-07-19T15:10:18.591Z"
      },
      {
        "duration": 10,
        "start_time": "2024-07-19T15:10:18.596Z"
      },
      {
        "duration": 11,
        "start_time": "2024-07-19T15:10:18.608Z"
      },
      {
        "duration": 4,
        "start_time": "2024-07-19T15:10:18.620Z"
      },
      {
        "duration": 50,
        "start_time": "2024-07-19T15:10:18.626Z"
      },
      {
        "duration": 11,
        "start_time": "2024-07-19T15:10:18.678Z"
      },
      {
        "duration": 14,
        "start_time": "2024-07-19T15:10:18.690Z"
      },
      {
        "duration": 18,
        "start_time": "2024-07-19T15:10:18.706Z"
      },
      {
        "duration": 3,
        "start_time": "2024-07-19T15:10:18.725Z"
      },
      {
        "duration": 8,
        "start_time": "2024-07-19T15:10:18.730Z"
      },
      {
        "duration": 7,
        "start_time": "2024-07-19T15:10:18.739Z"
      },
      {
        "duration": 690,
        "start_time": "2024-07-19T15:10:18.747Z"
      },
      {
        "duration": 857,
        "start_time": "2024-07-19T15:10:19.439Z"
      },
      {
        "duration": 3,
        "start_time": "2024-07-19T15:10:20.298Z"
      },
      {
        "duration": 44,
        "start_time": "2024-07-19T15:10:20.303Z"
      },
      {
        "duration": 3,
        "start_time": "2024-07-19T15:10:20.348Z"
      },
      {
        "duration": 14,
        "start_time": "2024-07-19T15:10:20.353Z"
      },
      {
        "duration": 8,
        "start_time": "2024-07-19T15:10:20.368Z"
      },
      {
        "duration": 156990,
        "start_time": "2024-07-19T15:10:20.377Z"
      },
      {
        "duration": 28,
        "start_time": "2024-07-19T15:12:57.368Z"
      },
      {
        "duration": 7,
        "start_time": "2024-07-19T15:12:57.398Z"
      },
      {
        "duration": 10,
        "start_time": "2024-07-19T15:12:57.406Z"
      },
      {
        "duration": 256,
        "start_time": "2024-07-19T15:12:57.417Z"
      },
      {
        "duration": 289,
        "start_time": "2024-07-19T15:12:57.674Z"
      },
      {
        "duration": 60,
        "start_time": "2024-07-19T15:12:57.965Z"
      },
      {
        "duration": 44,
        "start_time": "2024-07-19T15:12:58.027Z"
      },
      {
        "duration": 4874,
        "start_time": "2024-07-19T15:13:23.051Z"
      },
      {
        "duration": 2471,
        "start_time": "2024-07-19T15:13:27.928Z"
      },
      {
        "duration": 567,
        "start_time": "2024-07-19T15:13:30.401Z"
      },
      {
        "duration": 2450,
        "start_time": "2024-07-19T15:13:30.970Z"
      },
      {
        "duration": 2417,
        "start_time": "2024-07-19T15:13:33.424Z"
      },
      {
        "duration": 955,
        "start_time": "2024-07-19T15:13:35.843Z"
      },
      {
        "duration": 143,
        "start_time": "2024-07-19T15:13:36.800Z"
      },
      {
        "duration": 8,
        "start_time": "2024-07-19T15:13:36.945Z"
      },
      {
        "duration": 35,
        "start_time": "2024-07-19T15:13:36.954Z"
      },
      {
        "duration": 3,
        "start_time": "2024-07-19T15:13:36.991Z"
      },
      {
        "duration": 3,
        "start_time": "2024-07-19T15:13:36.995Z"
      },
      {
        "duration": 23,
        "start_time": "2024-07-19T15:13:37.000Z"
      },
      {
        "duration": 13,
        "start_time": "2024-07-19T15:13:37.024Z"
      },
      {
        "duration": 52,
        "start_time": "2024-07-19T15:13:37.040Z"
      },
      {
        "duration": 14,
        "start_time": "2024-07-19T15:13:37.093Z"
      },
      {
        "duration": 10,
        "start_time": "2024-07-19T15:13:37.108Z"
      },
      {
        "duration": 10,
        "start_time": "2024-07-19T15:13:37.120Z"
      },
      {
        "duration": 4,
        "start_time": "2024-07-19T15:13:37.131Z"
      },
      {
        "duration": 10,
        "start_time": "2024-07-19T15:13:37.136Z"
      },
      {
        "duration": 38,
        "start_time": "2024-07-19T15:13:37.148Z"
      },
      {
        "duration": 753,
        "start_time": "2024-07-19T15:13:37.188Z"
      },
      {
        "duration": 863,
        "start_time": "2024-07-19T15:13:37.943Z"
      },
      {
        "duration": 4,
        "start_time": "2024-07-19T15:13:38.808Z"
      },
      {
        "duration": 23,
        "start_time": "2024-07-19T15:13:38.814Z"
      },
      {
        "duration": 4,
        "start_time": "2024-07-19T15:13:38.839Z"
      },
      {
        "duration": 6,
        "start_time": "2024-07-19T15:13:38.845Z"
      },
      {
        "duration": 32,
        "start_time": "2024-07-19T15:13:38.853Z"
      },
      {
        "duration": 111499,
        "start_time": "2024-07-19T15:13:38.886Z"
      },
      {
        "duration": 23,
        "start_time": "2024-07-19T15:15:30.386Z"
      },
      {
        "duration": 99,
        "start_time": "2024-07-19T15:15:30.411Z"
      },
      {
        "duration": 49,
        "start_time": "2024-07-19T15:15:30.511Z"
      },
      {
        "duration": 292,
        "start_time": "2024-07-19T15:15:30.562Z"
      },
      {
        "duration": 316,
        "start_time": "2024-07-19T15:15:30.856Z"
      },
      {
        "duration": 56,
        "start_time": "2024-07-19T15:15:31.173Z"
      },
      {
        "duration": 143,
        "start_time": "2024-07-19T15:15:31.230Z"
      },
      {
        "duration": 17,
        "start_time": "2024-07-19T15:16:03.310Z"
      },
      {
        "duration": 4,
        "start_time": "2024-07-19T15:16:05.987Z"
      },
      {
        "duration": 3,
        "start_time": "2024-07-19T15:16:07.094Z"
      },
      {
        "duration": 5,
        "start_time": "2024-07-19T15:16:08.184Z"
      },
      {
        "duration": 5055,
        "start_time": "2024-07-19T16:24:33.079Z"
      },
      {
        "duration": 8807,
        "start_time": "2024-07-19T16:24:38.136Z"
      },
      {
        "duration": 897,
        "start_time": "2024-07-19T16:24:46.945Z"
      },
      {
        "duration": 6670,
        "start_time": "2024-07-19T16:24:47.844Z"
      },
      {
        "duration": 3284,
        "start_time": "2024-07-19T16:24:54.516Z"
      },
      {
        "duration": 2200,
        "start_time": "2024-07-19T16:24:57.802Z"
      },
      {
        "duration": 177,
        "start_time": "2024-07-19T16:25:00.004Z"
      },
      {
        "duration": 9,
        "start_time": "2024-07-19T16:25:00.184Z"
      },
      {
        "duration": 57,
        "start_time": "2024-07-19T16:25:00.195Z"
      },
      {
        "duration": 7,
        "start_time": "2024-07-19T16:25:00.254Z"
      },
      {
        "duration": 28,
        "start_time": "2024-07-19T16:25:00.262Z"
      },
      {
        "duration": 48,
        "start_time": "2024-07-19T16:25:00.292Z"
      },
      {
        "duration": 44,
        "start_time": "2024-07-19T16:25:00.341Z"
      },
      {
        "duration": 234,
        "start_time": "2024-07-19T16:25:00.386Z"
      },
      {
        "duration": 13,
        "start_time": "2024-07-19T16:25:00.622Z"
      },
      {
        "duration": 15,
        "start_time": "2024-07-19T16:25:00.636Z"
      },
      {
        "duration": 14,
        "start_time": "2024-07-19T16:25:00.653Z"
      },
      {
        "duration": 15,
        "start_time": "2024-07-19T16:25:00.669Z"
      },
      {
        "duration": 34,
        "start_time": "2024-07-19T16:25:00.686Z"
      },
      {
        "duration": 88,
        "start_time": "2024-07-19T16:25:00.722Z"
      },
      {
        "duration": 717,
        "start_time": "2024-07-19T16:25:00.812Z"
      },
      {
        "duration": 854,
        "start_time": "2024-07-19T16:25:01.530Z"
      },
      {
        "duration": 3,
        "start_time": "2024-07-19T16:25:02.386Z"
      },
      {
        "duration": 33,
        "start_time": "2024-07-19T16:25:02.391Z"
      },
      {
        "duration": 398,
        "start_time": "2024-07-19T16:25:02.427Z"
      },
      {
        "duration": 326,
        "start_time": "2024-07-19T18:52:54.223Z"
      },
      {
        "duration": 253,
        "start_time": "2024-07-19T18:53:00.184Z"
      },
      {
        "duration": 5477,
        "start_time": "2024-07-19T18:54:45.553Z"
      },
      {
        "duration": 2391,
        "start_time": "2024-07-19T18:54:51.032Z"
      },
      {
        "duration": 514,
        "start_time": "2024-07-19T18:54:53.425Z"
      },
      {
        "duration": 2360,
        "start_time": "2024-07-19T18:54:53.941Z"
      },
      {
        "duration": 2427,
        "start_time": "2024-07-19T18:54:56.303Z"
      },
      {
        "duration": 983,
        "start_time": "2024-07-19T18:54:58.733Z"
      },
      {
        "duration": 155,
        "start_time": "2024-07-19T18:54:59.717Z"
      },
      {
        "duration": 11,
        "start_time": "2024-07-19T18:54:59.873Z"
      },
      {
        "duration": 22,
        "start_time": "2024-07-19T18:54:59.885Z"
      },
      {
        "duration": 2,
        "start_time": "2024-07-19T18:54:59.909Z"
      },
      {
        "duration": 4,
        "start_time": "2024-07-19T18:54:59.913Z"
      },
      {
        "duration": 5,
        "start_time": "2024-07-19T18:54:59.918Z"
      },
      {
        "duration": 54,
        "start_time": "2024-07-19T18:54:59.924Z"
      },
      {
        "duration": 13,
        "start_time": "2024-07-19T18:54:59.980Z"
      },
      {
        "duration": 10,
        "start_time": "2024-07-19T18:54:59.994Z"
      },
      {
        "duration": 12,
        "start_time": "2024-07-19T18:55:00.006Z"
      },
      {
        "duration": 29,
        "start_time": "2024-07-19T18:55:00.020Z"
      },
      {
        "duration": 99,
        "start_time": "2024-07-19T18:55:00.050Z"
      },
      {
        "duration": 822,
        "start_time": "2024-07-19T18:55:00.151Z"
      },
      {
        "duration": 128,
        "start_time": "2024-07-19T18:55:00.974Z"
      },
      {
        "duration": 0,
        "start_time": "2024-07-19T18:55:01.104Z"
      },
      {
        "duration": 0,
        "start_time": "2024-07-19T18:55:01.105Z"
      },
      {
        "duration": 0,
        "start_time": "2024-07-19T18:55:01.105Z"
      },
      {
        "duration": 0,
        "start_time": "2024-07-19T18:55:01.107Z"
      },
      {
        "duration": 0,
        "start_time": "2024-07-19T18:55:01.107Z"
      },
      {
        "duration": 0,
        "start_time": "2024-07-19T18:55:01.109Z"
      },
      {
        "duration": 0,
        "start_time": "2024-07-19T18:55:01.109Z"
      },
      {
        "duration": 0,
        "start_time": "2024-07-19T18:55:01.110Z"
      },
      {
        "duration": 0,
        "start_time": "2024-07-19T18:55:01.112Z"
      },
      {
        "duration": 0,
        "start_time": "2024-07-19T18:55:01.112Z"
      },
      {
        "duration": 0,
        "start_time": "2024-07-19T18:55:01.113Z"
      },
      {
        "duration": 0,
        "start_time": "2024-07-19T18:55:01.114Z"
      },
      {
        "duration": 0,
        "start_time": "2024-07-19T18:55:01.115Z"
      },
      {
        "duration": 0,
        "start_time": "2024-07-19T18:56:49.207Z"
      },
      {
        "duration": 0,
        "start_time": "2024-07-19T18:56:49.209Z"
      },
      {
        "duration": 0,
        "start_time": "2024-07-19T18:56:49.212Z"
      },
      {
        "duration": 0,
        "start_time": "2024-07-19T18:56:49.213Z"
      },
      {
        "duration": 0,
        "start_time": "2024-07-19T18:56:49.214Z"
      },
      {
        "duration": 0,
        "start_time": "2024-07-19T18:56:49.216Z"
      },
      {
        "duration": 0,
        "start_time": "2024-07-19T18:56:49.219Z"
      },
      {
        "duration": 0,
        "start_time": "2024-07-19T18:56:49.220Z"
      },
      {
        "duration": 0,
        "start_time": "2024-07-19T18:56:49.221Z"
      },
      {
        "duration": 0,
        "start_time": "2024-07-19T18:56:49.222Z"
      },
      {
        "duration": 0,
        "start_time": "2024-07-19T18:56:49.223Z"
      },
      {
        "duration": 0,
        "start_time": "2024-07-19T18:56:49.224Z"
      },
      {
        "duration": 0,
        "start_time": "2024-07-19T18:56:49.225Z"
      },
      {
        "duration": 0,
        "start_time": "2024-07-19T18:56:49.227Z"
      },
      {
        "duration": 0,
        "start_time": "2024-07-19T18:56:49.284Z"
      },
      {
        "duration": 0,
        "start_time": "2024-07-19T18:56:49.285Z"
      },
      {
        "duration": 0,
        "start_time": "2024-07-19T18:56:49.286Z"
      },
      {
        "duration": 0,
        "start_time": "2024-07-19T18:56:49.287Z"
      },
      {
        "duration": 0,
        "start_time": "2024-07-19T18:56:49.288Z"
      },
      {
        "duration": 0,
        "start_time": "2024-07-19T18:56:49.289Z"
      },
      {
        "duration": 0,
        "start_time": "2024-07-19T18:56:49.290Z"
      },
      {
        "duration": 0,
        "start_time": "2024-07-19T18:56:49.291Z"
      },
      {
        "duration": 0,
        "start_time": "2024-07-19T18:56:49.292Z"
      },
      {
        "duration": 0,
        "start_time": "2024-07-19T18:56:49.293Z"
      },
      {
        "duration": 0,
        "start_time": "2024-07-19T18:56:49.294Z"
      },
      {
        "duration": 0,
        "start_time": "2024-07-19T18:56:49.295Z"
      },
      {
        "duration": 0,
        "start_time": "2024-07-19T18:56:49.296Z"
      },
      {
        "duration": 0,
        "start_time": "2024-07-19T18:56:49.297Z"
      },
      {
        "duration": 0,
        "start_time": "2024-07-19T18:56:49.298Z"
      },
      {
        "duration": 0,
        "start_time": "2024-07-19T18:56:49.299Z"
      },
      {
        "duration": 0,
        "start_time": "2024-07-19T18:56:49.300Z"
      },
      {
        "duration": 0,
        "start_time": "2024-07-19T18:56:49.301Z"
      },
      {
        "duration": 0,
        "start_time": "2024-07-19T18:56:49.302Z"
      },
      {
        "duration": 0,
        "start_time": "2024-07-19T18:57:53.996Z"
      },
      {
        "duration": 0,
        "start_time": "2024-07-19T18:57:53.997Z"
      },
      {
        "duration": 0,
        "start_time": "2024-07-19T18:57:53.998Z"
      },
      {
        "duration": 0,
        "start_time": "2024-07-19T18:57:54.000Z"
      },
      {
        "duration": 0,
        "start_time": "2024-07-19T18:57:54.001Z"
      },
      {
        "duration": 0,
        "start_time": "2024-07-19T18:57:54.002Z"
      },
      {
        "duration": 0,
        "start_time": "2024-07-19T18:57:54.003Z"
      },
      {
        "duration": 0,
        "start_time": "2024-07-19T18:57:54.005Z"
      },
      {
        "duration": 0,
        "start_time": "2024-07-19T18:57:54.006Z"
      },
      {
        "duration": 0,
        "start_time": "2024-07-19T18:57:54.007Z"
      },
      {
        "duration": 0,
        "start_time": "2024-07-19T18:57:54.008Z"
      },
      {
        "duration": 0,
        "start_time": "2024-07-19T18:57:54.009Z"
      },
      {
        "duration": 0,
        "start_time": "2024-07-19T18:57:54.010Z"
      },
      {
        "duration": 0,
        "start_time": "2024-07-19T18:57:54.011Z"
      },
      {
        "duration": 0,
        "start_time": "2024-07-19T18:57:54.012Z"
      },
      {
        "duration": 0,
        "start_time": "2024-07-19T18:57:54.013Z"
      },
      {
        "duration": 0,
        "start_time": "2024-07-19T18:57:54.014Z"
      },
      {
        "duration": 0,
        "start_time": "2024-07-19T18:57:54.015Z"
      },
      {
        "duration": 0,
        "start_time": "2024-07-19T18:57:54.016Z"
      },
      {
        "duration": 0,
        "start_time": "2024-07-19T18:57:54.017Z"
      },
      {
        "duration": 0,
        "start_time": "2024-07-19T18:57:54.018Z"
      },
      {
        "duration": 0,
        "start_time": "2024-07-19T18:57:54.019Z"
      },
      {
        "duration": 0,
        "start_time": "2024-07-19T18:57:54.020Z"
      },
      {
        "duration": 0,
        "start_time": "2024-07-19T18:57:54.084Z"
      },
      {
        "duration": 0,
        "start_time": "2024-07-19T18:57:54.085Z"
      },
      {
        "duration": 0,
        "start_time": "2024-07-19T18:57:54.086Z"
      },
      {
        "duration": 0,
        "start_time": "2024-07-19T18:57:54.087Z"
      },
      {
        "duration": 0,
        "start_time": "2024-07-19T18:57:54.088Z"
      },
      {
        "duration": 0,
        "start_time": "2024-07-19T18:57:54.089Z"
      },
      {
        "duration": 0,
        "start_time": "2024-07-19T18:57:54.090Z"
      },
      {
        "duration": 0,
        "start_time": "2024-07-19T18:57:54.091Z"
      },
      {
        "duration": 0,
        "start_time": "2024-07-19T18:57:54.092Z"
      },
      {
        "duration": 0,
        "start_time": "2024-07-19T18:57:54.093Z"
      },
      {
        "duration": 5092,
        "start_time": "2024-07-19T18:58:10.423Z"
      },
      {
        "duration": 3098,
        "start_time": "2024-07-19T18:58:15.517Z"
      },
      {
        "duration": 530,
        "start_time": "2024-07-19T18:58:18.617Z"
      },
      {
        "duration": 2360,
        "start_time": "2024-07-19T18:58:19.148Z"
      },
      {
        "duration": 2405,
        "start_time": "2024-07-19T18:58:21.511Z"
      },
      {
        "duration": 1019,
        "start_time": "2024-07-19T18:58:23.918Z"
      },
      {
        "duration": 145,
        "start_time": "2024-07-19T18:58:24.939Z"
      },
      {
        "duration": 7,
        "start_time": "2024-07-19T18:58:25.085Z"
      },
      {
        "duration": 37,
        "start_time": "2024-07-19T18:58:25.094Z"
      },
      {
        "duration": 2,
        "start_time": "2024-07-19T18:58:25.132Z"
      },
      {
        "duration": 16,
        "start_time": "2024-07-19T18:58:25.135Z"
      },
      {
        "duration": 18,
        "start_time": "2024-07-19T18:58:25.152Z"
      },
      {
        "duration": 67,
        "start_time": "2024-07-19T18:58:25.172Z"
      },
      {
        "duration": 11,
        "start_time": "2024-07-19T18:58:25.242Z"
      },
      {
        "duration": 29,
        "start_time": "2024-07-19T18:58:25.255Z"
      },
      {
        "duration": 18,
        "start_time": "2024-07-19T18:58:25.286Z"
      },
      {
        "duration": 23,
        "start_time": "2024-07-19T18:58:25.305Z"
      },
      {
        "duration": 25,
        "start_time": "2024-07-19T18:58:25.329Z"
      },
      {
        "duration": 769,
        "start_time": "2024-07-19T18:58:25.355Z"
      },
      {
        "duration": 122,
        "start_time": "2024-07-19T18:58:26.126Z"
      },
      {
        "duration": 0,
        "start_time": "2024-07-19T18:58:26.249Z"
      },
      {
        "duration": 0,
        "start_time": "2024-07-19T18:58:26.250Z"
      },
      {
        "duration": 0,
        "start_time": "2024-07-19T18:58:26.252Z"
      },
      {
        "duration": 0,
        "start_time": "2024-07-19T18:58:26.253Z"
      },
      {
        "duration": 0,
        "start_time": "2024-07-19T18:58:26.254Z"
      },
      {
        "duration": 0,
        "start_time": "2024-07-19T18:58:26.255Z"
      },
      {
        "duration": 0,
        "start_time": "2024-07-19T18:58:26.256Z"
      },
      {
        "duration": 0,
        "start_time": "2024-07-19T18:58:26.257Z"
      },
      {
        "duration": 0,
        "start_time": "2024-07-19T18:58:26.258Z"
      },
      {
        "duration": 0,
        "start_time": "2024-07-19T18:58:26.259Z"
      },
      {
        "duration": 0,
        "start_time": "2024-07-19T18:58:26.260Z"
      },
      {
        "duration": 0,
        "start_time": "2024-07-19T18:58:26.261Z"
      },
      {
        "duration": 0,
        "start_time": "2024-07-19T18:58:26.262Z"
      },
      {
        "duration": 876,
        "start_time": "2024-07-19T18:59:14.011Z"
      },
      {
        "duration": 9,
        "start_time": "2024-07-19T18:59:50.228Z"
      },
      {
        "duration": 251,
        "start_time": "2024-07-19T18:59:58.087Z"
      },
      {
        "duration": 14,
        "start_time": "2024-07-19T19:00:49.348Z"
      },
      {
        "duration": 5566,
        "start_time": "2024-07-19T19:00:58.720Z"
      },
      {
        "duration": 2404,
        "start_time": "2024-07-19T19:01:04.289Z"
      },
      {
        "duration": 555,
        "start_time": "2024-07-19T19:01:06.695Z"
      },
      {
        "duration": 2445,
        "start_time": "2024-07-19T19:01:07.252Z"
      },
      {
        "duration": 2447,
        "start_time": "2024-07-19T19:01:09.700Z"
      },
      {
        "duration": 946,
        "start_time": "2024-07-19T19:01:12.149Z"
      },
      {
        "duration": 145,
        "start_time": "2024-07-19T19:01:13.097Z"
      },
      {
        "duration": 8,
        "start_time": "2024-07-19T19:01:13.243Z"
      },
      {
        "duration": 56,
        "start_time": "2024-07-19T19:01:13.252Z"
      },
      {
        "duration": 2,
        "start_time": "2024-07-19T19:01:13.310Z"
      },
      {
        "duration": 4,
        "start_time": "2024-07-19T19:01:13.314Z"
      },
      {
        "duration": 6,
        "start_time": "2024-07-19T19:01:13.319Z"
      },
      {
        "duration": 53,
        "start_time": "2024-07-19T19:01:13.326Z"
      },
      {
        "duration": 12,
        "start_time": "2024-07-19T19:01:13.382Z"
      },
      {
        "duration": 9,
        "start_time": "2024-07-19T19:01:13.396Z"
      },
      {
        "duration": 3,
        "start_time": "2024-07-19T19:01:13.407Z"
      },
      {
        "duration": 9,
        "start_time": "2024-07-19T19:01:13.411Z"
      },
      {
        "duration": 7,
        "start_time": "2024-07-19T19:01:13.421Z"
      },
      {
        "duration": 762,
        "start_time": "2024-07-19T19:01:13.430Z"
      },
      {
        "duration": 123,
        "start_time": "2024-07-19T19:01:14.195Z"
      },
      {
        "duration": 0,
        "start_time": "2024-07-19T19:01:14.320Z"
      },
      {
        "duration": 0,
        "start_time": "2024-07-19T19:01:14.321Z"
      },
      {
        "duration": 0,
        "start_time": "2024-07-19T19:01:14.323Z"
      },
      {
        "duration": 0,
        "start_time": "2024-07-19T19:01:14.324Z"
      },
      {
        "duration": 0,
        "start_time": "2024-07-19T19:01:14.326Z"
      },
      {
        "duration": 0,
        "start_time": "2024-07-19T19:01:14.327Z"
      },
      {
        "duration": 0,
        "start_time": "2024-07-19T19:01:14.328Z"
      },
      {
        "duration": 0,
        "start_time": "2024-07-19T19:01:14.330Z"
      },
      {
        "duration": 0,
        "start_time": "2024-07-19T19:01:14.331Z"
      },
      {
        "duration": 0,
        "start_time": "2024-07-19T19:01:14.332Z"
      },
      {
        "duration": 0,
        "start_time": "2024-07-19T19:01:14.334Z"
      },
      {
        "duration": 1,
        "start_time": "2024-07-19T19:01:14.335Z"
      },
      {
        "duration": 0,
        "start_time": "2024-07-19T19:01:14.337Z"
      },
      {
        "duration": 11,
        "start_time": "2024-07-19T19:03:21.939Z"
      },
      {
        "duration": 4817,
        "start_time": "2024-07-19T19:05:35.570Z"
      },
      {
        "duration": 2403,
        "start_time": "2024-07-19T19:05:40.389Z"
      },
      {
        "duration": 546,
        "start_time": "2024-07-19T19:05:42.793Z"
      },
      {
        "duration": 2356,
        "start_time": "2024-07-19T19:05:43.340Z"
      },
      {
        "duration": 2370,
        "start_time": "2024-07-19T19:05:45.699Z"
      },
      {
        "duration": 948,
        "start_time": "2024-07-19T19:05:48.072Z"
      },
      {
        "duration": 138,
        "start_time": "2024-07-19T19:05:49.021Z"
      },
      {
        "duration": 7,
        "start_time": "2024-07-19T19:05:49.160Z"
      },
      {
        "duration": 35,
        "start_time": "2024-07-19T19:05:49.169Z"
      },
      {
        "duration": 3,
        "start_time": "2024-07-19T19:05:49.206Z"
      },
      {
        "duration": 9,
        "start_time": "2024-07-19T19:05:49.211Z"
      },
      {
        "duration": 4,
        "start_time": "2024-07-19T19:05:49.222Z"
      },
      {
        "duration": 51,
        "start_time": "2024-07-19T19:05:49.228Z"
      },
      {
        "duration": 12,
        "start_time": "2024-07-19T19:05:49.281Z"
      },
      {
        "duration": 30,
        "start_time": "2024-07-19T19:05:49.295Z"
      },
      {
        "duration": 3,
        "start_time": "2024-07-19T19:05:49.327Z"
      },
      {
        "duration": 11,
        "start_time": "2024-07-19T19:05:49.331Z"
      },
      {
        "duration": 7,
        "start_time": "2024-07-19T19:05:49.343Z"
      },
      {
        "duration": 705,
        "start_time": "2024-07-19T19:05:49.351Z"
      },
      {
        "duration": 113,
        "start_time": "2024-07-19T19:05:50.058Z"
      },
      {
        "duration": 0,
        "start_time": "2024-07-19T19:05:50.173Z"
      },
      {
        "duration": 0,
        "start_time": "2024-07-19T19:05:50.174Z"
      },
      {
        "duration": 0,
        "start_time": "2024-07-19T19:05:50.176Z"
      },
      {
        "duration": 0,
        "start_time": "2024-07-19T19:05:50.177Z"
      },
      {
        "duration": 1,
        "start_time": "2024-07-19T19:05:50.183Z"
      },
      {
        "duration": 0,
        "start_time": "2024-07-19T19:05:50.184Z"
      },
      {
        "duration": 0,
        "start_time": "2024-07-19T19:05:50.185Z"
      },
      {
        "duration": 0,
        "start_time": "2024-07-19T19:05:50.186Z"
      },
      {
        "duration": 0,
        "start_time": "2024-07-19T19:05:50.187Z"
      },
      {
        "duration": 0,
        "start_time": "2024-07-19T19:05:50.188Z"
      },
      {
        "duration": 0,
        "start_time": "2024-07-19T19:05:50.189Z"
      },
      {
        "duration": 0,
        "start_time": "2024-07-19T19:05:50.190Z"
      },
      {
        "duration": 0,
        "start_time": "2024-07-19T19:05:50.191Z"
      },
      {
        "duration": 838,
        "start_time": "2024-07-19T19:06:34.507Z"
      },
      {
        "duration": 272,
        "start_time": "2024-07-19T19:06:48.167Z"
      },
      {
        "duration": 297,
        "start_time": "2024-07-19T19:07:49.176Z"
      },
      {
        "duration": 309,
        "start_time": "2024-07-19T19:08:07.062Z"
      },
      {
        "duration": 262,
        "start_time": "2024-07-19T19:08:17.111Z"
      },
      {
        "duration": 942,
        "start_time": "2024-07-19T19:09:06.416Z"
      },
      {
        "duration": 1218,
        "start_time": "2024-07-19T19:09:20.292Z"
      },
      {
        "duration": 1154,
        "start_time": "2024-07-19T19:09:28.534Z"
      },
      {
        "duration": 1272,
        "start_time": "2024-07-19T19:09:41.492Z"
      },
      {
        "duration": 5420,
        "start_time": "2024-07-19T19:11:12.417Z"
      },
      {
        "duration": 2385,
        "start_time": "2024-07-19T19:11:17.840Z"
      },
      {
        "duration": 518,
        "start_time": "2024-07-19T19:11:20.227Z"
      },
      {
        "duration": 2388,
        "start_time": "2024-07-19T19:11:20.747Z"
      },
      {
        "duration": 2359,
        "start_time": "2024-07-19T19:11:23.138Z"
      },
      {
        "duration": 914,
        "start_time": "2024-07-19T19:11:25.499Z"
      },
      {
        "duration": 149,
        "start_time": "2024-07-19T19:11:26.415Z"
      },
      {
        "duration": 7,
        "start_time": "2024-07-19T19:11:26.566Z"
      },
      {
        "duration": 26,
        "start_time": "2024-07-19T19:11:26.575Z"
      },
      {
        "duration": 2,
        "start_time": "2024-07-19T19:11:26.603Z"
      },
      {
        "duration": 6,
        "start_time": "2024-07-19T19:11:26.607Z"
      },
      {
        "duration": 15,
        "start_time": "2024-07-19T19:11:26.614Z"
      },
      {
        "duration": 57,
        "start_time": "2024-07-19T19:11:26.631Z"
      },
      {
        "duration": 14,
        "start_time": "2024-07-19T19:11:26.691Z"
      },
      {
        "duration": 9,
        "start_time": "2024-07-19T19:11:26.707Z"
      },
      {
        "duration": 3,
        "start_time": "2024-07-19T19:11:26.717Z"
      },
      {
        "duration": 9,
        "start_time": "2024-07-19T19:11:26.722Z"
      },
      {
        "duration": 7,
        "start_time": "2024-07-19T19:11:26.733Z"
      },
      {
        "duration": 764,
        "start_time": "2024-07-19T19:11:26.741Z"
      },
      {
        "duration": 1322,
        "start_time": "2024-07-19T19:11:27.506Z"
      },
      {
        "duration": 275,
        "start_time": "2024-07-19T19:11:28.830Z"
      },
      {
        "duration": 3,
        "start_time": "2024-07-19T19:11:29.107Z"
      },
      {
        "duration": 19,
        "start_time": "2024-07-19T19:11:29.111Z"
      },
      {
        "duration": 377,
        "start_time": "2024-07-19T19:11:29.132Z"
      },
      {
        "duration": 4,
        "start_time": "2024-07-19T19:11:29.510Z"
      },
      {
        "duration": 7,
        "start_time": "2024-07-19T19:11:29.515Z"
      },
      {
        "duration": 44379,
        "start_time": "2024-07-19T19:11:29.523Z"
      },
      {
        "duration": 5,
        "start_time": "2024-07-19T19:12:13.904Z"
      },
      {
        "duration": 11,
        "start_time": "2024-07-19T19:12:13.910Z"
      },
      {
        "duration": 63,
        "start_time": "2024-07-19T19:12:13.922Z"
      },
      {
        "duration": 273,
        "start_time": "2024-07-19T19:12:13.986Z"
      },
      {
        "duration": 397,
        "start_time": "2024-07-19T19:12:14.261Z"
      },
      {
        "duration": 7,
        "start_time": "2024-07-19T19:12:14.660Z"
      },
      {
        "duration": 126,
        "start_time": "2024-07-19T19:14:42.679Z"
      },
      {
        "duration": 14,
        "start_time": "2024-07-19T19:14:51.525Z"
      },
      {
        "duration": 14,
        "start_time": "2024-07-19T19:14:58.667Z"
      },
      {
        "duration": 9,
        "start_time": "2024-07-19T19:15:07.364Z"
      },
      {
        "duration": 9,
        "start_time": "2024-07-19T19:15:32.545Z"
      },
      {
        "duration": 17,
        "start_time": "2024-07-19T19:16:05.075Z"
      },
      {
        "duration": 19,
        "start_time": "2024-07-19T19:16:23.291Z"
      },
      {
        "duration": 32,
        "start_time": "2024-07-19T19:16:33.422Z"
      },
      {
        "duration": 25,
        "start_time": "2024-07-19T19:16:47.431Z"
      },
      {
        "duration": 4787,
        "start_time": "2024-07-19T19:20:49.985Z"
      },
      {
        "duration": 2400,
        "start_time": "2024-07-19T19:20:54.774Z"
      },
      {
        "duration": 3,
        "start_time": "2024-07-19T19:20:57.176Z"
      },
      {
        "duration": 2390,
        "start_time": "2024-07-19T19:20:57.181Z"
      },
      {
        "duration": 2469,
        "start_time": "2024-07-19T19:20:59.573Z"
      },
      {
        "duration": 3,
        "start_time": "2024-07-19T19:21:02.044Z"
      },
      {
        "duration": 49,
        "start_time": "2024-07-19T19:21:02.048Z"
      },
      {
        "duration": 17,
        "start_time": "2024-07-19T19:21:02.102Z"
      },
      {
        "duration": 10,
        "start_time": "2024-07-19T19:21:02.120Z"
      },
      {
        "duration": 10,
        "start_time": "2024-07-19T19:21:02.131Z"
      },
      {
        "duration": 10,
        "start_time": "2024-07-19T19:21:02.142Z"
      },
      {
        "duration": 17,
        "start_time": "2024-07-19T19:21:02.153Z"
      },
      {
        "duration": 91,
        "start_time": "2024-07-19T19:21:02.172Z"
      },
      {
        "duration": 7,
        "start_time": "2024-07-19T19:21:02.265Z"
      },
      {
        "duration": 14,
        "start_time": "2024-07-19T19:21:02.273Z"
      },
      {
        "duration": 7,
        "start_time": "2024-07-19T19:21:02.288Z"
      },
      {
        "duration": 28,
        "start_time": "2024-07-19T19:21:02.296Z"
      },
      {
        "duration": 10,
        "start_time": "2024-07-19T19:21:02.325Z"
      },
      {
        "duration": 558,
        "start_time": "2024-07-19T19:21:02.337Z"
      },
      {
        "duration": 1267,
        "start_time": "2024-07-19T19:21:02.897Z"
      },
      {
        "duration": 317,
        "start_time": "2024-07-19T19:21:04.166Z"
      },
      {
        "duration": 30,
        "start_time": "2024-07-19T19:21:04.485Z"
      },
      {
        "duration": 15,
        "start_time": "2024-07-19T19:21:04.517Z"
      },
      {
        "duration": 369,
        "start_time": "2024-07-19T19:21:04.533Z"
      },
      {
        "duration": 4,
        "start_time": "2024-07-19T19:21:04.904Z"
      },
      {
        "duration": 57,
        "start_time": "2024-07-19T19:21:04.909Z"
      },
      {
        "duration": 4928,
        "start_time": "2024-07-20T03:54:46.456Z"
      },
      {
        "duration": 9300,
        "start_time": "2024-07-20T03:54:51.387Z"
      },
      {
        "duration": 700,
        "start_time": "2024-07-20T03:55:00.689Z"
      },
      {
        "duration": 5903,
        "start_time": "2024-07-20T03:55:01.391Z"
      },
      {
        "duration": 3108,
        "start_time": "2024-07-20T03:55:07.296Z"
      },
      {
        "duration": 842,
        "start_time": "2024-07-20T03:55:10.406Z"
      },
      {
        "duration": 137,
        "start_time": "2024-07-20T03:55:11.249Z"
      },
      {
        "duration": 13,
        "start_time": "2024-07-20T03:55:11.388Z"
      },
      {
        "duration": 19,
        "start_time": "2024-07-20T03:55:11.403Z"
      },
      {
        "duration": 3,
        "start_time": "2024-07-20T03:55:11.423Z"
      },
      {
        "duration": 2,
        "start_time": "2024-07-20T03:55:11.428Z"
      },
      {
        "duration": 4,
        "start_time": "2024-07-20T03:55:11.432Z"
      },
      {
        "duration": 105,
        "start_time": "2024-07-20T03:55:11.437Z"
      },
      {
        "duration": 15,
        "start_time": "2024-07-20T03:55:11.545Z"
      },
      {
        "duration": 35,
        "start_time": "2024-07-20T03:55:11.562Z"
      },
      {
        "duration": 4,
        "start_time": "2024-07-20T03:55:11.599Z"
      },
      {
        "duration": 11,
        "start_time": "2024-07-20T03:55:11.604Z"
      },
      {
        "duration": 6,
        "start_time": "2024-07-20T03:55:11.616Z"
      },
      {
        "duration": 632,
        "start_time": "2024-07-20T03:55:11.624Z"
      },
      {
        "duration": 1191,
        "start_time": "2024-07-20T03:55:12.257Z"
      },
      {
        "duration": 267,
        "start_time": "2024-07-20T03:55:13.449Z"
      },
      {
        "duration": 25,
        "start_time": "2024-07-20T03:55:13.717Z"
      },
      {
        "duration": 12,
        "start_time": "2024-07-20T03:55:13.743Z"
      },
      {
        "duration": 1,
        "start_time": "2024-07-20T03:55:13.756Z"
      },
      {
        "duration": 339,
        "start_time": "2024-07-20T03:55:13.758Z"
      },
      {
        "duration": 3,
        "start_time": "2024-07-20T03:55:14.102Z"
      },
      {
        "duration": 5,
        "start_time": "2024-07-20T03:55:14.106Z"
      },
      {
        "duration": 65697,
        "start_time": "2024-07-20T03:55:14.113Z"
      },
      {
        "duration": 7,
        "start_time": "2024-07-20T03:56:19.812Z"
      },
      {
        "duration": 6,
        "start_time": "2024-07-20T03:56:19.820Z"
      },
      {
        "duration": 85,
        "start_time": "2024-07-20T03:56:19.828Z"
      },
      {
        "duration": 347,
        "start_time": "2024-07-20T03:56:19.914Z"
      },
      {
        "duration": 261,
        "start_time": "2024-07-20T03:56:20.263Z"
      },
      {
        "duration": 8,
        "start_time": "2024-07-20T03:56:20.525Z"
      },
      {
        "duration": 6,
        "start_time": "2024-07-20T04:01:42.167Z"
      },
      {
        "duration": 5,
        "start_time": "2024-07-20T04:01:58.532Z"
      },
      {
        "duration": 306,
        "start_time": "2024-07-20T04:02:30.841Z"
      },
      {
        "duration": 413,
        "start_time": "2024-07-20T04:02:46.211Z"
      },
      {
        "duration": 262,
        "start_time": "2024-07-20T04:02:53.902Z"
      },
      {
        "duration": 66,
        "start_time": "2024-07-20T04:03:40.494Z"
      },
      {
        "duration": 7,
        "start_time": "2024-07-20T04:03:41.456Z"
      },
      {
        "duration": 4,
        "start_time": "2024-07-20T04:03:48.571Z"
      },
      {
        "duration": 241,
        "start_time": "2024-07-20T04:03:50.217Z"
      },
      {
        "duration": 243,
        "start_time": "2024-07-20T04:05:26.770Z"
      },
      {
        "duration": 226,
        "start_time": "2024-07-20T04:06:08.717Z"
      },
      {
        "duration": 4831,
        "start_time": "2024-07-20T04:08:32.612Z"
      },
      {
        "duration": 2396,
        "start_time": "2024-07-20T04:08:37.445Z"
      },
      {
        "duration": 504,
        "start_time": "2024-07-20T04:08:39.843Z"
      },
      {
        "duration": 2413,
        "start_time": "2024-07-20T04:08:40.349Z"
      },
      {
        "duration": 2420,
        "start_time": "2024-07-20T04:08:42.763Z"
      },
      {
        "duration": 816,
        "start_time": "2024-07-20T04:08:45.185Z"
      },
      {
        "duration": 125,
        "start_time": "2024-07-20T04:08:46.002Z"
      },
      {
        "duration": 7,
        "start_time": "2024-07-20T04:08:46.128Z"
      },
      {
        "duration": 16,
        "start_time": "2024-07-20T04:08:46.136Z"
      },
      {
        "duration": 2,
        "start_time": "2024-07-20T04:08:46.155Z"
      },
      {
        "duration": 3,
        "start_time": "2024-07-20T04:08:46.158Z"
      },
      {
        "duration": 6,
        "start_time": "2024-07-20T04:08:46.162Z"
      },
      {
        "duration": 53,
        "start_time": "2024-07-20T04:08:46.169Z"
      },
      {
        "duration": 11,
        "start_time": "2024-07-20T04:08:46.224Z"
      },
      {
        "duration": 7,
        "start_time": "2024-07-20T04:08:46.236Z"
      },
      {
        "duration": 4,
        "start_time": "2024-07-20T04:08:46.245Z"
      },
      {
        "duration": 77,
        "start_time": "2024-07-20T04:08:46.250Z"
      },
      {
        "duration": 7,
        "start_time": "2024-07-20T04:08:46.329Z"
      },
      {
        "duration": 603,
        "start_time": "2024-07-20T04:08:46.337Z"
      },
      {
        "duration": 1110,
        "start_time": "2024-07-20T04:08:46.941Z"
      },
      {
        "duration": 213,
        "start_time": "2024-07-20T04:08:48.052Z"
      },
      {
        "duration": 271,
        "start_time": "2024-07-20T04:08:48.266Z"
      },
      {
        "duration": 23,
        "start_time": "2024-07-20T04:08:48.539Z"
      },
      {
        "duration": 11,
        "start_time": "2024-07-20T04:08:48.563Z"
      },
      {
        "duration": 9,
        "start_time": "2024-07-20T04:08:48.575Z"
      },
      {
        "duration": 342,
        "start_time": "2024-07-20T04:08:48.585Z"
      },
      {
        "duration": 3,
        "start_time": "2024-07-20T04:08:48.928Z"
      },
      {
        "duration": 4,
        "start_time": "2024-07-20T04:08:48.934Z"
      },
      {
        "duration": 63074,
        "start_time": "2024-07-20T04:08:48.939Z"
      },
      {
        "duration": 4,
        "start_time": "2024-07-20T04:09:52.015Z"
      },
      {
        "duration": 72,
        "start_time": "2024-07-20T04:09:52.020Z"
      },
      {
        "duration": 109,
        "start_time": "2024-07-20T04:09:52.093Z"
      },
      {
        "duration": 270,
        "start_time": "2024-07-20T04:09:52.204Z"
      },
      {
        "duration": 284,
        "start_time": "2024-07-20T04:09:52.476Z"
      },
      {
        "duration": 7,
        "start_time": "2024-07-20T04:09:52.761Z"
      },
      {
        "duration": 4831,
        "start_time": "2024-07-20T04:21:23.238Z"
      },
      {
        "duration": 2422,
        "start_time": "2024-07-20T04:21:28.070Z"
      },
      {
        "duration": 521,
        "start_time": "2024-07-20T04:21:30.494Z"
      },
      {
        "duration": 2488,
        "start_time": "2024-07-20T04:21:31.017Z"
      },
      {
        "duration": 2444,
        "start_time": "2024-07-20T04:21:33.507Z"
      },
      {
        "duration": 864,
        "start_time": "2024-07-20T04:21:35.953Z"
      },
      {
        "duration": 124,
        "start_time": "2024-07-20T04:21:36.819Z"
      },
      {
        "duration": 6,
        "start_time": "2024-07-20T04:21:36.944Z"
      },
      {
        "duration": 41,
        "start_time": "2024-07-20T04:21:36.951Z"
      },
      {
        "duration": 3,
        "start_time": "2024-07-20T04:21:36.993Z"
      },
      {
        "duration": 12,
        "start_time": "2024-07-20T04:21:36.997Z"
      },
      {
        "duration": 5,
        "start_time": "2024-07-20T04:21:37.010Z"
      },
      {
        "duration": 49,
        "start_time": "2024-07-20T04:21:37.016Z"
      },
      {
        "duration": 10,
        "start_time": "2024-07-20T04:21:37.068Z"
      },
      {
        "duration": 10,
        "start_time": "2024-07-20T04:21:37.079Z"
      },
      {
        "duration": 2,
        "start_time": "2024-07-20T04:21:37.091Z"
      },
      {
        "duration": 7,
        "start_time": "2024-07-20T04:21:37.094Z"
      },
      {
        "duration": 7,
        "start_time": "2024-07-20T04:21:37.102Z"
      },
      {
        "duration": 657,
        "start_time": "2024-07-20T04:21:37.111Z"
      },
      {
        "duration": 1137,
        "start_time": "2024-07-20T04:21:37.770Z"
      },
      {
        "duration": 237,
        "start_time": "2024-07-20T04:21:38.908Z"
      },
      {
        "duration": 254,
        "start_time": "2024-07-20T04:21:39.147Z"
      },
      {
        "duration": 24,
        "start_time": "2024-07-20T04:21:39.403Z"
      },
      {
        "duration": 12,
        "start_time": "2024-07-20T04:21:39.428Z"
      },
      {
        "duration": 2,
        "start_time": "2024-07-20T04:21:39.441Z"
      },
      {
        "duration": 346,
        "start_time": "2024-07-20T04:21:39.444Z"
      },
      {
        "duration": 11,
        "start_time": "2024-07-20T04:21:39.792Z"
      },
      {
        "duration": 7,
        "start_time": "2024-07-20T04:21:39.804Z"
      },
      {
        "duration": 73975,
        "start_time": "2024-07-20T04:21:39.812Z"
      },
      {
        "duration": 3,
        "start_time": "2024-07-20T04:22:53.788Z"
      },
      {
        "duration": 5,
        "start_time": "2024-07-20T04:22:53.793Z"
      },
      {
        "duration": 8,
        "start_time": "2024-07-20T04:22:53.799Z"
      },
      {
        "duration": 248,
        "start_time": "2024-07-20T04:22:53.809Z"
      },
      {
        "duration": 243,
        "start_time": "2024-07-20T04:22:54.059Z"
      },
      {
        "duration": 5,
        "start_time": "2024-07-20T04:22:54.304Z"
      },
      {
        "duration": 4911,
        "start_time": "2024-07-20T04:34:48.222Z"
      },
      {
        "duration": 2413,
        "start_time": "2024-07-20T04:34:53.135Z"
      },
      {
        "duration": 468,
        "start_time": "2024-07-20T04:34:55.550Z"
      },
      {
        "duration": 2434,
        "start_time": "2024-07-20T04:34:56.019Z"
      },
      {
        "duration": 2573,
        "start_time": "2024-07-20T04:34:58.455Z"
      },
      {
        "duration": 906,
        "start_time": "2024-07-20T04:35:01.029Z"
      },
      {
        "duration": 128,
        "start_time": "2024-07-20T04:35:01.936Z"
      },
      {
        "duration": 9,
        "start_time": "2024-07-20T04:35:02.066Z"
      },
      {
        "duration": 148,
        "start_time": "2024-07-20T04:35:02.076Z"
      },
      {
        "duration": 4,
        "start_time": "2024-07-20T04:35:02.226Z"
      },
      {
        "duration": 28,
        "start_time": "2024-07-20T04:35:02.231Z"
      },
      {
        "duration": 23,
        "start_time": "2024-07-20T04:35:02.260Z"
      },
      {
        "duration": 55,
        "start_time": "2024-07-20T04:35:02.284Z"
      },
      {
        "duration": 11,
        "start_time": "2024-07-20T04:35:02.341Z"
      },
      {
        "duration": 24,
        "start_time": "2024-07-20T04:35:02.353Z"
      },
      {
        "duration": 151,
        "start_time": "2024-07-20T04:35:02.378Z"
      },
      {
        "duration": 32,
        "start_time": "2024-07-20T04:35:02.531Z"
      },
      {
        "duration": 74,
        "start_time": "2024-07-20T04:35:02.564Z"
      },
      {
        "duration": 657,
        "start_time": "2024-07-20T04:35:02.639Z"
      },
      {
        "duration": 1154,
        "start_time": "2024-07-20T04:35:03.297Z"
      },
      {
        "duration": 207,
        "start_time": "2024-07-20T04:35:04.452Z"
      },
      {
        "duration": 272,
        "start_time": "2024-07-20T04:35:04.661Z"
      },
      {
        "duration": 25,
        "start_time": "2024-07-20T04:35:04.934Z"
      },
      {
        "duration": 19,
        "start_time": "2024-07-20T04:35:04.960Z"
      },
      {
        "duration": 21,
        "start_time": "2024-07-20T04:35:04.981Z"
      },
      {
        "duration": 386,
        "start_time": "2024-07-20T04:35:05.003Z"
      },
      {
        "duration": 3,
        "start_time": "2024-07-20T04:35:05.391Z"
      },
      {
        "duration": 21,
        "start_time": "2024-07-20T04:35:05.408Z"
      },
      {
        "duration": 83037,
        "start_time": "2024-07-20T04:35:05.431Z"
      },
      {
        "duration": 3,
        "start_time": "2024-07-20T04:36:28.469Z"
      },
      {
        "duration": 5,
        "start_time": "2024-07-20T04:36:28.474Z"
      },
      {
        "duration": 10,
        "start_time": "2024-07-20T04:36:28.480Z"
      },
      {
        "duration": 251,
        "start_time": "2024-07-20T04:36:28.492Z"
      },
      {
        "duration": 232,
        "start_time": "2024-07-20T04:36:28.744Z"
      },
      {
        "duration": 5,
        "start_time": "2024-07-20T04:36:28.977Z"
      },
      {
        "duration": 5011,
        "start_time": "2024-07-20T04:40:00.156Z"
      },
      {
        "duration": 2437,
        "start_time": "2024-07-20T04:40:05.169Z"
      },
      {
        "duration": 506,
        "start_time": "2024-07-20T04:40:07.608Z"
      },
      {
        "duration": 2483,
        "start_time": "2024-07-20T04:40:08.116Z"
      },
      {
        "duration": 2482,
        "start_time": "2024-07-20T04:40:10.601Z"
      },
      {
        "duration": 839,
        "start_time": "2024-07-20T04:40:13.085Z"
      },
      {
        "duration": 127,
        "start_time": "2024-07-20T04:40:13.926Z"
      },
      {
        "duration": 7,
        "start_time": "2024-07-20T04:40:14.055Z"
      },
      {
        "duration": 25,
        "start_time": "2024-07-20T04:40:14.063Z"
      },
      {
        "duration": 2,
        "start_time": "2024-07-20T04:40:14.090Z"
      },
      {
        "duration": 8,
        "start_time": "2024-07-20T04:40:14.093Z"
      },
      {
        "duration": 12,
        "start_time": "2024-07-20T04:40:14.103Z"
      },
      {
        "duration": 62,
        "start_time": "2024-07-20T04:40:14.116Z"
      },
      {
        "duration": 11,
        "start_time": "2024-07-20T04:40:14.179Z"
      },
      {
        "duration": 12,
        "start_time": "2024-07-20T04:40:14.191Z"
      },
      {
        "duration": 6,
        "start_time": "2024-07-20T04:40:14.204Z"
      },
      {
        "duration": 13,
        "start_time": "2024-07-20T04:40:14.211Z"
      },
      {
        "duration": 7,
        "start_time": "2024-07-20T04:40:14.226Z"
      },
      {
        "duration": 622,
        "start_time": "2024-07-20T04:40:14.234Z"
      },
      {
        "duration": 1124,
        "start_time": "2024-07-20T04:40:14.857Z"
      },
      {
        "duration": 253,
        "start_time": "2024-07-20T04:40:15.983Z"
      },
      {
        "duration": 218,
        "start_time": "2024-07-20T04:40:16.238Z"
      },
      {
        "duration": 24,
        "start_time": "2024-07-20T04:40:16.458Z"
      },
      {
        "duration": 36,
        "start_time": "2024-07-20T04:40:16.483Z"
      },
      {
        "duration": 8,
        "start_time": "2024-07-20T04:40:16.520Z"
      },
      {
        "duration": 349,
        "start_time": "2024-07-20T04:40:16.530Z"
      },
      {
        "duration": 4,
        "start_time": "2024-07-20T04:40:16.880Z"
      },
      {
        "duration": 14,
        "start_time": "2024-07-20T04:40:16.887Z"
      },
      {
        "duration": 82477,
        "start_time": "2024-07-20T04:40:16.903Z"
      },
      {
        "duration": 4,
        "start_time": "2024-07-20T04:41:39.381Z"
      },
      {
        "duration": 25,
        "start_time": "2024-07-20T04:41:39.386Z"
      },
      {
        "duration": 21,
        "start_time": "2024-07-20T04:41:39.412Z"
      },
      {
        "duration": 236,
        "start_time": "2024-07-20T04:41:39.434Z"
      },
      {
        "duration": 310,
        "start_time": "2024-07-20T04:41:39.671Z"
      },
      {
        "duration": 5,
        "start_time": "2024-07-20T04:41:39.982Z"
      },
      {
        "duration": 107,
        "start_time": "2024-07-20T04:45:28.514Z"
      },
      {
        "duration": 4843,
        "start_time": "2024-07-20T04:45:34.359Z"
      },
      {
        "duration": 2394,
        "start_time": "2024-07-20T04:45:39.204Z"
      },
      {
        "duration": 568,
        "start_time": "2024-07-20T04:45:41.599Z"
      },
      {
        "duration": 2406,
        "start_time": "2024-07-20T04:45:42.169Z"
      },
      {
        "duration": 2430,
        "start_time": "2024-07-20T04:45:44.577Z"
      },
      {
        "duration": 832,
        "start_time": "2024-07-20T04:45:47.009Z"
      },
      {
        "duration": 126,
        "start_time": "2024-07-20T04:45:47.843Z"
      },
      {
        "duration": 9,
        "start_time": "2024-07-20T04:45:47.970Z"
      },
      {
        "duration": 27,
        "start_time": "2024-07-20T04:45:47.981Z"
      },
      {
        "duration": 2,
        "start_time": "2024-07-20T04:45:48.010Z"
      },
      {
        "duration": 8,
        "start_time": "2024-07-20T04:45:48.013Z"
      },
      {
        "duration": 5,
        "start_time": "2024-07-20T04:45:48.022Z"
      },
      {
        "duration": 45,
        "start_time": "2024-07-20T04:45:48.028Z"
      },
      {
        "duration": 11,
        "start_time": "2024-07-20T04:45:48.074Z"
      },
      {
        "duration": 114,
        "start_time": "2024-07-20T04:45:48.086Z"
      },
      {
        "duration": 13,
        "start_time": "2024-07-20T04:45:48.201Z"
      },
      {
        "duration": 10,
        "start_time": "2024-07-20T04:45:48.215Z"
      },
      {
        "duration": 6,
        "start_time": "2024-07-20T04:45:48.226Z"
      },
      {
        "duration": 610,
        "start_time": "2024-07-20T04:45:48.234Z"
      },
      {
        "duration": 1108,
        "start_time": "2024-07-20T04:45:48.845Z"
      },
      {
        "duration": 249,
        "start_time": "2024-07-20T04:45:49.954Z"
      },
      {
        "duration": 244,
        "start_time": "2024-07-20T04:45:50.204Z"
      },
      {
        "duration": 38,
        "start_time": "2024-07-20T04:45:50.449Z"
      },
      {
        "duration": 42,
        "start_time": "2024-07-20T04:45:50.501Z"
      },
      {
        "duration": 2,
        "start_time": "2024-07-20T04:45:50.544Z"
      },
      {
        "duration": 115,
        "start_time": "2024-07-20T04:45:50.547Z"
      },
      {
        "duration": 0,
        "start_time": "2024-07-20T04:45:50.664Z"
      },
      {
        "duration": 0,
        "start_time": "2024-07-20T04:45:50.665Z"
      },
      {
        "duration": 0,
        "start_time": "2024-07-20T04:45:50.666Z"
      },
      {
        "duration": 0,
        "start_time": "2024-07-20T04:45:50.666Z"
      },
      {
        "duration": 0,
        "start_time": "2024-07-20T04:45:50.667Z"
      },
      {
        "duration": 0,
        "start_time": "2024-07-20T04:45:50.668Z"
      },
      {
        "duration": 0,
        "start_time": "2024-07-20T04:45:50.669Z"
      },
      {
        "duration": 0,
        "start_time": "2024-07-20T04:45:50.670Z"
      },
      {
        "duration": 0,
        "start_time": "2024-07-20T04:45:50.670Z"
      },
      {
        "duration": 0,
        "start_time": "2024-07-20T04:45:50.671Z"
      },
      {
        "duration": 335,
        "start_time": "2024-07-20T04:47:16.786Z"
      },
      {
        "duration": 5003,
        "start_time": "2024-07-20T04:50:49.725Z"
      },
      {
        "duration": 2455,
        "start_time": "2024-07-20T04:50:54.730Z"
      },
      {
        "duration": 568,
        "start_time": "2024-07-20T04:50:57.187Z"
      },
      {
        "duration": 2517,
        "start_time": "2024-07-20T04:50:57.756Z"
      },
      {
        "duration": 2514,
        "start_time": "2024-07-20T04:51:00.275Z"
      },
      {
        "duration": 876,
        "start_time": "2024-07-20T04:51:02.791Z"
      },
      {
        "duration": 125,
        "start_time": "2024-07-20T04:51:03.669Z"
      },
      {
        "duration": 19,
        "start_time": "2024-07-20T04:51:03.796Z"
      },
      {
        "duration": 17,
        "start_time": "2024-07-20T04:51:03.817Z"
      },
      {
        "duration": 2,
        "start_time": "2024-07-20T04:51:03.835Z"
      },
      {
        "duration": 8,
        "start_time": "2024-07-20T04:51:03.838Z"
      },
      {
        "duration": 13,
        "start_time": "2024-07-20T04:51:03.847Z"
      },
      {
        "duration": 57,
        "start_time": "2024-07-20T04:51:03.861Z"
      },
      {
        "duration": 10,
        "start_time": "2024-07-20T04:51:03.920Z"
      },
      {
        "duration": 11,
        "start_time": "2024-07-20T04:51:03.931Z"
      },
      {
        "duration": 3,
        "start_time": "2024-07-20T04:51:03.943Z"
      },
      {
        "duration": 9,
        "start_time": "2024-07-20T04:51:03.947Z"
      },
      {
        "duration": 5,
        "start_time": "2024-07-20T04:51:03.957Z"
      },
      {
        "duration": 685,
        "start_time": "2024-07-20T04:51:03.963Z"
      },
      {
        "duration": 1166,
        "start_time": "2024-07-20T04:51:04.650Z"
      },
      {
        "duration": 236,
        "start_time": "2024-07-20T04:51:05.818Z"
      },
      {
        "duration": 248,
        "start_time": "2024-07-20T04:51:06.056Z"
      },
      {
        "duration": 43,
        "start_time": "2024-07-20T04:51:06.316Z"
      },
      {
        "duration": 15,
        "start_time": "2024-07-20T04:51:06.360Z"
      },
      {
        "duration": 16,
        "start_time": "2024-07-20T04:51:06.376Z"
      },
      {
        "duration": 354,
        "start_time": "2024-07-20T04:51:06.394Z"
      },
      {
        "duration": 3,
        "start_time": "2024-07-20T04:51:06.749Z"
      },
      {
        "duration": 6,
        "start_time": "2024-07-20T04:51:06.753Z"
      },
      {
        "duration": 899684,
        "start_time": "2024-07-20T04:51:06.760Z"
      },
      {
        "duration": 4,
        "start_time": "2024-07-20T05:06:06.445Z"
      },
      {
        "duration": 4,
        "start_time": "2024-07-20T05:06:06.450Z"
      },
      {
        "duration": 9,
        "start_time": "2024-07-20T05:06:06.455Z"
      },
      {
        "duration": 249,
        "start_time": "2024-07-20T05:06:06.465Z"
      },
      {
        "duration": 255,
        "start_time": "2024-07-20T05:06:06.716Z"
      },
      {
        "duration": 5,
        "start_time": "2024-07-20T05:06:06.972Z"
      },
      {
        "duration": 63,
        "start_time": "2024-07-20T05:07:20.288Z"
      },
      {
        "duration": 65,
        "start_time": "2024-07-20T05:07:59.155Z"
      },
      {
        "duration": 66,
        "start_time": "2024-07-20T05:08:14.484Z"
      },
      {
        "duration": 91,
        "start_time": "2024-07-20T05:08:50.912Z"
      },
      {
        "duration": 3,
        "start_time": "2024-07-20T05:09:10.132Z"
      },
      {
        "duration": 66,
        "start_time": "2024-07-20T05:09:22.665Z"
      },
      {
        "duration": 61,
        "start_time": "2024-07-20T05:09:32.186Z"
      },
      {
        "duration": 60,
        "start_time": "2024-07-20T05:09:48.081Z"
      },
      {
        "duration": 4,
        "start_time": "2024-07-20T05:10:16.812Z"
      },
      {
        "duration": 7268,
        "start_time": "2024-07-20T05:11:06.989Z"
      },
      {
        "duration": 2586,
        "start_time": "2024-07-20T05:11:14.259Z"
      },
      {
        "duration": 489,
        "start_time": "2024-07-20T05:11:16.847Z"
      },
      {
        "duration": 2559,
        "start_time": "2024-07-20T05:11:17.338Z"
      },
      {
        "duration": 2514,
        "start_time": "2024-07-20T05:11:19.899Z"
      },
      {
        "duration": 843,
        "start_time": "2024-07-20T05:11:22.416Z"
      },
      {
        "duration": 126,
        "start_time": "2024-07-20T05:11:23.260Z"
      },
      {
        "duration": 6,
        "start_time": "2024-07-20T05:11:23.387Z"
      },
      {
        "duration": 71,
        "start_time": "2024-07-20T05:11:23.395Z"
      },
      {
        "duration": 13,
        "start_time": "2024-07-20T05:11:23.468Z"
      },
      {
        "duration": 9,
        "start_time": "2024-07-20T05:11:23.482Z"
      },
      {
        "duration": 5,
        "start_time": "2024-07-20T05:11:23.492Z"
      },
      {
        "duration": 48,
        "start_time": "2024-07-20T05:11:23.498Z"
      },
      {
        "duration": 11,
        "start_time": "2024-07-20T05:11:23.547Z"
      },
      {
        "duration": 9,
        "start_time": "2024-07-20T05:11:23.559Z"
      },
      {
        "duration": 3,
        "start_time": "2024-07-20T05:11:23.569Z"
      },
      {
        "duration": 16,
        "start_time": "2024-07-20T05:11:23.573Z"
      },
      {
        "duration": 8,
        "start_time": "2024-07-20T05:11:23.590Z"
      },
      {
        "duration": 673,
        "start_time": "2024-07-20T05:11:23.599Z"
      },
      {
        "duration": 1179,
        "start_time": "2024-07-20T05:11:24.273Z"
      },
      {
        "duration": 201,
        "start_time": "2024-07-20T05:11:25.453Z"
      },
      {
        "duration": 312,
        "start_time": "2024-07-20T05:11:25.655Z"
      },
      {
        "duration": 459,
        "start_time": "2024-07-20T05:11:25.968Z"
      },
      {
        "duration": 38,
        "start_time": "2024-07-20T05:11:26.428Z"
      },
      {
        "duration": 15,
        "start_time": "2024-07-20T05:11:26.467Z"
      },
      {
        "duration": 330,
        "start_time": "2024-07-20T05:11:26.483Z"
      },
      {
        "duration": 4,
        "start_time": "2024-07-20T05:11:26.814Z"
      },
      {
        "duration": 4,
        "start_time": "2024-07-20T05:11:26.820Z"
      },
      {
        "duration": 292780,
        "start_time": "2024-07-20T05:11:26.825Z"
      },
      {
        "duration": 6,
        "start_time": "2024-07-20T05:16:19.606Z"
      },
      {
        "duration": 26,
        "start_time": "2024-07-20T05:16:19.613Z"
      },
      {
        "duration": 23,
        "start_time": "2024-07-20T05:16:19.640Z"
      },
      {
        "duration": 281,
        "start_time": "2024-07-20T05:16:19.667Z"
      },
      {
        "duration": 255,
        "start_time": "2024-07-20T05:16:19.949Z"
      },
      {
        "duration": 3,
        "start_time": "2024-07-20T05:16:20.205Z"
      },
      {
        "duration": 87,
        "start_time": "2024-07-20T05:16:20.209Z"
      },
      {
        "duration": 19,
        "start_time": "2024-07-20T05:16:20.298Z"
      },
      {
        "duration": 435,
        "start_time": "2024-07-20T05:16:45.888Z"
      },
      {
        "duration": 337,
        "start_time": "2024-07-20T05:17:01.490Z"
      },
      {
        "duration": 330,
        "start_time": "2024-07-20T05:17:29.245Z"
      },
      {
        "duration": 345,
        "start_time": "2024-07-20T05:17:42.312Z"
      },
      {
        "duration": 309,
        "start_time": "2024-07-20T05:17:53.513Z"
      },
      {
        "duration": 312,
        "start_time": "2024-07-20T05:18:00.854Z"
      },
      {
        "duration": 4946,
        "start_time": "2024-07-20T05:23:45.620Z"
      },
      {
        "duration": 2444,
        "start_time": "2024-07-20T05:23:50.568Z"
      },
      {
        "duration": 495,
        "start_time": "2024-07-20T05:23:53.014Z"
      },
      {
        "duration": 2423,
        "start_time": "2024-07-20T05:23:53.510Z"
      },
      {
        "duration": 2455,
        "start_time": "2024-07-20T05:23:55.936Z"
      },
      {
        "duration": 829,
        "start_time": "2024-07-20T05:23:58.393Z"
      },
      {
        "duration": 131,
        "start_time": "2024-07-20T05:23:59.223Z"
      },
      {
        "duration": 6,
        "start_time": "2024-07-20T05:23:59.356Z"
      },
      {
        "duration": 26,
        "start_time": "2024-07-20T05:23:59.363Z"
      },
      {
        "duration": 3,
        "start_time": "2024-07-20T05:23:59.390Z"
      },
      {
        "duration": 12,
        "start_time": "2024-07-20T05:23:59.394Z"
      },
      {
        "duration": 11,
        "start_time": "2024-07-20T05:23:59.407Z"
      },
      {
        "duration": 49,
        "start_time": "2024-07-20T05:23:59.419Z"
      },
      {
        "duration": 10,
        "start_time": "2024-07-20T05:23:59.471Z"
      },
      {
        "duration": 39,
        "start_time": "2024-07-20T05:23:59.482Z"
      },
      {
        "duration": 3,
        "start_time": "2024-07-20T05:23:59.522Z"
      },
      {
        "duration": 20,
        "start_time": "2024-07-20T05:23:59.525Z"
      },
      {
        "duration": 14,
        "start_time": "2024-07-20T05:23:59.546Z"
      },
      {
        "duration": 723,
        "start_time": "2024-07-20T05:23:59.561Z"
      },
      {
        "duration": 1128,
        "start_time": "2024-07-20T05:24:00.285Z"
      },
      {
        "duration": 235,
        "start_time": "2024-07-20T05:24:01.414Z"
      },
      {
        "duration": 208,
        "start_time": "2024-07-20T05:24:01.650Z"
      },
      {
        "duration": 504,
        "start_time": "2024-07-20T05:24:01.860Z"
      },
      {
        "duration": 4,
        "start_time": "2024-07-20T05:24:02.365Z"
      },
      {
        "duration": 67,
        "start_time": "2024-07-20T05:24:02.370Z"
      },
      {
        "duration": 430,
        "start_time": "2024-07-20T05:24:02.439Z"
      },
      {
        "duration": 3,
        "start_time": "2024-07-20T05:24:02.871Z"
      },
      {
        "duration": 29,
        "start_time": "2024-07-20T05:24:02.875Z"
      },
      {
        "duration": 93475,
        "start_time": "2024-07-20T05:24:02.906Z"
      },
      {
        "duration": 3,
        "start_time": "2024-07-20T05:25:36.382Z"
      },
      {
        "duration": 18,
        "start_time": "2024-07-20T05:25:36.386Z"
      },
      {
        "duration": 12,
        "start_time": "2024-07-20T05:25:36.405Z"
      },
      {
        "duration": 309,
        "start_time": "2024-07-20T05:25:36.418Z"
      },
      {
        "duration": 117,
        "start_time": "2024-07-20T05:25:36.728Z"
      },
      {
        "duration": 0,
        "start_time": "2024-07-20T05:25:36.846Z"
      },
      {
        "duration": 0,
        "start_time": "2024-07-20T05:25:36.847Z"
      },
      {
        "duration": 0,
        "start_time": "2024-07-20T05:25:36.848Z"
      },
      {
        "duration": 3,
        "start_time": "2024-07-20T05:26:10.715Z"
      },
      {
        "duration": 4,
        "start_time": "2024-07-20T05:26:11.135Z"
      },
      {
        "duration": 4846,
        "start_time": "2024-07-20T05:27:17.101Z"
      },
      {
        "duration": 2410,
        "start_time": "2024-07-20T05:27:21.949Z"
      },
      {
        "duration": 458,
        "start_time": "2024-07-20T05:27:24.361Z"
      },
      {
        "duration": 2428,
        "start_time": "2024-07-20T05:27:24.821Z"
      },
      {
        "duration": 2461,
        "start_time": "2024-07-20T05:27:27.251Z"
      },
      {
        "duration": 804,
        "start_time": "2024-07-20T05:27:29.714Z"
      },
      {
        "duration": 124,
        "start_time": "2024-07-20T05:27:30.519Z"
      },
      {
        "duration": 62,
        "start_time": "2024-07-20T05:27:30.644Z"
      },
      {
        "duration": 238,
        "start_time": "2024-07-20T05:27:30.707Z"
      },
      {
        "duration": 76,
        "start_time": "2024-07-20T05:27:30.946Z"
      },
      {
        "duration": 30,
        "start_time": "2024-07-20T05:27:31.023Z"
      },
      {
        "duration": 50,
        "start_time": "2024-07-20T05:27:31.054Z"
      },
      {
        "duration": 91,
        "start_time": "2024-07-20T05:27:31.105Z"
      },
      {
        "duration": 32,
        "start_time": "2024-07-20T05:27:31.199Z"
      },
      {
        "duration": 43,
        "start_time": "2024-07-20T05:27:31.233Z"
      },
      {
        "duration": 31,
        "start_time": "2024-07-20T05:27:31.277Z"
      },
      {
        "duration": 42,
        "start_time": "2024-07-20T05:27:31.309Z"
      },
      {
        "duration": 44,
        "start_time": "2024-07-20T05:27:31.352Z"
      },
      {
        "duration": 654,
        "start_time": "2024-07-20T05:27:31.398Z"
      },
      {
        "duration": 1100,
        "start_time": "2024-07-20T05:27:32.053Z"
      },
      {
        "duration": 247,
        "start_time": "2024-07-20T05:27:33.155Z"
      },
      {
        "duration": 247,
        "start_time": "2024-07-20T05:27:33.403Z"
      },
      {
        "duration": 461,
        "start_time": "2024-07-20T05:27:33.651Z"
      },
      {
        "duration": 3,
        "start_time": "2024-07-20T05:27:34.113Z"
      },
      {
        "duration": 32,
        "start_time": "2024-07-20T05:27:34.117Z"
      },
      {
        "duration": 332,
        "start_time": "2024-07-20T05:27:34.151Z"
      },
      {
        "duration": 3,
        "start_time": "2024-07-20T05:27:34.485Z"
      },
      {
        "duration": 13,
        "start_time": "2024-07-20T05:27:34.489Z"
      },
      {
        "duration": 4832,
        "start_time": "2024-07-20T05:28:34.757Z"
      },
      {
        "duration": 2974,
        "start_time": "2024-07-20T05:28:39.592Z"
      },
      {
        "duration": 547,
        "start_time": "2024-07-20T05:28:42.568Z"
      },
      {
        "duration": 2394,
        "start_time": "2024-07-20T05:28:43.116Z"
      },
      {
        "duration": 2452,
        "start_time": "2024-07-20T05:28:45.513Z"
      },
      {
        "duration": 831,
        "start_time": "2024-07-20T05:28:47.966Z"
      },
      {
        "duration": 122,
        "start_time": "2024-07-20T05:28:48.798Z"
      },
      {
        "duration": 8,
        "start_time": "2024-07-20T05:28:48.921Z"
      },
      {
        "duration": 38,
        "start_time": "2024-07-20T05:28:48.931Z"
      },
      {
        "duration": 2,
        "start_time": "2024-07-20T05:28:48.971Z"
      },
      {
        "duration": 3,
        "start_time": "2024-07-20T05:28:48.974Z"
      },
      {
        "duration": 4,
        "start_time": "2024-07-20T05:28:48.979Z"
      },
      {
        "duration": 45,
        "start_time": "2024-07-20T05:28:48.985Z"
      },
      {
        "duration": 11,
        "start_time": "2024-07-20T05:28:49.032Z"
      },
      {
        "duration": 9,
        "start_time": "2024-07-20T05:28:49.044Z"
      },
      {
        "duration": 2,
        "start_time": "2024-07-20T05:28:49.055Z"
      },
      {
        "duration": 7,
        "start_time": "2024-07-20T05:28:49.058Z"
      },
      {
        "duration": 6,
        "start_time": "2024-07-20T05:28:49.066Z"
      },
      {
        "duration": 683,
        "start_time": "2024-07-20T05:28:49.073Z"
      },
      {
        "duration": 1092,
        "start_time": "2024-07-20T05:28:49.757Z"
      },
      {
        "duration": 225,
        "start_time": "2024-07-20T05:28:50.851Z"
      },
      {
        "duration": 280,
        "start_time": "2024-07-20T05:28:51.078Z"
      },
      {
        "duration": 3,
        "start_time": "2024-07-20T05:28:51.359Z"
      },
      {
        "duration": 34,
        "start_time": "2024-07-20T05:28:51.363Z"
      },
      {
        "duration": 320,
        "start_time": "2024-07-20T05:28:51.398Z"
      },
      {
        "duration": 3,
        "start_time": "2024-07-20T05:28:51.719Z"
      },
      {
        "duration": 6,
        "start_time": "2024-07-20T05:28:51.723Z"
      },
      {
        "duration": 85601,
        "start_time": "2024-07-20T05:28:51.730Z"
      },
      {
        "duration": 4,
        "start_time": "2024-07-20T05:30:17.333Z"
      },
      {
        "duration": 10,
        "start_time": "2024-07-20T05:30:17.338Z"
      },
      {
        "duration": 8,
        "start_time": "2024-07-20T05:30:17.349Z"
      },
      {
        "duration": 352,
        "start_time": "2024-07-20T05:30:17.358Z"
      },
      {
        "duration": 3,
        "start_time": "2024-07-20T05:30:17.711Z"
      },
      {
        "duration": 9,
        "start_time": "2024-07-20T05:30:17.717Z"
      },
      {
        "duration": 10,
        "start_time": "2024-07-20T05:30:17.727Z"
      },
      {
        "duration": 4850,
        "start_time": "2024-07-20T05:32:38.724Z"
      },
      {
        "duration": 2417,
        "start_time": "2024-07-20T05:32:43.576Z"
      },
      {
        "duration": 515,
        "start_time": "2024-07-20T05:32:45.995Z"
      },
      {
        "duration": 2414,
        "start_time": "2024-07-20T05:32:46.511Z"
      },
      {
        "duration": 2432,
        "start_time": "2024-07-20T05:32:48.928Z"
      },
      {
        "duration": 859,
        "start_time": "2024-07-20T05:32:51.362Z"
      },
      {
        "duration": 127,
        "start_time": "2024-07-20T05:32:52.222Z"
      },
      {
        "duration": 89,
        "start_time": "2024-07-20T05:32:52.350Z"
      },
      {
        "duration": 24,
        "start_time": "2024-07-20T05:32:52.441Z"
      },
      {
        "duration": 13,
        "start_time": "2024-07-20T05:32:52.466Z"
      },
      {
        "duration": 10,
        "start_time": "2024-07-20T05:32:52.480Z"
      },
      {
        "duration": 17,
        "start_time": "2024-07-20T05:32:52.491Z"
      },
      {
        "duration": 64,
        "start_time": "2024-07-20T05:32:52.509Z"
      },
      {
        "duration": 14,
        "start_time": "2024-07-20T05:32:52.575Z"
      },
      {
        "duration": 16,
        "start_time": "2024-07-20T05:32:52.590Z"
      },
      {
        "duration": 17,
        "start_time": "2024-07-20T05:32:52.608Z"
      },
      {
        "duration": 54,
        "start_time": "2024-07-20T05:32:52.626Z"
      },
      {
        "duration": 27,
        "start_time": "2024-07-20T05:32:52.681Z"
      },
      {
        "duration": 763,
        "start_time": "2024-07-20T05:32:52.709Z"
      },
      {
        "duration": 1116,
        "start_time": "2024-07-20T05:32:53.474Z"
      },
      {
        "duration": 252,
        "start_time": "2024-07-20T05:32:54.592Z"
      },
      {
        "duration": 219,
        "start_time": "2024-07-20T05:32:54.845Z"
      },
      {
        "duration": 3,
        "start_time": "2024-07-20T05:32:55.065Z"
      },
      {
        "duration": 59,
        "start_time": "2024-07-20T05:32:55.070Z"
      },
      {
        "duration": 347,
        "start_time": "2024-07-20T05:32:55.130Z"
      },
      {
        "duration": 3,
        "start_time": "2024-07-20T05:32:55.478Z"
      },
      {
        "duration": 54,
        "start_time": "2024-07-20T05:32:55.482Z"
      },
      {
        "duration": 82581,
        "start_time": "2024-07-20T05:32:55.538Z"
      },
      {
        "duration": 4,
        "start_time": "2024-07-20T05:34:18.120Z"
      },
      {
        "duration": 12,
        "start_time": "2024-07-20T05:34:18.125Z"
      },
      {
        "duration": 165,
        "start_time": "2024-07-20T05:34:18.138Z"
      },
      {
        "duration": 328,
        "start_time": "2024-07-20T05:34:18.305Z"
      },
      {
        "duration": 3,
        "start_time": "2024-07-20T05:34:18.635Z"
      },
      {
        "duration": 7,
        "start_time": "2024-07-20T05:34:18.640Z"
      },
      {
        "duration": 11,
        "start_time": "2024-07-20T05:34:18.649Z"
      },
      {
        "duration": 4865,
        "start_time": "2024-07-20T05:35:00.255Z"
      },
      {
        "duration": 2446,
        "start_time": "2024-07-20T05:35:05.122Z"
      },
      {
        "duration": 531,
        "start_time": "2024-07-20T05:35:07.570Z"
      },
      {
        "duration": 2439,
        "start_time": "2024-07-20T05:35:08.103Z"
      },
      {
        "duration": 2436,
        "start_time": "2024-07-20T05:35:10.545Z"
      },
      {
        "duration": 840,
        "start_time": "2024-07-20T05:35:12.982Z"
      },
      {
        "duration": 121,
        "start_time": "2024-07-20T05:35:13.823Z"
      },
      {
        "duration": 6,
        "start_time": "2024-07-20T05:35:13.946Z"
      },
      {
        "duration": 22,
        "start_time": "2024-07-20T05:35:13.953Z"
      },
      {
        "duration": 2,
        "start_time": "2024-07-20T05:35:13.976Z"
      },
      {
        "duration": 5,
        "start_time": "2024-07-20T05:35:13.979Z"
      },
      {
        "duration": 8,
        "start_time": "2024-07-20T05:35:13.985Z"
      },
      {
        "duration": 46,
        "start_time": "2024-07-20T05:35:13.995Z"
      },
      {
        "duration": 11,
        "start_time": "2024-07-20T05:35:14.043Z"
      },
      {
        "duration": 7,
        "start_time": "2024-07-20T05:35:14.055Z"
      },
      {
        "duration": 4,
        "start_time": "2024-07-20T05:35:14.063Z"
      },
      {
        "duration": 7,
        "start_time": "2024-07-20T05:35:14.068Z"
      },
      {
        "duration": 6,
        "start_time": "2024-07-20T05:35:14.076Z"
      },
      {
        "duration": 661,
        "start_time": "2024-07-20T05:35:14.083Z"
      },
      {
        "duration": 1138,
        "start_time": "2024-07-20T05:35:14.745Z"
      },
      {
        "duration": 247,
        "start_time": "2024-07-20T05:35:15.884Z"
      },
      {
        "duration": 232,
        "start_time": "2024-07-20T05:35:16.132Z"
      },
      {
        "duration": 3,
        "start_time": "2024-07-20T05:35:16.366Z"
      },
      {
        "duration": 38,
        "start_time": "2024-07-20T05:35:16.371Z"
      },
      {
        "duration": 344,
        "start_time": "2024-07-20T05:35:16.410Z"
      },
      {
        "duration": 3,
        "start_time": "2024-07-20T05:35:16.755Z"
      },
      {
        "duration": 51,
        "start_time": "2024-07-20T05:35:16.759Z"
      },
      {
        "duration": 4627,
        "start_time": "2024-07-20T07:11:25.093Z"
      },
      {
        "duration": 8406,
        "start_time": "2024-07-20T07:11:29.723Z"
      },
      {
        "duration": 571,
        "start_time": "2024-07-20T07:11:38.131Z"
      },
      {
        "duration": 5480,
        "start_time": "2024-07-20T07:11:38.703Z"
      },
      {
        "duration": 3265,
        "start_time": "2024-07-20T07:11:44.185Z"
      },
      {
        "duration": 1945,
        "start_time": "2024-07-20T07:11:47.452Z"
      },
      {
        "duration": 174,
        "start_time": "2024-07-20T07:11:49.399Z"
      },
      {
        "duration": 10,
        "start_time": "2024-07-20T07:11:49.576Z"
      },
      {
        "duration": 30,
        "start_time": "2024-07-20T07:11:49.588Z"
      },
      {
        "duration": 2,
        "start_time": "2024-07-20T07:11:49.620Z"
      },
      {
        "duration": 8,
        "start_time": "2024-07-20T07:11:49.623Z"
      },
      {
        "duration": 6,
        "start_time": "2024-07-20T07:11:49.632Z"
      },
      {
        "duration": 99,
        "start_time": "2024-07-20T07:11:49.639Z"
      },
      {
        "duration": 13,
        "start_time": "2024-07-20T07:11:49.741Z"
      },
      {
        "duration": 10,
        "start_time": "2024-07-20T07:11:49.755Z"
      },
      {
        "duration": 3,
        "start_time": "2024-07-20T07:11:49.767Z"
      },
      {
        "duration": 10,
        "start_time": "2024-07-20T07:11:49.771Z"
      },
      {
        "duration": 8,
        "start_time": "2024-07-20T07:11:49.783Z"
      },
      {
        "duration": 710,
        "start_time": "2024-07-20T07:11:49.792Z"
      },
      {
        "duration": 1259,
        "start_time": "2024-07-20T07:11:50.503Z"
      },
      {
        "duration": 250,
        "start_time": "2024-07-20T07:11:51.763Z"
      },
      {
        "duration": 294,
        "start_time": "2024-07-20T07:11:52.015Z"
      },
      {
        "duration": 4,
        "start_time": "2024-07-20T07:11:52.311Z"
      },
      {
        "duration": 48,
        "start_time": "2024-07-20T07:11:52.317Z"
      },
      {
        "duration": 405,
        "start_time": "2024-07-20T07:11:52.366Z"
      },
      {
        "duration": 4,
        "start_time": "2024-07-20T07:11:52.773Z"
      },
      {
        "duration": 19,
        "start_time": "2024-07-20T07:11:52.779Z"
      },
      {
        "duration": 97867,
        "start_time": "2024-07-20T07:11:52.799Z"
      },
      {
        "duration": 5,
        "start_time": "2024-07-20T07:13:30.668Z"
      },
      {
        "duration": 66,
        "start_time": "2024-07-20T07:13:30.675Z"
      },
      {
        "duration": 52,
        "start_time": "2024-07-20T07:13:30.743Z"
      },
      {
        "duration": 413,
        "start_time": "2024-07-20T07:13:30.797Z"
      },
      {
        "duration": 4,
        "start_time": "2024-07-20T07:13:31.212Z"
      },
      {
        "duration": 128,
        "start_time": "2024-07-20T07:13:31.218Z"
      },
      {
        "duration": 31,
        "start_time": "2024-07-20T07:13:31.347Z"
      },
      {
        "duration": 4,
        "start_time": "2024-07-20T07:16:37.352Z"
      },
      {
        "duration": 322,
        "start_time": "2024-07-20T07:16:43.506Z"
      },
      {
        "duration": 417,
        "start_time": "2024-07-20T07:17:10.532Z"
      },
      {
        "duration": 444,
        "start_time": "2024-07-20T07:18:12.407Z"
      },
      {
        "duration": 13,
        "start_time": "2024-07-20T07:19:13.857Z"
      },
      {
        "duration": 282,
        "start_time": "2024-07-20T07:19:24.095Z"
      },
      {
        "duration": 18,
        "start_time": "2024-07-20T07:19:38.011Z"
      },
      {
        "duration": 8,
        "start_time": "2024-07-20T07:19:55.508Z"
      },
      {
        "duration": 6,
        "start_time": "2024-07-20T07:21:25.291Z"
      },
      {
        "duration": 8,
        "start_time": "2024-07-20T07:21:55.175Z"
      },
      {
        "duration": 14,
        "start_time": "2024-07-20T07:22:43.916Z"
      },
      {
        "duration": 9,
        "start_time": "2024-07-20T07:23:06.772Z"
      },
      {
        "duration": 320,
        "start_time": "2024-07-20T07:24:52.612Z"
      },
      {
        "duration": 318,
        "start_time": "2024-07-20T07:25:23.736Z"
      },
      {
        "duration": 244,
        "start_time": "2024-07-20T07:26:07.980Z"
      },
      {
        "duration": 321,
        "start_time": "2024-07-20T07:26:50.157Z"
      },
      {
        "duration": 327,
        "start_time": "2024-07-20T07:27:20.480Z"
      },
      {
        "duration": 14,
        "start_time": "2024-07-20T07:28:17.260Z"
      },
      {
        "duration": 8,
        "start_time": "2024-07-20T07:28:31.111Z"
      }
    ],
    "kernelspec": {
      "display_name": "Python 3 (ipykernel)",
      "language": "python",
      "name": "python3"
    },
    "language_info": {
      "codemirror_mode": {
        "name": "ipython",
        "version": 3
      },
      "file_extension": ".py",
      "mimetype": "text/x-python",
      "name": "python",
      "nbconvert_exporter": "python",
      "pygments_lexer": "ipython3",
      "version": "3.9.5"
    },
    "toc": {
      "base_numbering": 1,
      "nav_menu": {},
      "number_sections": true,
      "sideBar": true,
      "skip_h1_title": true,
      "title_cell": "Содержание",
      "title_sidebar": "Contents",
      "toc_cell": true,
      "toc_position": {},
      "toc_section_display": true,
      "toc_window_display": true
    },
    "colab": {
      "provenance": []
    }
  },
  "nbformat": 4,
  "nbformat_minor": 0
}